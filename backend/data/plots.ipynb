{
 "cells": [
  {
   "cell_type": "code",
   "execution_count": 4,
   "metadata": {},
   "outputs": [],
   "source": [
    "import pandas as pd, numpy as np\n",
    "import matplotlib.pyplot as plt\n",
    "import plotly.express as px\n",
    "from collections import defaultdict"
   ]
  },
  {
   "cell_type": "code",
   "execution_count": 5,
   "metadata": {},
   "outputs": [],
   "source": [
    "data = pd.read_csv(\"data.csv\", header = 0)\n",
    "data = data.dropna()"
   ]
  },
  {
   "cell_type": "code",
   "execution_count": 6,
   "metadata": {},
   "outputs": [
    {
     "data": {
      "text/plain": [
       "Job Id              997\n",
       "Experience          997\n",
       "Qualifications      997\n",
       "Salary Range        997\n",
       "location            997\n",
       "Country             997\n",
       "latitude            997\n",
       "longitude           997\n",
       "Work Type           997\n",
       "Company Size        997\n",
       "Job Posting Date    997\n",
       "Preference          997\n",
       "Contact Person      997\n",
       "Contact             997\n",
       "Job Title           997\n",
       "Role                997\n",
       "Job Portal          997\n",
       "Job Description     997\n",
       "Benefits            997\n",
       "skills              997\n",
       "Responsibilities    997\n",
       "Company             997\n",
       "Company Profile     997\n",
       "dtype: int64"
      ]
     },
     "execution_count": 6,
     "metadata": {},
     "output_type": "execute_result"
    }
   ],
   "source": [
    "data.count()"
   ]
  },
  {
   "cell_type": "code",
   "execution_count": 7,
   "metadata": {},
   "outputs": [
    {
     "data": {
      "text/html": [
       "<div>\n",
       "<style scoped>\n",
       "    .dataframe tbody tr th:only-of-type {\n",
       "        vertical-align: middle;\n",
       "    }\n",
       "\n",
       "    .dataframe tbody tr th {\n",
       "        vertical-align: top;\n",
       "    }\n",
       "\n",
       "    .dataframe thead th {\n",
       "        text-align: right;\n",
       "    }\n",
       "</style>\n",
       "<table border=\"1\" class=\"dataframe\">\n",
       "  <thead>\n",
       "    <tr style=\"text-align: right;\">\n",
       "      <th></th>\n",
       "      <th>Job Id</th>\n",
       "      <th>Experience</th>\n",
       "      <th>Qualifications</th>\n",
       "      <th>Salary Range</th>\n",
       "      <th>location</th>\n",
       "      <th>Country</th>\n",
       "      <th>latitude</th>\n",
       "      <th>longitude</th>\n",
       "      <th>Work Type</th>\n",
       "      <th>Company Size</th>\n",
       "      <th>...</th>\n",
       "      <th>Contact</th>\n",
       "      <th>Job Title</th>\n",
       "      <th>Role</th>\n",
       "      <th>Job Portal</th>\n",
       "      <th>Job Description</th>\n",
       "      <th>Benefits</th>\n",
       "      <th>skills</th>\n",
       "      <th>Responsibilities</th>\n",
       "      <th>Company</th>\n",
       "      <th>Company Profile</th>\n",
       "    </tr>\n",
       "  </thead>\n",
       "  <tbody>\n",
       "    <tr>\n",
       "      <th>0</th>\n",
       "      <td>1089843540111562</td>\n",
       "      <td>5 to 15 Years</td>\n",
       "      <td>M.Tech</td>\n",
       "      <td>$59K-$99K</td>\n",
       "      <td>Douglas</td>\n",
       "      <td>Isle of Man</td>\n",
       "      <td>54.2361</td>\n",
       "      <td>-4.5481</td>\n",
       "      <td>Intern</td>\n",
       "      <td>26801</td>\n",
       "      <td>...</td>\n",
       "      <td>001-381-930-7517x737</td>\n",
       "      <td>Digital Marketing Specialist</td>\n",
       "      <td>Social Media Manager</td>\n",
       "      <td>Snagajob</td>\n",
       "      <td>Social Media Managers oversee an organizations...</td>\n",
       "      <td>{'Flexible Spending Accounts (FSAs), Relocatio...</td>\n",
       "      <td>Social media platforms (e.g., Facebook, Twitte...</td>\n",
       "      <td>Manage and grow social media accounts, create ...</td>\n",
       "      <td>Icahn Enterprises</td>\n",
       "      <td>{\"Sector\":\"Diversified\",\"Industry\":\"Diversifie...</td>\n",
       "    </tr>\n",
       "    <tr>\n",
       "      <th>1</th>\n",
       "      <td>398454096642776</td>\n",
       "      <td>2 to 12 Years</td>\n",
       "      <td>BCA</td>\n",
       "      <td>$56K-$116K</td>\n",
       "      <td>Ashgabat</td>\n",
       "      <td>Turkmenistan</td>\n",
       "      <td>38.9697</td>\n",
       "      <td>59.5563</td>\n",
       "      <td>Intern</td>\n",
       "      <td>100340</td>\n",
       "      <td>...</td>\n",
       "      <td>461-509-4216</td>\n",
       "      <td>Web Developer</td>\n",
       "      <td>Frontend Web Developer</td>\n",
       "      <td>Idealist</td>\n",
       "      <td>Frontend Web Developers design and implement u...</td>\n",
       "      <td>{'Health Insurance, Retirement Plans, Paid Tim...</td>\n",
       "      <td>HTML, CSS, JavaScript Frontend frameworks (e.g...</td>\n",
       "      <td>Design and code user interfaces for websites, ...</td>\n",
       "      <td>PNC Financial Services Group</td>\n",
       "      <td>{\"Sector\":\"Financial Services\",\"Industry\":\"Com...</td>\n",
       "    </tr>\n",
       "    <tr>\n",
       "      <th>2</th>\n",
       "      <td>481640072963533</td>\n",
       "      <td>0 to 12 Years</td>\n",
       "      <td>PhD</td>\n",
       "      <td>$61K-$104K</td>\n",
       "      <td>Macao</td>\n",
       "      <td>Macao SAR, China</td>\n",
       "      <td>22.1987</td>\n",
       "      <td>113.5439</td>\n",
       "      <td>Temporary</td>\n",
       "      <td>84525</td>\n",
       "      <td>...</td>\n",
       "      <td>9687619505</td>\n",
       "      <td>Operations Manager</td>\n",
       "      <td>Quality Control Manager</td>\n",
       "      <td>Jobs2Careers</td>\n",
       "      <td>Quality Control Managers establish and enforce...</td>\n",
       "      <td>{'Legal Assistance, Bonuses and Incentive Prog...</td>\n",
       "      <td>Quality control processes and methodologies St...</td>\n",
       "      <td>Establish and enforce quality control standard...</td>\n",
       "      <td>United Services Automobile Assn.</td>\n",
       "      <td>{\"Sector\":\"Insurance\",\"Industry\":\"Insurance: P...</td>\n",
       "    </tr>\n",
       "    <tr>\n",
       "      <th>3</th>\n",
       "      <td>688192671473044</td>\n",
       "      <td>4 to 11 Years</td>\n",
       "      <td>PhD</td>\n",
       "      <td>$65K-$91K</td>\n",
       "      <td>Porto-Novo</td>\n",
       "      <td>Benin</td>\n",
       "      <td>9.3077</td>\n",
       "      <td>2.3158</td>\n",
       "      <td>Full-Time</td>\n",
       "      <td>129896</td>\n",
       "      <td>...</td>\n",
       "      <td>+1-820-643-5431x47576</td>\n",
       "      <td>Network Engineer</td>\n",
       "      <td>Wireless Network Engineer</td>\n",
       "      <td>FlexJobs</td>\n",
       "      <td>Wireless Network Engineers design, implement, ...</td>\n",
       "      <td>{'Transportation Benefits, Professional Develo...</td>\n",
       "      <td>Wireless network design and architecture Wi-Fi...</td>\n",
       "      <td>Design, configure, and optimize wireless netwo...</td>\n",
       "      <td>Hess</td>\n",
       "      <td>{\"Sector\":\"Energy\",\"Industry\":\"Mining, Crude-O...</td>\n",
       "    </tr>\n",
       "    <tr>\n",
       "      <th>4</th>\n",
       "      <td>117057806156508</td>\n",
       "      <td>1 to 12 Years</td>\n",
       "      <td>MBA</td>\n",
       "      <td>$64K-$87K</td>\n",
       "      <td>Santiago</td>\n",
       "      <td>Chile</td>\n",
       "      <td>-35.6751</td>\n",
       "      <td>-71.5429</td>\n",
       "      <td>Intern</td>\n",
       "      <td>53944</td>\n",
       "      <td>...</td>\n",
       "      <td>343.975.4702x9340</td>\n",
       "      <td>Event Manager</td>\n",
       "      <td>Conference Manager</td>\n",
       "      <td>Jobs2Careers</td>\n",
       "      <td>A Conference Manager coordinates and manages c...</td>\n",
       "      <td>{'Flexible Spending Accounts (FSAs), Relocatio...</td>\n",
       "      <td>Event planning Conference logistics Budget man...</td>\n",
       "      <td>Specialize in conference and convention planni...</td>\n",
       "      <td>Cairn Energy</td>\n",
       "      <td>{\"Sector\":\"Energy\",\"Industry\":\"Energy - Oil &amp; ...</td>\n",
       "    </tr>\n",
       "  </tbody>\n",
       "</table>\n",
       "<p>5 rows × 23 columns</p>\n",
       "</div>"
      ],
      "text/plain": [
       "             Job Id     Experience Qualifications Salary Range    location  \\\n",
       "0  1089843540111562  5 to 15 Years         M.Tech    $59K-$99K     Douglas   \n",
       "1   398454096642776  2 to 12 Years            BCA   $56K-$116K    Ashgabat   \n",
       "2   481640072963533  0 to 12 Years            PhD   $61K-$104K       Macao   \n",
       "3   688192671473044  4 to 11 Years            PhD    $65K-$91K  Porto-Novo   \n",
       "4   117057806156508  1 to 12 Years            MBA    $64K-$87K    Santiago   \n",
       "\n",
       "            Country  latitude  longitude  Work Type  Company Size  ...  \\\n",
       "0       Isle of Man   54.2361    -4.5481     Intern         26801  ...   \n",
       "1      Turkmenistan   38.9697    59.5563     Intern        100340  ...   \n",
       "2  Macao SAR, China   22.1987   113.5439  Temporary         84525  ...   \n",
       "3             Benin    9.3077     2.3158  Full-Time        129896  ...   \n",
       "4             Chile  -35.6751   -71.5429     Intern         53944  ...   \n",
       "\n",
       "                 Contact                     Job Title  \\\n",
       "0   001-381-930-7517x737  Digital Marketing Specialist   \n",
       "1           461-509-4216                 Web Developer   \n",
       "2             9687619505            Operations Manager   \n",
       "3  +1-820-643-5431x47576              Network Engineer   \n",
       "4      343.975.4702x9340                 Event Manager   \n",
       "\n",
       "                        Role    Job Portal  \\\n",
       "0       Social Media Manager      Snagajob   \n",
       "1     Frontend Web Developer      Idealist   \n",
       "2    Quality Control Manager  Jobs2Careers   \n",
       "3  Wireless Network Engineer      FlexJobs   \n",
       "4         Conference Manager  Jobs2Careers   \n",
       "\n",
       "                                     Job Description  \\\n",
       "0  Social Media Managers oversee an organizations...   \n",
       "1  Frontend Web Developers design and implement u...   \n",
       "2  Quality Control Managers establish and enforce...   \n",
       "3  Wireless Network Engineers design, implement, ...   \n",
       "4  A Conference Manager coordinates and manages c...   \n",
       "\n",
       "                                            Benefits  \\\n",
       "0  {'Flexible Spending Accounts (FSAs), Relocatio...   \n",
       "1  {'Health Insurance, Retirement Plans, Paid Tim...   \n",
       "2  {'Legal Assistance, Bonuses and Incentive Prog...   \n",
       "3  {'Transportation Benefits, Professional Develo...   \n",
       "4  {'Flexible Spending Accounts (FSAs), Relocatio...   \n",
       "\n",
       "                                              skills  \\\n",
       "0  Social media platforms (e.g., Facebook, Twitte...   \n",
       "1  HTML, CSS, JavaScript Frontend frameworks (e.g...   \n",
       "2  Quality control processes and methodologies St...   \n",
       "3  Wireless network design and architecture Wi-Fi...   \n",
       "4  Event planning Conference logistics Budget man...   \n",
       "\n",
       "                                    Responsibilities  \\\n",
       "0  Manage and grow social media accounts, create ...   \n",
       "1  Design and code user interfaces for websites, ...   \n",
       "2  Establish and enforce quality control standard...   \n",
       "3  Design, configure, and optimize wireless netwo...   \n",
       "4  Specialize in conference and convention planni...   \n",
       "\n",
       "                            Company  \\\n",
       "0                 Icahn Enterprises   \n",
       "1      PNC Financial Services Group   \n",
       "2  United Services Automobile Assn.   \n",
       "3                              Hess   \n",
       "4                      Cairn Energy   \n",
       "\n",
       "                                     Company Profile  \n",
       "0  {\"Sector\":\"Diversified\",\"Industry\":\"Diversifie...  \n",
       "1  {\"Sector\":\"Financial Services\",\"Industry\":\"Com...  \n",
       "2  {\"Sector\":\"Insurance\",\"Industry\":\"Insurance: P...  \n",
       "3  {\"Sector\":\"Energy\",\"Industry\":\"Mining, Crude-O...  \n",
       "4  {\"Sector\":\"Energy\",\"Industry\":\"Energy - Oil & ...  \n",
       "\n",
       "[5 rows x 23 columns]"
      ]
     },
     "execution_count": 7,
     "metadata": {},
     "output_type": "execute_result"
    }
   ],
   "source": [
    "data.head()"
   ]
  },
  {
   "cell_type": "code",
   "execution_count": 8,
   "metadata": {},
   "outputs": [
    {
     "data": {
      "text/plain": [
       "0     $59K-$99K\n",
       "1    $56K-$116K\n",
       "2    $61K-$104K\n",
       "3     $65K-$91K\n",
       "4     $64K-$87K\n",
       "Name: Salary Range, dtype: object"
      ]
     },
     "execution_count": 8,
     "metadata": {},
     "output_type": "execute_result"
    }
   ],
   "source": [
    "salaries = data['Salary Range']\n",
    "salaries.head()"
   ]
  },
  {
   "cell_type": "code",
   "execution_count": 9,
   "metadata": {},
   "outputs": [],
   "source": [
    "def group_salaries(data):\n",
    "  min_salaries = []\n",
    "  max_salaries = []\n",
    "  for sal_range in data:\n",
    "    min_max = sal_range.split(\"-\")\n",
    "    sal_begin = int(min_max[0][1:-1]) * 1000\n",
    "    sal_end = int(min_max[1][1:-1]) * 1000\n",
    "    min_salaries.append(sal_begin)\n",
    "    max_salaries.append(sal_end)\n",
    "\n",
    "  max_salary = max(max_salaries)\n",
    "  min_salary = min(min_salaries)\n",
    "  num_bins = (max_salary - min_salary) // 10000\n",
    "  avgs_per_sal_range = [min_salaries[i] + max_salaries[i] / 2 for i in range(len(min_salaries))]\n",
    "\n",
    "  return avgs_per_sal_range, num_bins"
   ]
  },
  {
   "cell_type": "code",
   "execution_count": 10,
   "metadata": {},
   "outputs": [
    {
     "name": "stderr",
     "output_type": "stream",
     "text": [
      "No artists with labels found to put in legend.  Note that artists whose label start with an underscore are ignored when legend() is called with no argument.\n"
     ]
    },
    {
     "name": "stdout",
     "output_type": "stream",
     "text": [
      "7\n"
     ]
    },
    {
     "data": {
      "text/plain": [
       "<matplotlib.legend.Legend at 0x13f2f4850>"
      ]
     },
     "execution_count": 10,
     "metadata": {},
     "output_type": "execute_result"
    },
    {
     "data": {
      "image/png": "[encoded data removed]",
      "text/plain": [
       "<Figure size 640x480 with 1 Axes>"
      ]
     },
     "metadata": {},
     "output_type": "display_data"
    }
   ],
   "source": [
    "salaries, bins = group_salaries(salaries)\n",
    "print(bins)\n",
    "plt.hist(salaries, bins=bins)\n",
    "plt.xlabel('Salary')\n",
    "plt.ylabel('Frequency')\n",
    "plt.title('Salary Range Histogram')\n",
    "plt.legend()"
   ]
  },
  {
   "cell_type": "code",
   "execution_count": 11,
   "metadata": {},
   "outputs": [],
   "source": [
    "def group_salaries(data):\n",
    "    \"\"\"\n",
    "    Group salaries into < 50k, 50-75k, 75 - 100k, above 100k \n",
    "    TODO look at US income ranges or income distribution later\n",
    "    \"\"\"\n",
    "    groups = {}\n",
    "    selected_data = data[[\"Job Id\", \"Salary Range\"]]\n",
    "\n",
    "    # for id, salary in selected_data:\n",
    "    #     salary = "
   ]
  },
  {
   "cell_type": "code",
   "execution_count": 12,
   "metadata": {},
   "outputs": [
    {
     "data": {
      "application/vnd.plotly.v1+json": {
       "config": {
        "plotlyServerURL": "https://plot.ly"
       },
       "data": [
        {
         "geo": "geo",
         "hovertemplate": "<b>%{hovertext}</b><br><br>Country=Isle of Man<br>latitude=%{lat}<br>longitude=%{lon}<extra></extra>",
         "hovertext": [
          "Isle of Man",
          "Isle of Man",
          "Isle of Man",
          "Isle of Man",
          "Isle of Man",
          "Isle of Man",
          "Isle of Man"
         ],
         "lat": [
          54.2361,
          54.2361,
          54.2361,
          54.2361,
          54.2361,
          54.2361,
          54.2361
         ],
         "legendgroup": "Isle of Man",
         "lon": [
          -4.5481,
          -4.5481,
          -4.5481,
          -4.5481,
          -4.5481,
          -4.5481,
          -4.5481
         ],
         "marker": {
          "color": "#636efa",
          "symbol": "circle"
         },
         "mode": "markers",
         "name": "Isle of Man",
         "showlegend": true,
         "type": "scattergeo"
        },
        {
         "geo": "geo",
         "hovertemplate": "<b>%{hovertext}</b><br><br>Country=Turkmenistan<br>latitude=%{lat}<br>longitude=%{lon}<extra></extra>",
         "hovertext": [
          "Turkmenistan",
          "Turkmenistan",
          "Turkmenistan",
          "Turkmenistan",
          "Turkmenistan",
          "Turkmenistan"
         ],
         "lat": [
          38.9697,
          38.9697,
          38.9697,
          38.9697,
          38.9697,
          38.9697
         ],
         "legendgroup": "Turkmenistan",
         "lon": [
          59.5563,
          59.5563,
          59.5563,
          59.5563,
          59.5563,
          59.5563
         ],
         "marker": {
          "color": "#EF553B",
          "symbol": "circle"
         },
         "mode": "markers",
         "name": "Turkmenistan",
         "showlegend": true,
         "type": "scattergeo"
        },
        {
         "geo": "geo",
         "hovertemplate": "<b>%{hovertext}</b><br><br>Country=Macao SAR, China<br>latitude=%{lat}<br>longitude=%{lon}<extra></extra>",
         "hovertext": [
          "Macao SAR, China",
          "Macao SAR, China",
          "Macao SAR, China",
          "Macao SAR, China",
          "Macao SAR, China"
         ],
         "lat": [
          22.1987,
          22.1987,
          22.1987,
          22.1987,
          22.1987
         ],
         "legendgroup": "Macao SAR, China",
         "lon": [
          113.5439,
          113.5439,
          113.5439,
          113.5439,
          113.5439
         ],
         "marker": {
          "color": "#00cc96",
          "symbol": "circle"
         },
         "mode": "markers",
         "name": "Macao SAR, China",
         "showlegend": true,
         "type": "scattergeo"
        },
        {
         "geo": "geo",
         "hovertemplate": "<b>%{hovertext}</b><br><br>Country=Benin<br>latitude=%{lat}<br>longitude=%{lon}<extra></extra>",
         "hovertext": [
          "Benin",
          "Benin",
          "Benin"
         ],
         "lat": [
          9.3077,
          9.3077,
          9.3077
         ],
         "legendgroup": "Benin",
         "lon": [
          2.3158,
          2.3158,
          2.3158
         ],
         "marker": {
          "color": "#ab63fa",
          "symbol": "circle"
         },
         "mode": "markers",
         "name": "Benin",
         "showlegend": true,
         "type": "scattergeo"
        },
        {
         "geo": "geo",
         "hovertemplate": "<b>%{hovertext}</b><br><br>Country=Chile<br>latitude=%{lat}<br>longitude=%{lon}<extra></extra>",
         "hovertext": [
          "Chile",
          "Chile",
          "Chile",
          "Chile",
          "Chile"
         ],
         "lat": [
          -35.6751,
          -35.6751,
          -35.6751,
          -35.6751,
          -35.6751
         ],
         "legendgroup": "Chile",
         "lon": [
          -71.5429,
          -71.5429,
          -71.5429,
          -71.5429,
          -71.5429
         ],
         "marker": {
          "color": "#FFA15A",
          "symbol": "circle"
         },
         "mode": "markers",
         "name": "Chile",
         "showlegend": true,
         "type": "scattergeo"
        },
        {
         "geo": "geo",
         "hovertemplate": "<b>%{hovertext}</b><br><br>Country=Belgium<br>latitude=%{lat}<br>longitude=%{lon}<extra></extra>",
         "hovertext": [
          "Belgium",
          "Belgium",
          "Belgium",
          "Belgium",
          "Belgium"
         ],
         "lat": [
          50.5039,
          50.5039,
          50.5039,
          50.5039,
          50.5039
         ],
         "legendgroup": "Belgium",
         "lon": [
          4.4699,
          4.4699,
          4.4699,
          4.4699,
          4.4699
         ],
         "marker": {
          "color": "#19d3f3",
          "symbol": "circle"
         },
         "mode": "markers",
         "name": "Belgium",
         "showlegend": true,
         "type": "scattergeo"
        },
        {
         "geo": "geo",
         "hovertemplate": "<b>%{hovertext}</b><br><br>Country=Cayman Islands<br>latitude=%{lat}<br>longitude=%{lon}<extra></extra>",
         "hovertext": [
          "Cayman Islands",
          "Cayman Islands",
          "Cayman Islands",
          "Cayman Islands"
         ],
         "lat": [
          19.3133,
          19.3133,
          19.3133,
          19.3133
         ],
         "legendgroup": "Cayman Islands",
         "lon": [
          -81.2546,
          -81.2546,
          -81.2546,
          -81.2546
         ],
         "marker": {
          "color": "#FF6692",
          "symbol": "circle"
         },
         "mode": "markers",
         "name": "Cayman Islands",
         "showlegend": true,
         "type": "scattergeo"
        },
        {
         "geo": "geo",
         "hovertemplate": "<b>%{hovertext}</b><br><br>Country=Sao Tome and Principe<br>latitude=%{lat}<br>longitude=%{lon}<extra></extra>",
         "hovertext": [
          "Sao Tome and Principe",
          "Sao Tome and Principe",
          "Sao Tome and Principe",
          "Sao Tome and Principe",
          "Sao Tome and Principe",
          "Sao Tome and Principe",
          "Sao Tome and Principe",
          "Sao Tome and Principe",
          "Sao Tome and Principe"
         ],
         "lat": [
          0.1864,
          0.1864,
          0.1864,
          0.1864,
          0.1864,
          0.1864,
          0.1864,
          0.1864,
          0.1864
         ],
         "legendgroup": "Sao Tome and Principe",
         "lon": [
          6.6131,
          6.6131,
          6.6131,
          6.6131,
          6.6131,
          6.6131,
          6.6131,
          6.6131,
          6.6131
         ],
         "marker": {
          "color": "#B6E880",
          "symbol": "circle"
         },
         "mode": "markers",
         "name": "Sao Tome and Principe",
         "showlegend": true,
         "type": "scattergeo"
        },
        {
         "geo": "geo",
         "hovertemplate": "<b>%{hovertext}</b><br><br>Country=Maldives<br>latitude=%{lat}<br>longitude=%{lon}<extra></extra>",
         "hovertext": [
          "Maldives",
          "Maldives",
          "Maldives",
          "Maldives",
          "Maldives",
          "Maldives",
          "Maldives",
          "Maldives",
          "Maldives"
         ],
         "lat": [
          3.2028,
          3.2028,
          3.2028,
          3.2028,
          3.2028,
          3.2028,
          3.2028,
          3.2028,
          3.2028
         ],
         "legendgroup": "Maldives",
         "lon": [
          73.2207,
          73.2207,
          73.2207,
          73.2207,
          73.2207,
          73.2207,
          73.2207,
          73.2207,
          73.2207
         ],
         "marker": {
          "color": "#FF97FF",
          "symbol": "circle"
         },
         "mode": "markers",
         "name": "Maldives",
         "showlegend": true,
         "type": "scattergeo"
        },
        {
         "geo": "geo",
         "hovertemplate": "<b>%{hovertext}</b><br><br>Country=Antigua and Barbuda<br>latitude=%{lat}<br>longitude=%{lon}<extra></extra>",
         "hovertext": [
          "Antigua and Barbuda",
          "Antigua and Barbuda",
          "Antigua and Barbuda",
          "Antigua and Barbuda"
         ],
         "lat": [
          17.0608,
          17.0608,
          17.0608,
          17.0608
         ],
         "legendgroup": "Antigua and Barbuda",
         "lon": [
          -61.7964,
          -61.7964,
          -61.7964,
          -61.7964
         ],
         "marker": {
          "color": "#FECB52",
          "symbol": "circle"
         },
         "mode": "markers",
         "name": "Antigua and Barbuda",
         "showlegend": true,
         "type": "scattergeo"
        },
        {
         "geo": "geo",
         "hovertemplate": "<b>%{hovertext}</b><br><br>Country=Bahrain<br>latitude=%{lat}<br>longitude=%{lon}<extra></extra>",
         "hovertext": [
          "Bahrain",
          "Bahrain",
          "Bahrain",
          "Bahrain",
          "Bahrain"
         ],
         "lat": [
          26.0667,
          26.0667,
          26.0667,
          26.0667,
          26.0667
         ],
         "legendgroup": "Bahrain",
         "lon": [
          50.5577,
          50.5577,
          50.5577,
          50.5577,
          50.5577
         ],
         "marker": {
          "color": "#636efa",
          "symbol": "circle"
         },
         "mode": "markers",
         "name": "Bahrain",
         "showlegend": true,
         "type": "scattergeo"
        },
        {
         "geo": "geo",
         "hovertemplate": "<b>%{hovertext}</b><br><br>Country=Bermuda<br>latitude=%{lat}<br>longitude=%{lon}<extra></extra>",
         "hovertext": [
          "Bermuda",
          "Bermuda",
          "Bermuda",
          "Bermuda",
          "Bermuda",
          "Bermuda",
          "Bermuda"
         ],
         "lat": [
          32.3078,
          32.3078,
          32.3078,
          32.3078,
          32.3078,
          32.3078,
          32.3078
         ],
         "legendgroup": "Bermuda",
         "lon": [
          -64.7505,
          -64.7505,
          -64.7505,
          -64.7505,
          -64.7505,
          -64.7505,
          -64.7505
         ],
         "marker": {
          "color": "#EF553B",
          "symbol": "circle"
         },
         "mode": "markers",
         "name": "Bermuda",
         "showlegend": true,
         "type": "scattergeo"
        },
        {
         "geo": "geo",
         "hovertemplate": "<b>%{hovertext}</b><br><br>Country=Jamaica<br>latitude=%{lat}<br>longitude=%{lon}<extra></extra>",
         "hovertext": [
          "Jamaica",
          "Jamaica",
          "Jamaica",
          "Jamaica",
          "Jamaica"
         ],
         "lat": [
          18.1096,
          18.1096,
          18.1096,
          18.1096,
          18.1096
         ],
         "legendgroup": "Jamaica",
         "lon": [
          -77.2975,
          -77.2975,
          -77.2975,
          -77.2975,
          -77.2975
         ],
         "marker": {
          "color": "#00cc96",
          "symbol": "circle"
         },
         "mode": "markers",
         "name": "Jamaica",
         "showlegend": true,
         "type": "scattergeo"
        },
        {
         "geo": "geo",
         "hovertemplate": "<b>%{hovertext}</b><br><br>Country=Gambia<br>latitude=%{lat}<br>longitude=%{lon}<extra></extra>",
         "hovertext": [
          "Gambia",
          "Gambia",
          "Gambia",
          "Gambia",
          "Gambia",
          "Gambia",
          "Gambia",
          "Gambia"
         ],
         "lat": [
          13.4432,
          13.4432,
          13.4432,
          13.4432,
          13.4432,
          13.4432,
          13.4432,
          13.4432
         ],
         "legendgroup": "Gambia",
         "lon": [
          -15.3101,
          -15.3101,
          -15.3101,
          -15.3101,
          -15.3101,
          -15.3101,
          -15.3101,
          -15.3101
         ],
         "marker": {
          "color": "#ab63fa",
          "symbol": "circle"
         },
         "mode": "markers",
         "name": "Gambia",
         "showlegend": true,
         "type": "scattergeo"
        },
        {
         "geo": "geo",
         "hovertemplate": "<b>%{hovertext}</b><br><br>Country=Syrian Arab Republic<br>latitude=%{lat}<br>longitude=%{lon}<extra></extra>",
         "hovertext": [
          "Syrian Arab Republic",
          "Syrian Arab Republic",
          "Syrian Arab Republic",
          "Syrian Arab Republic",
          "Syrian Arab Republic",
          "Syrian Arab Republic"
         ],
         "lat": [
          34.8021,
          34.8021,
          34.8021,
          34.8021,
          34.8021,
          34.8021
         ],
         "legendgroup": "Syrian Arab Republic",
         "lon": [
          38.9968,
          38.9968,
          38.9968,
          38.9968,
          38.9968,
          38.9968
         ],
         "marker": {
          "color": "#FFA15A",
          "symbol": "circle"
         },
         "mode": "markers",
         "name": "Syrian Arab Republic",
         "showlegend": true,
         "type": "scattergeo"
        },
        {
         "geo": "geo",
         "hovertemplate": "<b>%{hovertext}</b><br><br>Country=Yemen<br>latitude=%{lat}<br>longitude=%{lon}<extra></extra>",
         "hovertext": [
          "Yemen",
          "Yemen",
          "Yemen"
         ],
         "lat": [
          15.5527,
          15.5527,
          15.5527
         ],
         "legendgroup": "Yemen",
         "lon": [
          48.5164,
          48.5164,
          48.5164
         ],
         "marker": {
          "color": "#19d3f3",
          "symbol": "circle"
         },
         "mode": "markers",
         "name": "Yemen",
         "showlegend": true,
         "type": "scattergeo"
        },
        {
         "geo": "geo",
         "hovertemplate": "<b>%{hovertext}</b><br><br>Country=San Marino<br>latitude=%{lat}<br>longitude=%{lon}<extra></extra>",
         "hovertext": [
          "San Marino",
          "San Marino",
          "San Marino",
          "San Marino",
          "San Marino",
          "San Marino",
          "San Marino"
         ],
         "lat": [
          43.9424,
          43.9424,
          43.9424,
          43.9424,
          43.9424,
          43.9424,
          43.9424
         ],
         "legendgroup": "San Marino",
         "lon": [
          12.4578,
          12.4578,
          12.4578,
          12.4578,
          12.4578,
          12.4578,
          12.4578
         ],
         "marker": {
          "color": "#FF6692",
          "symbol": "circle"
         },
         "mode": "markers",
         "name": "San Marino",
         "showlegend": true,
         "type": "scattergeo"
        },
        {
         "geo": "geo",
         "hovertemplate": "<b>%{hovertext}</b><br><br>Country=French Polynesia<br>latitude=%{lat}<br>longitude=%{lon}<extra></extra>",
         "hovertext": [
          "French Polynesia",
          "French Polynesia",
          "French Polynesia",
          "French Polynesia",
          "French Polynesia",
          "French Polynesia"
         ],
         "lat": [
          -17.6797,
          -17.6797,
          -17.6797,
          -17.6797,
          -17.6797,
          -17.6797
         ],
         "legendgroup": "French Polynesia",
         "lon": [
          -149.4068,
          -149.4068,
          -149.4068,
          -149.4068,
          -149.4068,
          -149.4068
         ],
         "marker": {
          "color": "#B6E880",
          "symbol": "circle"
         },
         "mode": "markers",
         "name": "French Polynesia",
         "showlegend": true,
         "type": "scattergeo"
        },
        {
         "geo": "geo",
         "hovertemplate": "<b>%{hovertext}</b><br><br>Country=North Korea<br>latitude=%{lat}<br>longitude=%{lon}<extra></extra>",
         "hovertext": [
          "North Korea",
          "North Korea",
          "North Korea"
         ],
         "lat": [
          40.3399,
          40.3399,
          40.3399
         ],
         "legendgroup": "North Korea",
         "lon": [
          127.5101,
          127.5101,
          127.5101
         ],
         "marker": {
          "color": "#FF97FF",
          "symbol": "circle"
         },
         "mode": "markers",
         "name": "North Korea",
         "showlegend": true,
         "type": "scattergeo"
        },
        {
         "geo": "geo",
         "hovertemplate": "<b>%{hovertext}</b><br><br>Country=Democratic Republic Of Congo<br>latitude=%{lat}<br>longitude=%{lon}<extra></extra>",
         "hovertext": [
          "Democratic Republic Of Congo",
          "Democratic Republic Of Congo",
          "Democratic Republic Of Congo",
          "Democratic Republic Of Congo",
          "Democratic Republic Of Congo",
          "Democratic Republic Of Congo"
         ],
         "lat": [
          -4.0383,
          -4.0383,
          -4.0383,
          -4.0383,
          -4.0383,
          -4.0383
         ],
         "legendgroup": "Democratic Republic Of Congo",
         "lon": [
          21.7587,
          21.7587,
          21.7587,
          21.7587,
          21.7587,
          21.7587
         ],
         "marker": {
          "color": "#FECB52",
          "symbol": "circle"
         },
         "mode": "markers",
         "name": "Democratic Republic Of Congo",
         "showlegend": true,
         "type": "scattergeo"
        },
        {
         "geo": "geo",
         "hovertemplate": "<b>%{hovertext}</b><br><br>Country=Azerbaijan<br>latitude=%{lat}<br>longitude=%{lon}<extra></extra>",
         "hovertext": [
          "Azerbaijan",
          "Azerbaijan",
          "Azerbaijan",
          "Azerbaijan",
          "Azerbaijan",
          "Azerbaijan"
         ],
         "lat": [
          40.1431,
          40.1431,
          40.1431,
          40.1431,
          40.1431,
          40.1431
         ],
         "legendgroup": "Azerbaijan",
         "lon": [
          47.5769,
          47.5769,
          47.5769,
          47.5769,
          47.5769,
          47.5769
         ],
         "marker": {
          "color": "#636efa",
          "symbol": "circle"
         },
         "mode": "markers",
         "name": "Azerbaijan",
         "showlegend": true,
         "type": "scattergeo"
        },
        {
         "geo": "geo",
         "hovertemplate": "<b>%{hovertext}</b><br><br>Country=Tuvalu<br>latitude=%{lat}<br>longitude=%{lon}<extra></extra>",
         "hovertext": [
          "Tuvalu",
          "Tuvalu",
          "Tuvalu",
          "Tuvalu",
          "Tuvalu",
          "Tuvalu",
          "Tuvalu",
          "Tuvalu",
          "Tuvalu"
         ],
         "lat": [
          -7.1095,
          -7.1095,
          -7.1095,
          -7.1095,
          -7.1095,
          -7.1095,
          -7.1095,
          -7.1095,
          -7.1095
         ],
         "legendgroup": "Tuvalu",
         "lon": [
          177.6493,
          177.6493,
          177.6493,
          177.6493,
          177.6493,
          177.6493,
          177.6493,
          177.6493,
          177.6493
         ],
         "marker": {
          "color": "#EF553B",
          "symbol": "circle"
         },
         "mode": "markers",
         "name": "Tuvalu",
         "showlegend": true,
         "type": "scattergeo"
        },
        {
         "geo": "geo",
         "hovertemplate": "<b>%{hovertext}</b><br><br>Country=Eritrea<br>latitude=%{lat}<br>longitude=%{lon}<extra></extra>",
         "hovertext": [
          "Eritrea",
          "Eritrea",
          "Eritrea"
         ],
         "lat": [
          15.1794,
          15.1794,
          15.1794
         ],
         "legendgroup": "Eritrea",
         "lon": [
          39.7823,
          39.7823,
          39.7823
         ],
         "marker": {
          "color": "#00cc96",
          "symbol": "circle"
         },
         "mode": "markers",
         "name": "Eritrea",
         "showlegend": true,
         "type": "scattergeo"
        },
        {
         "geo": "geo",
         "hovertemplate": "<b>%{hovertext}</b><br><br>Country=Honduras<br>latitude=%{lat}<br>longitude=%{lon}<extra></extra>",
         "hovertext": [
          "Honduras",
          "Honduras",
          "Honduras",
          "Honduras",
          "Honduras",
          "Honduras"
         ],
         "lat": [
          15.199,
          15.199,
          15.199,
          15.199,
          15.199,
          15.199
         ],
         "legendgroup": "Honduras",
         "lon": [
          -86.2419,
          -86.2419,
          -86.2419,
          -86.2419,
          -86.2419,
          -86.2419
         ],
         "marker": {
          "color": "#ab63fa",
          "symbol": "circle"
         },
         "mode": "markers",
         "name": "Honduras",
         "showlegend": true,
         "type": "scattergeo"
        },
        {
         "geo": "geo",
         "hovertemplate": "<b>%{hovertext}</b><br><br>Country=British Virgin Islands<br>latitude=%{lat}<br>longitude=%{lon}<extra></extra>",
         "hovertext": [
          "British Virgin Islands",
          "British Virgin Islands",
          "British Virgin Islands",
          "British Virgin Islands"
         ],
         "lat": [
          18.4207,
          18.4207,
          18.4207,
          18.4207
         ],
         "legendgroup": "British Virgin Islands",
         "lon": [
          -64.6399,
          -64.6399,
          -64.6399,
          -64.6399
         ],
         "marker": {
          "color": "#FFA15A",
          "symbol": "circle"
         },
         "mode": "markers",
         "name": "British Virgin Islands",
         "showlegend": true,
         "type": "scattergeo"
        },
        {
         "geo": "geo",
         "hovertemplate": "<b>%{hovertext}</b><br><br>Country=Cuba<br>latitude=%{lat}<br>longitude=%{lon}<extra></extra>",
         "hovertext": [
          "Cuba",
          "Cuba",
          "Cuba",
          "Cuba",
          "Cuba",
          "Cuba"
         ],
         "lat": [
          21.5218,
          21.5218,
          21.5218,
          21.5218,
          21.5218,
          21.5218
         ],
         "legendgroup": "Cuba",
         "lon": [
          -77.7812,
          -77.7812,
          -77.7812,
          -77.7812,
          -77.7812,
          -77.7812
         ],
         "marker": {
          "color": "#19d3f3",
          "symbol": "circle"
         },
         "mode": "markers",
         "name": "Cuba",
         "showlegend": true,
         "type": "scattergeo"
        },
        {
         "geo": "geo",
         "hovertemplate": "<b>%{hovertext}</b><br><br>Country=Hungary<br>latitude=%{lat}<br>longitude=%{lon}<extra></extra>",
         "hovertext": [
          "Hungary",
          "Hungary",
          "Hungary",
          "Hungary",
          "Hungary",
          "Hungary",
          "Hungary",
          "Hungary"
         ],
         "lat": [
          47.1625,
          47.1625,
          47.1625,
          47.1625,
          47.1625,
          47.1625,
          47.1625,
          47.1625
         ],
         "legendgroup": "Hungary",
         "lon": [
          19.5033,
          19.5033,
          19.5033,
          19.5033,
          19.5033,
          19.5033,
          19.5033,
          19.5033
         ],
         "marker": {
          "color": "#FF6692",
          "symbol": "circle"
         },
         "mode": "markers",
         "name": "Hungary",
         "showlegend": true,
         "type": "scattergeo"
        },
        {
         "geo": "geo",
         "hovertemplate": "<b>%{hovertext}</b><br><br>Country=Paraguay<br>latitude=%{lat}<br>longitude=%{lon}<extra></extra>",
         "hovertext": [
          "Paraguay",
          "Paraguay",
          "Paraguay",
          "Paraguay",
          "Paraguay"
         ],
         "lat": [
          -23.442503,
          -23.442503,
          -23.442503,
          -23.442503,
          -23.442503
         ],
         "legendgroup": "Paraguay",
         "lon": [
          -58.443832,
          -58.443832,
          -58.443832,
          -58.443832,
          -58.443832
         ],
         "marker": {
          "color": "#B6E880",
          "symbol": "circle"
         },
         "mode": "markers",
         "name": "Paraguay",
         "showlegend": true,
         "type": "scattergeo"
        },
        {
         "geo": "geo",
         "hovertemplate": "<b>%{hovertext}</b><br><br>Country=Jordan<br>latitude=%{lat}<br>longitude=%{lon}<extra></extra>",
         "hovertext": [
          "Jordan",
          "Jordan",
          "Jordan",
          "Jordan",
          "Jordan",
          "Jordan",
          "Jordan",
          "Jordan",
          "Jordan",
          "Jordan",
          "Jordan"
         ],
         "lat": [
          30.5852,
          30.5852,
          30.5852,
          30.5852,
          30.5852,
          30.5852,
          30.5852,
          30.5852,
          30.5852,
          30.5852,
          30.5852
         ],
         "legendgroup": "Jordan",
         "lon": [
          36.2384,
          36.2384,
          36.2384,
          36.2384,
          36.2384,
          36.2384,
          36.2384,
          36.2384,
          36.2384,
          36.2384,
          36.2384
         ],
         "marker": {
          "color": "#FF97FF",
          "symbol": "circle"
         },
         "mode": "markers",
         "name": "Jordan",
         "showlegend": true,
         "type": "scattergeo"
        },
        {
         "geo": "geo",
         "hovertemplate": "<b>%{hovertext}</b><br><br>Country=Nigeria<br>latitude=%{lat}<br>longitude=%{lon}<extra></extra>",
         "hovertext": [
          "Nigeria",
          "Nigeria",
          "Nigeria",
          "Nigeria",
          "Nigeria",
          "Nigeria"
         ],
         "lat": [
          9.082,
          9.082,
          9.082,
          9.082,
          9.082,
          9.082
         ],
         "legendgroup": "Nigeria",
         "lon": [
          8.6753,
          8.6753,
          8.6753,
          8.6753,
          8.6753,
          8.6753
         ],
         "marker": {
          "color": "#FECB52",
          "symbol": "circle"
         },
         "mode": "markers",
         "name": "Nigeria",
         "showlegend": true,
         "type": "scattergeo"
        },
        {
         "geo": "geo",
         "hovertemplate": "<b>%{hovertext}</b><br><br>Country=Libya<br>latitude=%{lat}<br>longitude=%{lon}<extra></extra>",
         "hovertext": [
          "Libya",
          "Libya",
          "Libya",
          "Libya",
          "Libya",
          "Libya",
          "Libya"
         ],
         "lat": [
          26.3351,
          26.3351,
          26.3351,
          26.3351,
          26.3351,
          26.3351,
          26.3351
         ],
         "legendgroup": "Libya",
         "lon": [
          17.2283,
          17.2283,
          17.2283,
          17.2283,
          17.2283,
          17.2283,
          17.2283
         ],
         "marker": {
          "color": "#636efa",
          "symbol": "circle"
         },
         "mode": "markers",
         "name": "Libya",
         "showlegend": true,
         "type": "scattergeo"
        },
        {
         "geo": "geo",
         "hovertemplate": "<b>%{hovertext}</b><br><br>Country=Australia<br>latitude=%{lat}<br>longitude=%{lon}<extra></extra>",
         "hovertext": [
          "Australia",
          "Australia",
          "Australia",
          "Australia",
          "Australia",
          "Australia"
         ],
         "lat": [
          -25.2744,
          -25.2744,
          -25.2744,
          -25.2744,
          -25.2744,
          -25.2744
         ],
         "legendgroup": "Australia",
         "lon": [
          133.7751,
          133.7751,
          133.7751,
          133.7751,
          133.7751,
          133.7751
         ],
         "marker": {
          "color": "#EF553B",
          "symbol": "circle"
         },
         "mode": "markers",
         "name": "Australia",
         "showlegend": true,
         "type": "scattergeo"
        },
        {
         "geo": "geo",
         "hovertemplate": "<b>%{hovertext}</b><br><br>Country=New Caledonia<br>latitude=%{lat}<br>longitude=%{lon}<extra></extra>",
         "hovertext": [
          "New Caledonia",
          "New Caledonia"
         ],
         "lat": [
          -20.9043,
          -20.9043
         ],
         "legendgroup": "New Caledonia",
         "lon": [
          165.618,
          165.618
         ],
         "marker": {
          "color": "#00cc96",
          "symbol": "circle"
         },
         "mode": "markers",
         "name": "New Caledonia",
         "showlegend": true,
         "type": "scattergeo"
        },
        {
         "geo": "geo",
         "hovertemplate": "<b>%{hovertext}</b><br><br>Country=Oman<br>latitude=%{lat}<br>longitude=%{lon}<extra></extra>",
         "hovertext": [
          "Oman",
          "Oman",
          "Oman",
          "Oman",
          "Oman",
          "Oman",
          "Oman",
          "Oman"
         ],
         "lat": [
          21.4735,
          21.4735,
          21.4735,
          21.4735,
          21.4735,
          21.4735,
          21.4735,
          21.4735
         ],
         "legendgroup": "Oman",
         "lon": [
          55.9754,
          55.9754,
          55.9754,
          55.9754,
          55.9754,
          55.9754,
          55.9754,
          55.9754
         ],
         "marker": {
          "color": "#ab63fa",
          "symbol": "circle"
         },
         "mode": "markers",
         "name": "Oman",
         "showlegend": true,
         "type": "scattergeo"
        },
        {
         "geo": "geo",
         "hovertemplate": "<b>%{hovertext}</b><br><br>Country=West Bank and Gaza<br>latitude=%{lat}<br>longitude=%{lon}<extra></extra>",
         "hovertext": [
          "West Bank and Gaza",
          "West Bank and Gaza",
          "West Bank and Gaza",
          "West Bank and Gaza",
          "West Bank and Gaza"
         ],
         "lat": [
          31.9522,
          31.9522,
          31.9522,
          31.9522,
          31.9522
         ],
         "legendgroup": "West Bank and Gaza",
         "lon": [
          35.2332,
          35.2332,
          35.2332,
          35.2332,
          35.2332
         ],
         "marker": {
          "color": "#FFA15A",
          "symbol": "circle"
         },
         "mode": "markers",
         "name": "West Bank and Gaza",
         "showlegend": true,
         "type": "scattergeo"
        },
        {
         "geo": "geo",
         "hovertemplate": "<b>%{hovertext}</b><br><br>Country=Solomon Islands<br>latitude=%{lat}<br>longitude=%{lon}<extra></extra>",
         "hovertext": [
          "Solomon Islands",
          "Solomon Islands",
          "Solomon Islands",
          "Solomon Islands",
          "Solomon Islands",
          "Solomon Islands",
          "Solomon Islands",
          "Solomon Islands",
          "Solomon Islands"
         ],
         "lat": [
          -9.6457,
          -9.6457,
          -9.6457,
          -9.6457,
          -9.6457,
          -9.6457,
          -9.6457,
          -9.6457,
          -9.6457
         ],
         "legendgroup": "Solomon Islands",
         "lon": [
          160.1562,
          160.1562,
          160.1562,
          160.1562,
          160.1562,
          160.1562,
          160.1562,
          160.1562,
          160.1562
         ],
         "marker": {
          "color": "#19d3f3",
          "symbol": "circle"
         },
         "mode": "markers",
         "name": "Solomon Islands",
         "showlegend": true,
         "type": "scattergeo"
        },
        {
         "geo": "geo",
         "hovertemplate": "<b>%{hovertext}</b><br><br>Country=Cote d'Ivoire<br>latitude=%{lat}<br>longitude=%{lon}<extra></extra>",
         "hovertext": [
          "Cote d'Ivoire",
          "Cote d'Ivoire"
         ],
         "lat": [
          7.54,
          7.54
         ],
         "legendgroup": "Cote d'Ivoire",
         "lon": [
          -5.5471,
          -5.5471
         ],
         "marker": {
          "color": "#FF6692",
          "symbol": "circle"
         },
         "mode": "markers",
         "name": "Cote d'Ivoire",
         "showlegend": true,
         "type": "scattergeo"
        },
        {
         "geo": "geo",
         "hovertemplate": "<b>%{hovertext}</b><br><br>Country=Ecuador<br>latitude=%{lat}<br>longitude=%{lon}<extra></extra>",
         "hovertext": [
          "Ecuador",
          "Ecuador",
          "Ecuador",
          "Ecuador",
          "Ecuador",
          "Ecuador",
          "Ecuador"
         ],
         "lat": [
          -1.8312,
          -1.8312,
          -1.8312,
          -1.8312,
          -1.8312,
          -1.8312,
          -1.8312
         ],
         "legendgroup": "Ecuador",
         "lon": [
          -78.1834,
          -78.1834,
          -78.1834,
          -78.1834,
          -78.1834,
          -78.1834,
          -78.1834
         ],
         "marker": {
          "color": "#B6E880",
          "symbol": "circle"
         },
         "mode": "markers",
         "name": "Ecuador",
         "showlegend": true,
         "type": "scattergeo"
        },
        {
         "geo": "geo",
         "hovertemplate": "<b>%{hovertext}</b><br><br>Country=Virgin Islands (U.S.)<br>latitude=%{lat}<br>longitude=%{lon}<extra></extra>",
         "hovertext": [
          "Virgin Islands (U.S.)",
          "Virgin Islands (U.S.)",
          "Virgin Islands (U.S.)",
          "Virgin Islands (U.S.)"
         ],
         "lat": [
          18.3358,
          18.3358,
          18.3358,
          18.3358
         ],
         "legendgroup": "Virgin Islands (U.S.)",
         "lon": [
          -64.8963,
          -64.8963,
          -64.8963,
          -64.8963
         ],
         "marker": {
          "color": "#FF97FF",
          "symbol": "circle"
         },
         "mode": "markers",
         "name": "Virgin Islands (U.S.)",
         "showlegend": true,
         "type": "scattergeo"
        },
        {
         "geo": "geo",
         "hovertemplate": "<b>%{hovertext}</b><br><br>Country=Cameroon<br>latitude=%{lat}<br>longitude=%{lon}<extra></extra>",
         "hovertext": [
          "Cameroon",
          "Cameroon",
          "Cameroon",
          "Cameroon",
          "Cameroon",
          "Cameroon",
          "Cameroon",
          "Cameroon",
          "Cameroon",
          "Cameroon"
         ],
         "lat": [
          7.3697,
          7.3697,
          7.3697,
          7.3697,
          7.3697,
          7.3697,
          7.3697,
          7.3697,
          7.3697,
          7.3697
         ],
         "legendgroup": "Cameroon",
         "lon": [
          12.3547,
          12.3547,
          12.3547,
          12.3547,
          12.3547,
          12.3547,
          12.3547,
          12.3547,
          12.3547,
          12.3547
         ],
         "marker": {
          "color": "#FECB52",
          "symbol": "circle"
         },
         "mode": "markers",
         "name": "Cameroon",
         "showlegend": true,
         "type": "scattergeo"
        },
        {
         "geo": "geo",
         "hovertemplate": "<b>%{hovertext}</b><br><br>Country=Comoros<br>latitude=%{lat}<br>longitude=%{lon}<extra></extra>",
         "hovertext": [
          "Comoros",
          "Comoros",
          "Comoros",
          "Comoros",
          "Comoros",
          "Comoros",
          "Comoros",
          "Comoros",
          "Comoros"
         ],
         "lat": [
          -11.6455,
          -11.6455,
          -11.6455,
          -11.6455,
          -11.6455,
          -11.6455,
          -11.6455,
          -11.6455,
          -11.6455
         ],
         "legendgroup": "Comoros",
         "lon": [
          43.3333,
          43.3333,
          43.3333,
          43.3333,
          43.3333,
          43.3333,
          43.3333,
          43.3333,
          43.3333
         ],
         "marker": {
          "color": "#636efa",
          "symbol": "circle"
         },
         "mode": "markers",
         "name": "Comoros",
         "showlegend": true,
         "type": "scattergeo"
        },
        {
         "geo": "geo",
         "hovertemplate": "<b>%{hovertext}</b><br><br>Country=Spain<br>latitude=%{lat}<br>longitude=%{lon}<extra></extra>",
         "hovertext": [
          "Spain",
          "Spain",
          "Spain"
         ],
         "lat": [
          40.4637,
          40.4637,
          40.4637
         ],
         "legendgroup": "Spain",
         "lon": [
          -3.7492,
          -3.7492,
          -3.7492
         ],
         "marker": {
          "color": "#EF553B",
          "symbol": "circle"
         },
         "mode": "markers",
         "name": "Spain",
         "showlegend": true,
         "type": "scattergeo"
        },
        {
         "geo": "geo",
         "hovertemplate": "<b>%{hovertext}</b><br><br>Country=Belize<br>latitude=%{lat}<br>longitude=%{lon}<extra></extra>",
         "hovertext": [
          "Belize",
          "Belize",
          "Belize",
          "Belize",
          "Belize",
          "Belize"
         ],
         "lat": [
          17.1899,
          17.1899,
          17.1899,
          17.1899,
          17.1899,
          17.1899
         ],
         "legendgroup": "Belize",
         "lon": [
          -88.4976,
          -88.4976,
          -88.4976,
          -88.4976,
          -88.4976,
          -88.4976
         ],
         "marker": {
          "color": "#00cc96",
          "symbol": "circle"
         },
         "mode": "markers",
         "name": "Belize",
         "showlegend": true,
         "type": "scattergeo"
        },
        {
         "geo": "geo",
         "hovertemplate": "<b>%{hovertext}</b><br><br>Country=Malta<br>latitude=%{lat}<br>longitude=%{lon}<extra></extra>",
         "hovertext": [
          "Malta",
          "Malta",
          "Malta",
          "Malta"
         ],
         "lat": [
          35.9375,
          35.9375,
          35.9375,
          35.9375
         ],
         "legendgroup": "Malta",
         "lon": [
          14.3754,
          14.3754,
          14.3754,
          14.3754
         ],
         "marker": {
          "color": "#ab63fa",
          "symbol": "circle"
         },
         "mode": "markers",
         "name": "Malta",
         "showlegend": true,
         "type": "scattergeo"
        },
        {
         "geo": "geo",
         "hovertemplate": "<b>%{hovertext}</b><br><br>Country=Panama<br>latitude=%{lat}<br>longitude=%{lon}<extra></extra>",
         "hovertext": [
          "Panama",
          "Panama",
          "Panama",
          "Panama",
          "Panama"
         ],
         "lat": [
          8.5379,
          8.5379,
          8.5379,
          8.5379,
          8.5379
         ],
         "legendgroup": "Panama",
         "lon": [
          -80.7821,
          -80.7821,
          -80.7821,
          -80.7821,
          -80.7821
         ],
         "marker": {
          "color": "#FFA15A",
          "symbol": "circle"
         },
         "mode": "markers",
         "name": "Panama",
         "showlegend": true,
         "type": "scattergeo"
        },
        {
         "geo": "geo",
         "hovertemplate": "<b>%{hovertext}</b><br><br>Country=Republic Of Congo<br>latitude=%{lat}<br>longitude=%{lon}<extra></extra>",
         "hovertext": [
          "Republic Of Congo",
          "Republic Of Congo",
          "Republic Of Congo",
          "Republic Of Congo",
          "Republic Of Congo",
          "Republic Of Congo"
         ],
         "lat": [
          -0.228,
          -0.228,
          -0.228,
          -0.228,
          -0.228,
          -0.228
         ],
         "legendgroup": "Republic Of Congo",
         "lon": [
          15.8277,
          15.8277,
          15.8277,
          15.8277,
          15.8277,
          15.8277
         ],
         "marker": {
          "color": "#19d3f3",
          "symbol": "circle"
         },
         "mode": "markers",
         "name": "Republic Of Congo",
         "showlegend": true,
         "type": "scattergeo"
        },
        {
         "geo": "geo",
         "hovertemplate": "<b>%{hovertext}</b><br><br>Country=Turks and Caicos Islands<br>latitude=%{lat}<br>longitude=%{lon}<extra></extra>",
         "hovertext": [
          "Turks and Caicos Islands",
          "Turks and Caicos Islands",
          "Turks and Caicos Islands"
         ],
         "lat": [
          21.694,
          21.694,
          21.694
         ],
         "legendgroup": "Turks and Caicos Islands",
         "lon": [
          -71.7979,
          -71.7979,
          -71.7979
         ],
         "marker": {
          "color": "#FF6692",
          "symbol": "circle"
         },
         "mode": "markers",
         "name": "Turks and Caicos Islands",
         "showlegend": true,
         "type": "scattergeo"
        },
        {
         "geo": "geo",
         "hovertemplate": "<b>%{hovertext}</b><br><br>Country=Cambodia<br>latitude=%{lat}<br>longitude=%{lon}<extra></extra>",
         "hovertext": [
          "Cambodia",
          "Cambodia",
          "Cambodia",
          "Cambodia"
         ],
         "lat": [
          12.5657,
          12.5657,
          12.5657,
          12.5657
         ],
         "legendgroup": "Cambodia",
         "lon": [
          104.9909,
          104.9909,
          104.9909,
          104.9909
         ],
         "marker": {
          "color": "#B6E880",
          "symbol": "circle"
         },
         "mode": "markers",
         "name": "Cambodia",
         "showlegend": true,
         "type": "scattergeo"
        },
        {
         "geo": "geo",
         "hovertemplate": "<b>%{hovertext}</b><br><br>Country=Monaco<br>latitude=%{lat}<br>longitude=%{lon}<extra></extra>",
         "hovertext": [
          "Monaco",
          "Monaco",
          "Monaco",
          "Monaco",
          "Monaco",
          "Monaco",
          "Monaco"
         ],
         "lat": [
          43.7384,
          43.7384,
          43.7384,
          43.7384,
          43.7384,
          43.7384,
          43.7384
         ],
         "legendgroup": "Monaco",
         "lon": [
          7.4246,
          7.4246,
          7.4246,
          7.4246,
          7.4246,
          7.4246,
          7.4246
         ],
         "marker": {
          "color": "#FF97FF",
          "symbol": "circle"
         },
         "mode": "markers",
         "name": "Monaco",
         "showlegend": true,
         "type": "scattergeo"
        },
        {
         "geo": "geo",
         "hovertemplate": "<b>%{hovertext}</b><br><br>Country=Armenia<br>latitude=%{lat}<br>longitude=%{lon}<extra></extra>",
         "hovertext": [
          "Armenia",
          "Armenia",
          "Armenia",
          "Armenia",
          "Armenia",
          "Armenia",
          "Armenia"
         ],
         "lat": [
          40.0691,
          40.0691,
          40.0691,
          40.0691,
          40.0691,
          40.0691,
          40.0691
         ],
         "legendgroup": "Armenia",
         "lon": [
          45.0382,
          45.0382,
          45.0382,
          45.0382,
          45.0382,
          45.0382,
          45.0382
         ],
         "marker": {
          "color": "#FECB52",
          "symbol": "circle"
         },
         "mode": "markers",
         "name": "Armenia",
         "showlegend": true,
         "type": "scattergeo"
        },
        {
         "geo": "geo",
         "hovertemplate": "<b>%{hovertext}</b><br><br>Country=Guam<br>latitude=%{lat}<br>longitude=%{lon}<extra></extra>",
         "hovertext": [
          "Guam",
          "Guam",
          "Guam",
          "Guam",
          "Guam"
         ],
         "lat": [
          13.4443,
          13.4443,
          13.4443,
          13.4443,
          13.4443
         ],
         "legendgroup": "Guam",
         "lon": [
          144.7937,
          144.7937,
          144.7937,
          144.7937,
          144.7937
         ],
         "marker": {
          "color": "#636efa",
          "symbol": "circle"
         },
         "mode": "markers",
         "name": "Guam",
         "showlegend": true,
         "type": "scattergeo"
        },
        {
         "geo": "geo",
         "hovertemplate": "<b>%{hovertext}</b><br><br>Country=St. Lucia<br>latitude=%{lat}<br>longitude=%{lon}<extra></extra>",
         "hovertext": [
          "St. Lucia",
          "St. Lucia",
          "St. Lucia",
          "St. Lucia",
          "St. Lucia",
          "St. Lucia",
          "St. Lucia",
          "St. Lucia",
          "St. Lucia"
         ],
         "lat": [
          13.9094,
          13.9094,
          13.9094,
          13.9094,
          13.9094,
          13.9094,
          13.9094,
          13.9094,
          13.9094
         ],
         "legendgroup": "St. Lucia",
         "lon": [
          -60.9789,
          -60.9789,
          -60.9789,
          -60.9789,
          -60.9789,
          -60.9789,
          -60.9789,
          -60.9789,
          -60.9789
         ],
         "marker": {
          "color": "#EF553B",
          "symbol": "circle"
         },
         "mode": "markers",
         "name": "St. Lucia",
         "showlegend": true,
         "type": "scattergeo"
        },
        {
         "geo": "geo",
         "hovertemplate": "<b>%{hovertext}</b><br><br>Country=India<br>latitude=%{lat}<br>longitude=%{lon}<extra></extra>",
         "hovertext": [
          "India",
          "India",
          "India",
          "India",
          "India",
          "India",
          "India"
         ],
         "lat": [
          20.5937,
          20.5937,
          20.5937,
          20.5937,
          20.5937,
          20.5937,
          20.5937
         ],
         "legendgroup": "India",
         "lon": [
          78.9629,
          78.9629,
          78.9629,
          78.9629,
          78.9629,
          78.9629,
          78.9629
         ],
         "marker": {
          "color": "#00cc96",
          "symbol": "circle"
         },
         "mode": "markers",
         "name": "India",
         "showlegend": true,
         "type": "scattergeo"
        },
        {
         "geo": "geo",
         "hovertemplate": "<b>%{hovertext}</b><br><br>Country=Somalia<br>latitude=%{lat}<br>longitude=%{lon}<extra></extra>",
         "hovertext": [
          "Somalia",
          "Somalia",
          "Somalia",
          "Somalia"
         ],
         "lat": [
          5.1521,
          5.1521,
          5.1521,
          5.1521
         ],
         "legendgroup": "Somalia",
         "lon": [
          46.1996,
          46.1996,
          46.1996,
          46.1996
         ],
         "marker": {
          "color": "#ab63fa",
          "symbol": "circle"
         },
         "mode": "markers",
         "name": "Somalia",
         "showlegend": true,
         "type": "scattergeo"
        },
        {
         "geo": "geo",
         "hovertemplate": "<b>%{hovertext}</b><br><br>Country=Pakistan<br>latitude=%{lat}<br>longitude=%{lon}<extra></extra>",
         "hovertext": [
          "Pakistan",
          "Pakistan",
          "Pakistan",
          "Pakistan",
          "Pakistan",
          "Pakistan"
         ],
         "lat": [
          30.3753,
          30.3753,
          30.3753,
          30.3753,
          30.3753,
          30.3753
         ],
         "legendgroup": "Pakistan",
         "lon": [
          69.3451,
          69.3451,
          69.3451,
          69.3451,
          69.3451,
          69.3451
         ],
         "marker": {
          "color": "#FFA15A",
          "symbol": "circle"
         },
         "mode": "markers",
         "name": "Pakistan",
         "showlegend": true,
         "type": "scattergeo"
        },
        {
         "geo": "geo",
         "hovertemplate": "<b>%{hovertext}</b><br><br>Country=Brunei<br>latitude=%{lat}<br>longitude=%{lon}<extra></extra>",
         "hovertext": [
          "Brunei",
          "Brunei",
          "Brunei",
          "Brunei",
          "Brunei",
          "Brunei",
          "Brunei",
          "Brunei",
          "Brunei",
          "Brunei"
         ],
         "lat": [
          4.5353,
          4.5353,
          4.5353,
          4.5353,
          4.5353,
          4.5353,
          4.5353,
          4.5353,
          4.5353,
          4.5353
         ],
         "legendgroup": "Brunei",
         "lon": [
          114.7277,
          114.7277,
          114.7277,
          114.7277,
          114.7277,
          114.7277,
          114.7277,
          114.7277,
          114.7277,
          114.7277
         ],
         "marker": {
          "color": "#19d3f3",
          "symbol": "circle"
         },
         "mode": "markers",
         "name": "Brunei",
         "showlegend": true,
         "type": "scattergeo"
        },
        {
         "geo": "geo",
         "hovertemplate": "<b>%{hovertext}</b><br><br>Country=Dominica<br>latitude=%{lat}<br>longitude=%{lon}<extra></extra>",
         "hovertext": [
          "Dominica",
          "Dominica",
          "Dominica",
          "Dominica",
          "Dominica",
          "Dominica"
         ],
         "lat": [
          15.4149,
          15.4149,
          15.4149,
          15.4149,
          15.4149,
          15.4149
         ],
         "legendgroup": "Dominica",
         "lon": [
          -61.3705,
          -61.3705,
          -61.3705,
          -61.3705,
          -61.3705,
          -61.3705
         ],
         "marker": {
          "color": "#FF6692",
          "symbol": "circle"
         },
         "mode": "markers",
         "name": "Dominica",
         "showlegend": true,
         "type": "scattergeo"
        },
        {
         "geo": "geo",
         "hovertemplate": "<b>%{hovertext}</b><br><br>Country=UK<br>latitude=%{lat}<br>longitude=%{lon}<extra></extra>",
         "hovertext": [
          "UK",
          "UK",
          "UK",
          "UK",
          "UK",
          "UK",
          "UK",
          "UK",
          "UK"
         ],
         "lat": [
          55.3781,
          55.3781,
          55.3781,
          55.3781,
          55.3781,
          55.3781,
          55.3781,
          55.3781,
          55.3781
         ],
         "legendgroup": "UK",
         "lon": [
          -3.436,
          -3.436,
          -3.436,
          -3.436,
          -3.436,
          -3.436,
          -3.436,
          -3.436,
          -3.436
         ],
         "marker": {
          "color": "#B6E880",
          "symbol": "circle"
         },
         "mode": "markers",
         "name": "UK",
         "showlegend": true,
         "type": "scattergeo"
        },
        {
         "geo": "geo",
         "hovertemplate": "<b>%{hovertext}</b><br><br>Country=Afghanistan<br>latitude=%{lat}<br>longitude=%{lon}<extra></extra>",
         "hovertext": [
          "Afghanistan",
          "Afghanistan",
          "Afghanistan",
          "Afghanistan"
         ],
         "lat": [
          33.9391,
          33.9391,
          33.9391,
          33.9391
         ],
         "legendgroup": "Afghanistan",
         "lon": [
          67.71,
          67.71,
          67.71,
          67.71
         ],
         "marker": {
          "color": "#FF97FF",
          "symbol": "circle"
         },
         "mode": "markers",
         "name": "Afghanistan",
         "showlegend": true,
         "type": "scattergeo"
        },
        {
         "geo": "geo",
         "hovertemplate": "<b>%{hovertext}</b><br><br>Country=Mongolia<br>latitude=%{lat}<br>longitude=%{lon}<extra></extra>",
         "hovertext": [
          "Mongolia",
          "Mongolia",
          "Mongolia",
          "Mongolia",
          "Mongolia"
         ],
         "lat": [
          46.8625,
          46.8625,
          46.8625,
          46.8625,
          46.8625
         ],
         "legendgroup": "Mongolia",
         "lon": [
          103.8467,
          103.8467,
          103.8467,
          103.8467,
          103.8467
         ],
         "marker": {
          "color": "#FECB52",
          "symbol": "circle"
         },
         "mode": "markers",
         "name": "Mongolia",
         "showlegend": true,
         "type": "scattergeo"
        },
        {
         "geo": "geo",
         "hovertemplate": "<b>%{hovertext}</b><br><br>Country=Slovak Republic<br>latitude=%{lat}<br>longitude=%{lon}<extra></extra>",
         "hovertext": [
          "Slovak Republic",
          "Slovak Republic",
          "Slovak Republic",
          "Slovak Republic",
          "Slovak Republic",
          "Slovak Republic",
          "Slovak Republic"
         ],
         "lat": [
          48.669,
          48.669,
          48.669,
          48.669,
          48.669,
          48.669,
          48.669
         ],
         "legendgroup": "Slovak Republic",
         "lon": [
          19.699,
          19.699,
          19.699,
          19.699,
          19.699,
          19.699,
          19.699
         ],
         "marker": {
          "color": "#636efa",
          "symbol": "circle"
         },
         "mode": "markers",
         "name": "Slovak Republic",
         "showlegend": true,
         "type": "scattergeo"
        },
        {
         "geo": "geo",
         "hovertemplate": "<b>%{hovertext}</b><br><br>Country=Morocco<br>latitude=%{lat}<br>longitude=%{lon}<extra></extra>",
         "hovertext": [
          "Morocco",
          "Morocco",
          "Morocco",
          "Morocco",
          "Morocco",
          "Morocco"
         ],
         "lat": [
          31.7917,
          31.7917,
          31.7917,
          31.7917,
          31.7917,
          31.7917
         ],
         "legendgroup": "Morocco",
         "lon": [
          -7.0926,
          -7.0926,
          -7.0926,
          -7.0926,
          -7.0926,
          -7.0926
         ],
         "marker": {
          "color": "#EF553B",
          "symbol": "circle"
         },
         "mode": "markers",
         "name": "Morocco",
         "showlegend": true,
         "type": "scattergeo"
        },
        {
         "geo": "geo",
         "hovertemplate": "<b>%{hovertext}</b><br><br>Country=South Africa<br>latitude=%{lat}<br>longitude=%{lon}<extra></extra>",
         "hovertext": [
          "South Africa",
          "South Africa",
          "South Africa",
          "South Africa",
          "South Africa",
          "South Africa"
         ],
         "lat": [
          -30.5595,
          -30.5595,
          -30.5595,
          -30.5595,
          -30.5595,
          -30.5595
         ],
         "legendgroup": "South Africa",
         "lon": [
          22.9375,
          22.9375,
          22.9375,
          22.9375,
          22.9375,
          22.9375
         ],
         "marker": {
          "color": "#00cc96",
          "symbol": "circle"
         },
         "mode": "markers",
         "name": "South Africa",
         "showlegend": true,
         "type": "scattergeo"
        },
        {
         "geo": "geo",
         "hovertemplate": "<b>%{hovertext}</b><br><br>Country=Botswana<br>latitude=%{lat}<br>longitude=%{lon}<extra></extra>",
         "hovertext": [
          "Botswana",
          "Botswana",
          "Botswana"
         ],
         "lat": [
          -22.3285,
          -22.3285,
          -22.3285
         ],
         "legendgroup": "Botswana",
         "lon": [
          24.6849,
          24.6849,
          24.6849
         ],
         "marker": {
          "color": "#ab63fa",
          "symbol": "circle"
         },
         "mode": "markers",
         "name": "Botswana",
         "showlegend": true,
         "type": "scattergeo"
        },
        {
         "geo": "geo",
         "hovertemplate": "<b>%{hovertext}</b><br><br>Country=St. Martin (French part)<br>latitude=%{lat}<br>longitude=%{lon}<extra></extra>",
         "hovertext": [
          "St. Martin (French part)",
          "St. Martin (French part)",
          "St. Martin (French part)",
          "St. Martin (French part)",
          "St. Martin (French part)",
          "St. Martin (French part)"
         ],
         "lat": [
          18.0708,
          18.0708,
          18.0708,
          18.0708,
          18.0708,
          18.0708
         ],
         "legendgroup": "St. Martin (French part)",
         "lon": [
          -63.0501,
          -63.0501,
          -63.0501,
          -63.0501,
          -63.0501,
          -63.0501
         ],
         "marker": {
          "color": "#FFA15A",
          "symbol": "circle"
         },
         "mode": "markers",
         "name": "St. Martin (French part)",
         "showlegend": true,
         "type": "scattergeo"
        },
        {
         "geo": "geo",
         "hovertemplate": "<b>%{hovertext}</b><br><br>Country=Saudi Arabia<br>latitude=%{lat}<br>longitude=%{lon}<extra></extra>",
         "hovertext": [
          "Saudi Arabia",
          "Saudi Arabia",
          "Saudi Arabia",
          "Saudi Arabia",
          "Saudi Arabia"
         ],
         "lat": [
          23.8859,
          23.8859,
          23.8859,
          23.8859,
          23.8859
         ],
         "legendgroup": "Saudi Arabia",
         "lon": [
          45.0792,
          45.0792,
          45.0792,
          45.0792,
          45.0792
         ],
         "marker": {
          "color": "#19d3f3",
          "symbol": "circle"
         },
         "mode": "markers",
         "name": "Saudi Arabia",
         "showlegend": true,
         "type": "scattergeo"
        },
        {
         "geo": "geo",
         "hovertemplate": "<b>%{hovertext}</b><br><br>Country=Bangladesh<br>latitude=%{lat}<br>longitude=%{lon}<extra></extra>",
         "hovertext": [
          "Bangladesh",
          "Bangladesh",
          "Bangladesh"
         ],
         "lat": [
          23.685,
          23.685,
          23.685
         ],
         "legendgroup": "Bangladesh",
         "lon": [
          90.3563,
          90.3563,
          90.3563
         ],
         "marker": {
          "color": "#FF6692",
          "symbol": "circle"
         },
         "mode": "markers",
         "name": "Bangladesh",
         "showlegend": true,
         "type": "scattergeo"
        },
        {
         "geo": "geo",
         "hovertemplate": "<b>%{hovertext}</b><br><br>Country=Nepal<br>latitude=%{lat}<br>longitude=%{lon}<extra></extra>",
         "hovertext": [
          "Nepal",
          "Nepal",
          "Nepal",
          "Nepal"
         ],
         "lat": [
          28.3949,
          28.3949,
          28.3949,
          28.3949
         ],
         "legendgroup": "Nepal",
         "lon": [
          84.124,
          84.124,
          84.124,
          84.124
         ],
         "marker": {
          "color": "#B6E880",
          "symbol": "circle"
         },
         "mode": "markers",
         "name": "Nepal",
         "showlegend": true,
         "type": "scattergeo"
        },
        {
         "geo": "geo",
         "hovertemplate": "<b>%{hovertext}</b><br><br>Country=Malaysia<br>latitude=%{lat}<br>longitude=%{lon}<extra></extra>",
         "hovertext": [
          "Malaysia",
          "Malaysia",
          "Malaysia",
          "Malaysia",
          "Malaysia",
          "Malaysia",
          "Malaysia"
         ],
         "lat": [
          4.2105,
          4.2105,
          4.2105,
          4.2105,
          4.2105,
          4.2105,
          4.2105
         ],
         "legendgroup": "Malaysia",
         "lon": [
          101.9758,
          101.9758,
          101.9758,
          101.9758,
          101.9758,
          101.9758,
          101.9758
         ],
         "marker": {
          "color": "#FF97FF",
          "symbol": "circle"
         },
         "mode": "markers",
         "name": "Malaysia",
         "showlegend": true,
         "type": "scattergeo"
        },
        {
         "geo": "geo",
         "hovertemplate": "<b>%{hovertext}</b><br><br>Country=Kyrgyz Republic<br>latitude=%{lat}<br>longitude=%{lon}<extra></extra>",
         "hovertext": [
          "Kyrgyz Republic",
          "Kyrgyz Republic",
          "Kyrgyz Republic",
          "Kyrgyz Republic",
          "Kyrgyz Republic",
          "Kyrgyz Republic",
          "Kyrgyz Republic",
          "Kyrgyz Republic",
          "Kyrgyz Republic"
         ],
         "lat": [
          41.2044,
          41.2044,
          41.2044,
          41.2044,
          41.2044,
          41.2044,
          41.2044,
          41.2044,
          41.2044
         ],
         "legendgroup": "Kyrgyz Republic",
         "lon": [
          74.7661,
          74.7661,
          74.7661,
          74.7661,
          74.7661,
          74.7661,
          74.7661,
          74.7661,
          74.7661
         ],
         "marker": {
          "color": "#FECB52",
          "symbol": "circle"
         },
         "mode": "markers",
         "name": "Kyrgyz Republic",
         "showlegend": true,
         "type": "scattergeo"
        },
        {
         "geo": "geo",
         "hovertemplate": "<b>%{hovertext}</b><br><br>Country=Sri Lanka<br>latitude=%{lat}<br>longitude=%{lon}<extra></extra>",
         "hovertext": [
          "Sri Lanka",
          "Sri Lanka",
          "Sri Lanka",
          "Sri Lanka"
         ],
         "lat": [
          7.8731,
          7.8731,
          7.8731,
          7.8731
         ],
         "legendgroup": "Sri Lanka",
         "lon": [
          80.7718,
          80.7718,
          80.7718,
          80.7718
         ],
         "marker": {
          "color": "#636efa",
          "symbol": "circle"
         },
         "mode": "markers",
         "name": "Sri Lanka",
         "showlegend": true,
         "type": "scattergeo"
        },
        {
         "geo": "geo",
         "hovertemplate": "<b>%{hovertext}</b><br><br>Country=Mexico<br>latitude=%{lat}<br>longitude=%{lon}<extra></extra>",
         "hovertext": [
          "Mexico",
          "Mexico",
          "Mexico",
          "Mexico",
          "Mexico"
         ],
         "lat": [
          23.6345,
          23.6345,
          23.6345,
          23.6345,
          23.6345
         ],
         "legendgroup": "Mexico",
         "lon": [
          -102.5528,
          -102.5528,
          -102.5528,
          -102.5528,
          -102.5528
         ],
         "marker": {
          "color": "#EF553B",
          "symbol": "circle"
         },
         "mode": "markers",
         "name": "Mexico",
         "showlegend": true,
         "type": "scattergeo"
        },
        {
         "geo": "geo",
         "hovertemplate": "<b>%{hovertext}</b><br><br>Country=Moldova<br>latitude=%{lat}<br>longitude=%{lon}<extra></extra>",
         "hovertext": [
          "Moldova",
          "Moldova",
          "Moldova",
          "Moldova",
          "Moldova",
          "Moldova",
          "Moldova",
          "Moldova"
         ],
         "lat": [
          47.4116,
          47.4116,
          47.4116,
          47.4116,
          47.4116,
          47.4116,
          47.4116,
          47.4116
         ],
         "legendgroup": "Moldova",
         "lon": [
          28.3699,
          28.3699,
          28.3699,
          28.3699,
          28.3699,
          28.3699,
          28.3699,
          28.3699
         ],
         "marker": {
          "color": "#00cc96",
          "symbol": "circle"
         },
         "mode": "markers",
         "name": "Moldova",
         "showlegend": true,
         "type": "scattergeo"
        },
        {
         "geo": "geo",
         "hovertemplate": "<b>%{hovertext}</b><br><br>Country=Guatemala<br>latitude=%{lat}<br>longitude=%{lon}<extra></extra>",
         "hovertext": [
          "Guatemala",
          "Guatemala",
          "Guatemala",
          "Guatemala",
          "Guatemala",
          "Guatemala"
         ],
         "lat": [
          15.7835,
          15.7835,
          15.7835,
          15.7835,
          15.7835,
          15.7835
         ],
         "legendgroup": "Guatemala",
         "lon": [
          -90.2308,
          -90.2308,
          -90.2308,
          -90.2308,
          -90.2308,
          -90.2308
         ],
         "marker": {
          "color": "#ab63fa",
          "symbol": "circle"
         },
         "mode": "markers",
         "name": "Guatemala",
         "showlegend": true,
         "type": "scattergeo"
        },
        {
         "geo": "geo",
         "hovertemplate": "<b>%{hovertext}</b><br><br>Country=Russia<br>latitude=%{lat}<br>longitude=%{lon}<extra></extra>",
         "hovertext": [
          "Russia",
          "Russia",
          "Russia",
          "Russia",
          "Russia",
          "Russia"
         ],
         "lat": [
          61.524,
          61.524,
          61.524,
          61.524,
          61.524,
          61.524
         ],
         "legendgroup": "Russia",
         "lon": [
          105.3188,
          105.3188,
          105.3188,
          105.3188,
          105.3188,
          105.3188
         ],
         "marker": {
          "color": "#FFA15A",
          "symbol": "circle"
         },
         "mode": "markers",
         "name": "Russia",
         "showlegend": true,
         "type": "scattergeo"
        },
        {
         "geo": "geo",
         "hovertemplate": "<b>%{hovertext}</b><br><br>Country=Latvia<br>latitude=%{lat}<br>longitude=%{lon}<extra></extra>",
         "hovertext": [
          "Latvia",
          "Latvia",
          "Latvia",
          "Latvia",
          "Latvia"
         ],
         "lat": [
          56.8796,
          56.8796,
          56.8796,
          56.8796,
          56.8796
         ],
         "legendgroup": "Latvia",
         "lon": [
          24.6032,
          24.6032,
          24.6032,
          24.6032,
          24.6032
         ],
         "marker": {
          "color": "#19d3f3",
          "symbol": "circle"
         },
         "mode": "markers",
         "name": "Latvia",
         "showlegend": true,
         "type": "scattergeo"
        },
        {
         "geo": "geo",
         "hovertemplate": "<b>%{hovertext}</b><br><br>Country=Germany<br>latitude=%{lat}<br>longitude=%{lon}<extra></extra>",
         "hovertext": [
          "Germany",
          "Germany",
          "Germany",
          "Germany"
         ],
         "lat": [
          51.1657,
          51.1657,
          51.1657,
          51.1657
         ],
         "legendgroup": "Germany",
         "lon": [
          10.4515,
          10.4515,
          10.4515,
          10.4515
         ],
         "marker": {
          "color": "#FF6692",
          "symbol": "circle"
         },
         "mode": "markers",
         "name": "Germany",
         "showlegend": true,
         "type": "scattergeo"
        },
        {
         "geo": "geo",
         "hovertemplate": "<b>%{hovertext}</b><br><br>Country=Djibouti<br>latitude=%{lat}<br>longitude=%{lon}<extra></extra>",
         "hovertext": [
          "Djibouti",
          "Djibouti",
          "Djibouti",
          "Djibouti",
          "Djibouti"
         ],
         "lat": [
          11.8251,
          11.8251,
          11.8251,
          11.8251,
          11.8251
         ],
         "legendgroup": "Djibouti",
         "lon": [
          42.5903,
          42.5903,
          42.5903,
          42.5903,
          42.5903
         ],
         "marker": {
          "color": "#B6E880",
          "symbol": "circle"
         },
         "mode": "markers",
         "name": "Djibouti",
         "showlegend": true,
         "type": "scattergeo"
        },
        {
         "geo": "geo",
         "hovertemplate": "<b>%{hovertext}</b><br><br>Country=Suriname<br>latitude=%{lat}<br>longitude=%{lon}<extra></extra>",
         "hovertext": [
          "Suriname",
          "Suriname",
          "Suriname",
          "Suriname",
          "Suriname",
          "Suriname"
         ],
         "lat": [
          3.9193,
          3.9193,
          3.9193,
          3.9193,
          3.9193,
          3.9193
         ],
         "legendgroup": "Suriname",
         "lon": [
          -56.0278,
          -56.0278,
          -56.0278,
          -56.0278,
          -56.0278,
          -56.0278
         ],
         "marker": {
          "color": "#FF97FF",
          "symbol": "circle"
         },
         "mode": "markers",
         "name": "Suriname",
         "showlegend": true,
         "type": "scattergeo"
        },
        {
         "geo": "geo",
         "hovertemplate": "<b>%{hovertext}</b><br><br>Country=Mauritius<br>latitude=%{lat}<br>longitude=%{lon}<extra></extra>",
         "hovertext": [
          "Mauritius",
          "Mauritius",
          "Mauritius",
          "Mauritius"
         ],
         "lat": [
          -20.3484,
          -20.3484,
          -20.3484,
          -20.3484
         ],
         "legendgroup": "Mauritius",
         "lon": [
          57.5522,
          57.5522,
          57.5522,
          57.5522
         ],
         "marker": {
          "color": "#FECB52",
          "symbol": "circle"
         },
         "mode": "markers",
         "name": "Mauritius",
         "showlegend": true,
         "type": "scattergeo"
        },
        {
         "geo": "geo",
         "hovertemplate": "<b>%{hovertext}</b><br><br>Country=Mali<br>latitude=%{lat}<br>longitude=%{lon}<extra></extra>",
         "hovertext": [
          "Mali",
          "Mali",
          "Mali",
          "Mali",
          "Mali",
          "Mali",
          "Mali"
         ],
         "lat": [
          17.5707,
          17.5707,
          17.5707,
          17.5707,
          17.5707,
          17.5707,
          17.5707
         ],
         "legendgroup": "Mali",
         "lon": [
          -3.9962,
          -3.9962,
          -3.9962,
          -3.9962,
          -3.9962,
          -3.9962,
          -3.9962
         ],
         "marker": {
          "color": "#636efa",
          "symbol": "circle"
         },
         "mode": "markers",
         "name": "Mali",
         "showlegend": true,
         "type": "scattergeo"
        },
        {
         "geo": "geo",
         "hovertemplate": "<b>%{hovertext}</b><br><br>Country=Costa Rica<br>latitude=%{lat}<br>longitude=%{lon}<extra></extra>",
         "hovertext": [
          "Costa Rica",
          "Costa Rica",
          "Costa Rica",
          "Costa Rica",
          "Costa Rica"
         ],
         "lat": [
          9.7489,
          9.7489,
          9.7489,
          9.7489,
          9.7489
         ],
         "legendgroup": "Costa Rica",
         "lon": [
          -83.7534,
          -83.7534,
          -83.7534,
          -83.7534,
          -83.7534
         ],
         "marker": {
          "color": "#EF553B",
          "symbol": "circle"
         },
         "mode": "markers",
         "name": "Costa Rica",
         "showlegend": true,
         "type": "scattergeo"
        },
        {
         "geo": "geo",
         "hovertemplate": "<b>%{hovertext}</b><br><br>Country=Indonesia<br>latitude=%{lat}<br>longitude=%{lon}<extra></extra>",
         "hovertext": [
          "Indonesia",
          "Indonesia",
          "Indonesia",
          "Indonesia"
         ],
         "lat": [
          -0.7893,
          -0.7893,
          -0.7893,
          -0.7893
         ],
         "legendgroup": "Indonesia",
         "lon": [
          113.9213,
          113.9213,
          113.9213,
          113.9213
         ],
         "marker": {
          "color": "#00cc96",
          "symbol": "circle"
         },
         "mode": "markers",
         "name": "Indonesia",
         "showlegend": true,
         "type": "scattergeo"
        },
        {
         "geo": "geo",
         "hovertemplate": "<b>%{hovertext}</b><br><br>Country=Fiji<br>latitude=%{lat}<br>longitude=%{lon}<extra></extra>",
         "hovertext": [
          "Fiji",
          "Fiji",
          "Fiji",
          "Fiji"
         ],
         "lat": [
          -17.7134,
          -17.7134,
          -17.7134,
          -17.7134
         ],
         "legendgroup": "Fiji",
         "lon": [
          178.065,
          178.065,
          178.065,
          178.065
         ],
         "marker": {
          "color": "#ab63fa",
          "symbol": "circle"
         },
         "mode": "markers",
         "name": "Fiji",
         "showlegend": true,
         "type": "scattergeo"
        },
        {
         "geo": "geo",
         "hovertemplate": "<b>%{hovertext}</b><br><br>Country=Rwanda<br>latitude=%{lat}<br>longitude=%{lon}<extra></extra>",
         "hovertext": [
          "Rwanda",
          "Rwanda",
          "Rwanda",
          "Rwanda",
          "Rwanda",
          "Rwanda",
          "Rwanda",
          "Rwanda",
          "Rwanda"
         ],
         "lat": [
          -1.9403,
          -1.9403,
          -1.9403,
          -1.9403,
          -1.9403,
          -1.9403,
          -1.9403,
          -1.9403,
          -1.9403
         ],
         "legendgroup": "Rwanda",
         "lon": [
          29.8739,
          29.8739,
          29.8739,
          29.8739,
          29.8739,
          29.8739,
          29.8739,
          29.8739,
          29.8739
         ],
         "marker": {
          "color": "#FFA15A",
          "symbol": "circle"
         },
         "mode": "markers",
         "name": "Rwanda",
         "showlegend": true,
         "type": "scattergeo"
        },
        {
         "geo": "geo",
         "hovertemplate": "<b>%{hovertext}</b><br><br>Country=South Sudan<br>latitude=%{lat}<br>longitude=%{lon}<extra></extra>",
         "hovertext": [
          "South Sudan",
          "South Sudan",
          "South Sudan",
          "South Sudan",
          "South Sudan",
          "South Sudan",
          "South Sudan",
          "South Sudan"
         ],
         "lat": [
          6.877,
          6.877,
          6.877,
          6.877,
          6.877,
          6.877,
          6.877,
          6.877
         ],
         "legendgroup": "South Sudan",
         "lon": [
          31.307,
          31.307,
          31.307,
          31.307,
          31.307,
          31.307,
          31.307,
          31.307
         ],
         "marker": {
          "color": "#19d3f3",
          "symbol": "circle"
         },
         "mode": "markers",
         "name": "South Sudan",
         "showlegend": true,
         "type": "scattergeo"
        },
        {
         "geo": "geo",
         "hovertemplate": "<b>%{hovertext}</b><br><br>Country=Lao PDR<br>latitude=%{lat}<br>longitude=%{lon}<extra></extra>",
         "hovertext": [
          "Lao PDR",
          "Lao PDR",
          "Lao PDR",
          "Lao PDR",
          "Lao PDR"
         ],
         "lat": [
          19.8563,
          19.8563,
          19.8563,
          19.8563,
          19.8563
         ],
         "legendgroup": "Lao PDR",
         "lon": [
          102.4955,
          102.4955,
          102.4955,
          102.4955,
          102.4955
         ],
         "marker": {
          "color": "#FF6692",
          "symbol": "circle"
         },
         "mode": "markers",
         "name": "Lao PDR",
         "showlegend": true,
         "type": "scattergeo"
        },
        {
         "geo": "geo",
         "hovertemplate": "<b>%{hovertext}</b><br><br>Country=Puerto Rico<br>latitude=%{lat}<br>longitude=%{lon}<extra></extra>",
         "hovertext": [
          "Puerto Rico",
          "Puerto Rico",
          "Puerto Rico",
          "Puerto Rico",
          "Puerto Rico"
         ],
         "lat": [
          18.2208,
          18.2208,
          18.2208,
          18.2208,
          18.2208
         ],
         "legendgroup": "Puerto Rico",
         "lon": [
          -66.5901,
          -66.5901,
          -66.5901,
          -66.5901,
          -66.5901
         ],
         "marker": {
          "color": "#B6E880",
          "symbol": "circle"
         },
         "mode": "markers",
         "name": "Puerto Rico",
         "showlegend": true,
         "type": "scattergeo"
        },
        {
         "geo": "geo",
         "hovertemplate": "<b>%{hovertext}</b><br><br>Country=Japan<br>latitude=%{lat}<br>longitude=%{lon}<extra></extra>",
         "hovertext": [
          "Japan",
          "Japan"
         ],
         "lat": [
          36.2048,
          36.2048
         ],
         "legendgroup": "Japan",
         "lon": [
          138.2529,
          138.2529
         ],
         "marker": {
          "color": "#FF97FF",
          "symbol": "circle"
         },
         "mode": "markers",
         "name": "Japan",
         "showlegend": true,
         "type": "scattergeo"
        },
        {
         "geo": "geo",
         "hovertemplate": "<b>%{hovertext}</b><br><br>Country=Bolivia<br>latitude=%{lat}<br>longitude=%{lon}<extra></extra>",
         "hovertext": [
          "Bolivia",
          "Bolivia",
          "Bolivia"
         ],
         "lat": [
          -16.2902,
          -16.2902,
          -16.2902
         ],
         "legendgroup": "Bolivia",
         "lon": [
          -63.5887,
          -63.5887,
          -63.5887
         ],
         "marker": {
          "color": "#FECB52",
          "symbol": "circle"
         },
         "mode": "markers",
         "name": "Bolivia",
         "showlegend": true,
         "type": "scattergeo"
        },
        {
         "geo": "geo",
         "hovertemplate": "<b>%{hovertext}</b><br><br>Country=Philippines<br>latitude=%{lat}<br>longitude=%{lon}<extra></extra>",
         "hovertext": [
          "Philippines",
          "Philippines"
         ],
         "lat": [
          12.879721,
          12.879721
         ],
         "legendgroup": "Philippines",
         "lon": [
          121.774017,
          121.774017
         ],
         "marker": {
          "color": "#636efa",
          "symbol": "circle"
         },
         "mode": "markers",
         "name": "Philippines",
         "showlegend": true,
         "type": "scattergeo"
        },
        {
         "geo": "geo",
         "hovertemplate": "<b>%{hovertext}</b><br><br>Country=Luxembourg<br>latitude=%{lat}<br>longitude=%{lon}<extra></extra>",
         "hovertext": [
          "Luxembourg",
          "Luxembourg"
         ],
         "lat": [
          49.8153,
          49.8153
         ],
         "legendgroup": "Luxembourg",
         "lon": [
          6.1296,
          6.1296
         ],
         "marker": {
          "color": "#EF553B",
          "symbol": "circle"
         },
         "mode": "markers",
         "name": "Luxembourg",
         "showlegend": true,
         "type": "scattergeo"
        },
        {
         "geo": "geo",
         "hovertemplate": "<b>%{hovertext}</b><br><br>Country=Cabo Verde<br>latitude=%{lat}<br>longitude=%{lon}<extra></extra>",
         "hovertext": [
          "Cabo Verde",
          "Cabo Verde"
         ],
         "lat": [
          16.5388,
          16.5388
         ],
         "legendgroup": "Cabo Verde",
         "lon": [
          -23.0418,
          -23.0418
         ],
         "marker": {
          "color": "#00cc96",
          "symbol": "circle"
         },
         "mode": "markers",
         "name": "Cabo Verde",
         "showlegend": true,
         "type": "scattergeo"
        },
        {
         "geo": "geo",
         "hovertemplate": "<b>%{hovertext}</b><br><br>Country=Papua New Guinea<br>latitude=%{lat}<br>longitude=%{lon}<extra></extra>",
         "hovertext": [
          "Papua New Guinea",
          "Papua New Guinea",
          "Papua New Guinea",
          "Papua New Guinea",
          "Papua New Guinea",
          "Papua New Guinea",
          "Papua New Guinea",
          "Papua New Guinea",
          "Papua New Guinea",
          "Papua New Guinea"
         ],
         "lat": [
          -6.314993,
          -6.314993,
          -6.314993,
          -6.314993,
          -6.314993,
          -6.314993,
          -6.314993,
          -6.314993,
          -6.314993,
          -6.314993
         ],
         "legendgroup": "Papua New Guinea",
         "lon": [
          143.95555,
          143.95555,
          143.95555,
          143.95555,
          143.95555,
          143.95555,
          143.95555,
          143.95555,
          143.95555,
          143.95555
         ],
         "marker": {
          "color": "#ab63fa",
          "symbol": "circle"
         },
         "mode": "markers",
         "name": "Papua New Guinea",
         "showlegend": true,
         "type": "scattergeo"
        },
        {
         "geo": "geo",
         "hovertemplate": "<b>%{hovertext}</b><br><br>Country=Senegal<br>latitude=%{lat}<br>longitude=%{lon}<extra></extra>",
         "hovertext": [
          "Senegal",
          "Senegal",
          "Senegal"
         ],
         "lat": [
          14.4974,
          14.4974,
          14.4974
         ],
         "legendgroup": "Senegal",
         "lon": [
          -14.4524,
          -14.4524,
          -14.4524
         ],
         "marker": {
          "color": "#FFA15A",
          "symbol": "circle"
         },
         "mode": "markers",
         "name": "Senegal",
         "showlegend": true,
         "type": "scattergeo"
        },
        {
         "geo": "geo",
         "hovertemplate": "<b>%{hovertext}</b><br><br>Country=Norway<br>latitude=%{lat}<br>longitude=%{lon}<extra></extra>",
         "hovertext": [
          "Norway",
          "Norway",
          "Norway",
          "Norway",
          "Norway",
          "Norway",
          "Norway"
         ],
         "lat": [
          60.472,
          60.472,
          60.472,
          60.472,
          60.472,
          60.472,
          60.472
         ],
         "legendgroup": "Norway",
         "lon": [
          8.4689,
          8.4689,
          8.4689,
          8.4689,
          8.4689,
          8.4689,
          8.4689
         ],
         "marker": {
          "color": "#19d3f3",
          "symbol": "circle"
         },
         "mode": "markers",
         "name": "Norway",
         "showlegend": true,
         "type": "scattergeo"
        },
        {
         "geo": "geo",
         "hovertemplate": "<b>%{hovertext}</b><br><br>Country=Lesotho<br>latitude=%{lat}<br>longitude=%{lon}<extra></extra>",
         "hovertext": [
          "Lesotho",
          "Lesotho",
          "Lesotho",
          "Lesotho",
          "Lesotho",
          "Lesotho"
         ],
         "lat": [
          -29.6099,
          -29.6099,
          -29.6099,
          -29.6099,
          -29.6099,
          -29.6099
         ],
         "legendgroup": "Lesotho",
         "lon": [
          28.2336,
          28.2336,
          28.2336,
          28.2336,
          28.2336,
          28.2336
         ],
         "marker": {
          "color": "#FF6692",
          "symbol": "circle"
         },
         "mode": "markers",
         "name": "Lesotho",
         "showlegend": true,
         "type": "scattergeo"
        },
        {
         "geo": "geo",
         "hovertemplate": "<b>%{hovertext}</b><br><br>Country=Denmark<br>latitude=%{lat}<br>longitude=%{lon}<extra></extra>",
         "hovertext": [
          "Denmark",
          "Denmark",
          "Denmark",
          "Denmark"
         ],
         "lat": [
          56.2639,
          56.2639,
          56.2639,
          56.2639
         ],
         "legendgroup": "Denmark",
         "lon": [
          9.5018,
          9.5018,
          9.5018,
          9.5018
         ],
         "marker": {
          "color": "#B6E880",
          "symbol": "circle"
         },
         "mode": "markers",
         "name": "Denmark",
         "showlegend": true,
         "type": "scattergeo"
        },
        {
         "geo": "geo",
         "hovertemplate": "<b>%{hovertext}</b><br><br>Country=Kuwait<br>latitude=%{lat}<br>longitude=%{lon}<extra></extra>",
         "hovertext": [
          "Kuwait",
          "Kuwait",
          "Kuwait",
          "Kuwait",
          "Kuwait",
          "Kuwait"
         ],
         "lat": [
          29.3117,
          29.3117,
          29.3117,
          29.3117,
          29.3117,
          29.3117
         ],
         "legendgroup": "Kuwait",
         "lon": [
          47.4818,
          47.4818,
          47.4818,
          47.4818,
          47.4818,
          47.4818
         ],
         "marker": {
          "color": "#FF97FF",
          "symbol": "circle"
         },
         "mode": "markers",
         "name": "Kuwait",
         "showlegend": true,
         "type": "scattergeo"
        },
        {
         "geo": "geo",
         "hovertemplate": "<b>%{hovertext}</b><br><br>Country=Vanuatu<br>latitude=%{lat}<br>longitude=%{lon}<extra></extra>",
         "hovertext": [
          "Vanuatu",
          "Vanuatu",
          "Vanuatu",
          "Vanuatu",
          "Vanuatu",
          "Vanuatu",
          "Vanuatu"
         ],
         "lat": [
          -15.3767,
          -15.3767,
          -15.3767,
          -15.3767,
          -15.3767,
          -15.3767,
          -15.3767
         ],
         "legendgroup": "Vanuatu",
         "lon": [
          166.9592,
          166.9592,
          166.9592,
          166.9592,
          166.9592,
          166.9592,
          166.9592
         ],
         "marker": {
          "color": "#FECB52",
          "symbol": "circle"
         },
         "mode": "markers",
         "name": "Vanuatu",
         "showlegend": true,
         "type": "scattergeo"
        },
        {
         "geo": "geo",
         "hovertemplate": "<b>%{hovertext}</b><br><br>Country=Zambia<br>latitude=%{lat}<br>longitude=%{lon}<extra></extra>",
         "hovertext": [
          "Zambia",
          "Zambia",
          "Zambia",
          "Zambia",
          "Zambia",
          "Zambia",
          "Zambia"
         ],
         "lat": [
          -13.1339,
          -13.1339,
          -13.1339,
          -13.1339,
          -13.1339,
          -13.1339,
          -13.1339
         ],
         "legendgroup": "Zambia",
         "lon": [
          27.8493,
          27.8493,
          27.8493,
          27.8493,
          27.8493,
          27.8493,
          27.8493
         ],
         "marker": {
          "color": "#636efa",
          "symbol": "circle"
         },
         "mode": "markers",
         "name": "Zambia",
         "showlegend": true,
         "type": "scattergeo"
        },
        {
         "geo": "geo",
         "hovertemplate": "<b>%{hovertext}</b><br><br>Country=Brazil<br>latitude=%{lat}<br>longitude=%{lon}<extra></extra>",
         "hovertext": [
          "Brazil",
          "Brazil",
          "Brazil",
          "Brazil"
         ],
         "lat": [
          -14.235,
          -14.235,
          -14.235,
          -14.235
         ],
         "legendgroup": "Brazil",
         "lon": [
          -51.9253,
          -51.9253,
          -51.9253,
          -51.9253
         ],
         "marker": {
          "color": "#EF553B",
          "symbol": "circle"
         },
         "mode": "markers",
         "name": "Brazil",
         "showlegend": true,
         "type": "scattergeo"
        },
        {
         "geo": "geo",
         "hovertemplate": "<b>%{hovertext}</b><br><br>Country=Trinidad and Tobago<br>latitude=%{lat}<br>longitude=%{lon}<extra></extra>",
         "hovertext": [
          "Trinidad and Tobago",
          "Trinidad and Tobago",
          "Trinidad and Tobago",
          "Trinidad and Tobago",
          "Trinidad and Tobago",
          "Trinidad and Tobago"
         ],
         "lat": [
          10.6918,
          10.6918,
          10.6918,
          10.6918,
          10.6918,
          10.6918
         ],
         "legendgroup": "Trinidad and Tobago",
         "lon": [
          -61.2225,
          -61.2225,
          -61.2225,
          -61.2225,
          -61.2225,
          -61.2225
         ],
         "marker": {
          "color": "#00cc96",
          "symbol": "circle"
         },
         "mode": "markers",
         "name": "Trinidad and Tobago",
         "showlegend": true,
         "type": "scattergeo"
        },
        {
         "geo": "geo",
         "hovertemplate": "<b>%{hovertext}</b><br><br>Country=Uganda<br>latitude=%{lat}<br>longitude=%{lon}<extra></extra>",
         "hovertext": [
          "Uganda",
          "Uganda",
          "Uganda",
          "Uganda"
         ],
         "lat": [
          1.3733,
          1.3733,
          1.3733,
          1.3733
         ],
         "legendgroup": "Uganda",
         "lon": [
          32.2903,
          32.2903,
          32.2903,
          32.2903
         ],
         "marker": {
          "color": "#ab63fa",
          "symbol": "circle"
         },
         "mode": "markers",
         "name": "Uganda",
         "showlegend": true,
         "type": "scattergeo"
        },
        {
         "geo": "geo",
         "hovertemplate": "<b>%{hovertext}</b><br><br>Country=Hong Kong SAR, China<br>latitude=%{lat}<br>longitude=%{lon}<extra></extra>",
         "hovertext": [
          "Hong Kong SAR, China",
          "Hong Kong SAR, China",
          "Hong Kong SAR, China",
          "Hong Kong SAR, China",
          "Hong Kong SAR, China",
          "Hong Kong SAR, China"
         ],
         "lat": [
          22.3964,
          22.3964,
          22.3964,
          22.3964,
          22.3964,
          22.3964
         ],
         "legendgroup": "Hong Kong SAR, China",
         "lon": [
          114.1095,
          114.1095,
          114.1095,
          114.1095,
          114.1095,
          114.1095
         ],
         "marker": {
          "color": "#FFA15A",
          "symbol": "circle"
         },
         "mode": "markers",
         "name": "Hong Kong SAR, China",
         "showlegend": true,
         "type": "scattergeo"
        },
        {
         "geo": "geo",
         "hovertemplate": "<b>%{hovertext}</b><br><br>Country=Czech Republic<br>latitude=%{lat}<br>longitude=%{lon}<extra></extra>",
         "hovertext": [
          "Czech Republic",
          "Czech Republic",
          "Czech Republic",
          "Czech Republic"
         ],
         "lat": [
          49.8175,
          49.8175,
          49.8175,
          49.8175
         ],
         "legendgroup": "Czech Republic",
         "lon": [
          15.473,
          15.473,
          15.473,
          15.473
         ],
         "marker": {
          "color": "#19d3f3",
          "symbol": "circle"
         },
         "mode": "markers",
         "name": "Czech Republic",
         "showlegend": true,
         "type": "scattergeo"
        },
        {
         "geo": "geo",
         "hovertemplate": "<b>%{hovertext}</b><br><br>Country=Central African Republic<br>latitude=%{lat}<br>longitude=%{lon}<extra></extra>",
         "hovertext": [
          "Central African Republic",
          "Central African Republic",
          "Central African Republic",
          "Central African Republic",
          "Central African Republic"
         ],
         "lat": [
          6.6111,
          6.6111,
          6.6111,
          6.6111,
          6.6111
         ],
         "legendgroup": "Central African Republic",
         "lon": [
          20.9394,
          20.9394,
          20.9394,
          20.9394,
          20.9394
         ],
         "marker": {
          "color": "#FF6692",
          "symbol": "circle"
         },
         "mode": "markers",
         "name": "Central African Republic",
         "showlegend": true,
         "type": "scattergeo"
        },
        {
         "geo": "geo",
         "hovertemplate": "<b>%{hovertext}</b><br><br>Country=USA<br>latitude=%{lat}<br>longitude=%{lon}<extra></extra>",
         "hovertext": [
          "USA",
          "USA"
         ],
         "lat": [
          37.0902,
          37.0902
         ],
         "legendgroup": "USA",
         "lon": [
          -95.7129,
          -95.7129
         ],
         "marker": {
          "color": "#B6E880",
          "symbol": "circle"
         },
         "mode": "markers",
         "name": "USA",
         "showlegend": true,
         "type": "scattergeo"
        },
        {
         "geo": "geo",
         "hovertemplate": "<b>%{hovertext}</b><br><br>Country=Uruguay<br>latitude=%{lat}<br>longitude=%{lon}<extra></extra>",
         "hovertext": [
          "Uruguay",
          "Uruguay",
          "Uruguay",
          "Uruguay",
          "Uruguay",
          "Uruguay"
         ],
         "lat": [
          -32.5228,
          -32.5228,
          -32.5228,
          -32.5228,
          -32.5228,
          -32.5228
         ],
         "legendgroup": "Uruguay",
         "lon": [
          -55.7658,
          -55.7658,
          -55.7658,
          -55.7658,
          -55.7658,
          -55.7658
         ],
         "marker": {
          "color": "#FF97FF",
          "symbol": "circle"
         },
         "mode": "markers",
         "name": "Uruguay",
         "showlegend": true,
         "type": "scattergeo"
        },
        {
         "geo": "geo",
         "hovertemplate": "<b>%{hovertext}</b><br><br>Country=Madagascar<br>latitude=%{lat}<br>longitude=%{lon}<extra></extra>",
         "hovertext": [
          "Madagascar",
          "Madagascar",
          "Madagascar",
          "Madagascar",
          "Madagascar"
         ],
         "lat": [
          -18.8792,
          -18.8792,
          -18.8792,
          -18.8792,
          -18.8792
         ],
         "legendgroup": "Madagascar",
         "lon": [
          46.8451,
          46.8451,
          46.8451,
          46.8451,
          46.8451
         ],
         "marker": {
          "color": "#FECB52",
          "symbol": "circle"
         },
         "mode": "markers",
         "name": "Madagascar",
         "showlegend": true,
         "type": "scattergeo"
        },
        {
         "geo": "geo",
         "hovertemplate": "<b>%{hovertext}</b><br><br>Country=Macedonia, FYR<br>latitude=%{lat}<br>longitude=%{lon}<extra></extra>",
         "hovertext": [
          "Macedonia, FYR",
          "Macedonia, FYR",
          "Macedonia, FYR",
          "Macedonia, FYR",
          "Macedonia, FYR"
         ],
         "lat": [
          41.6086,
          41.6086,
          41.6086,
          41.6086,
          41.6086
         ],
         "legendgroup": "Macedonia, FYR",
         "lon": [
          21.7453,
          21.7453,
          21.7453,
          21.7453,
          21.7453
         ],
         "marker": {
          "color": "#636efa",
          "symbol": "circle"
         },
         "mode": "markers",
         "name": "Macedonia, FYR",
         "showlegend": true,
         "type": "scattergeo"
        },
        {
         "geo": "geo",
         "hovertemplate": "<b>%{hovertext}</b><br><br>Country=Haiti<br>latitude=%{lat}<br>longitude=%{lon}<extra></extra>",
         "hovertext": [
          "Haiti",
          "Haiti",
          "Haiti",
          "Haiti",
          "Haiti"
         ],
         "lat": [
          18.9712,
          18.9712,
          18.9712,
          18.9712,
          18.9712
         ],
         "legendgroup": "Haiti",
         "lon": [
          -72.2852,
          -72.2852,
          -72.2852,
          -72.2852,
          -72.2852
         ],
         "marker": {
          "color": "#EF553B",
          "symbol": "circle"
         },
         "mode": "markers",
         "name": "Haiti",
         "showlegend": true,
         "type": "scattergeo"
        },
        {
         "geo": "geo",
         "hovertemplate": "<b>%{hovertext}</b><br><br>Country=Equatorial Guinea<br>latitude=%{lat}<br>longitude=%{lon}<extra></extra>",
         "hovertext": [
          "Equatorial Guinea",
          "Equatorial Guinea",
          "Equatorial Guinea",
          "Equatorial Guinea",
          "Equatorial Guinea",
          "Equatorial Guinea"
         ],
         "lat": [
          1.6508,
          1.6508,
          1.6508,
          1.6508,
          1.6508,
          1.6508
         ],
         "legendgroup": "Equatorial Guinea",
         "lon": [
          10.2679,
          10.2679,
          10.2679,
          10.2679,
          10.2679,
          10.2679
         ],
         "marker": {
          "color": "#00cc96",
          "symbol": "circle"
         },
         "mode": "markers",
         "name": "Equatorial Guinea",
         "showlegend": true,
         "type": "scattergeo"
        },
        {
         "geo": "geo",
         "hovertemplate": "<b>%{hovertext}</b><br><br>Country=Liberia<br>latitude=%{lat}<br>longitude=%{lon}<extra></extra>",
         "hovertext": [
          "Liberia",
          "Liberia",
          "Liberia",
          "Liberia"
         ],
         "lat": [
          6.4281,
          6.4281,
          6.4281,
          6.4281
         ],
         "legendgroup": "Liberia",
         "lon": [
          -9.4295,
          -9.4295,
          -9.4295,
          -9.4295
         ],
         "marker": {
          "color": "#ab63fa",
          "symbol": "circle"
         },
         "mode": "markers",
         "name": "Liberia",
         "showlegend": true,
         "type": "scattergeo"
        },
        {
         "geo": "geo",
         "hovertemplate": "<b>%{hovertext}</b><br><br>Country=Barbados<br>latitude=%{lat}<br>longitude=%{lon}<extra></extra>",
         "hovertext": [
          "Barbados",
          "Barbados",
          "Barbados",
          "Barbados"
         ],
         "lat": [
          13.1939,
          13.1939,
          13.1939,
          13.1939
         ],
         "legendgroup": "Barbados",
         "lon": [
          -59.5432,
          -59.5432,
          -59.5432,
          -59.5432
         ],
         "marker": {
          "color": "#FFA15A",
          "symbol": "circle"
         },
         "mode": "markers",
         "name": "Barbados",
         "showlegend": true,
         "type": "scattergeo"
        },
        {
         "geo": "geo",
         "hovertemplate": "<b>%{hovertext}</b><br><br>Country=Iran, Islamic Rep.<br>latitude=%{lat}<br>longitude=%{lon}<extra></extra>",
         "hovertext": [
          "Iran, Islamic Rep.",
          "Iran, Islamic Rep.",
          "Iran, Islamic Rep."
         ],
         "lat": [
          32.4279,
          32.4279,
          32.4279
         ],
         "legendgroup": "Iran, Islamic Rep.",
         "lon": [
          53.688,
          53.688,
          53.688
         ],
         "marker": {
          "color": "#19d3f3",
          "symbol": "circle"
         },
         "mode": "markers",
         "name": "Iran, Islamic Rep.",
         "showlegend": true,
         "type": "scattergeo"
        },
        {
         "geo": "geo",
         "hovertemplate": "<b>%{hovertext}</b><br><br>Country=Dominican Republic<br>latitude=%{lat}<br>longitude=%{lon}<extra></extra>",
         "hovertext": [
          "Dominican Republic",
          "Dominican Republic",
          "Dominican Republic",
          "Dominican Republic"
         ],
         "lat": [
          18.7357,
          18.7357,
          18.7357,
          18.7357
         ],
         "legendgroup": "Dominican Republic",
         "lon": [
          -70.1627,
          -70.1627,
          -70.1627,
          -70.1627
         ],
         "marker": {
          "color": "#FF6692",
          "symbol": "circle"
         },
         "mode": "markers",
         "name": "Dominican Republic",
         "showlegend": true,
         "type": "scattergeo"
        },
        {
         "geo": "geo",
         "hovertemplate": "<b>%{hovertext}</b><br><br>Country=Singapore<br>latitude=%{lat}<br>longitude=%{lon}<extra></extra>",
         "hovertext": [
          "Singapore",
          "Singapore",
          "Singapore"
         ],
         "lat": [
          1.3521,
          1.3521,
          1.3521
         ],
         "legendgroup": "Singapore",
         "lon": [
          103.8198,
          103.8198,
          103.8198
         ],
         "marker": {
          "color": "#B6E880",
          "symbol": "circle"
         },
         "mode": "markers",
         "name": "Singapore",
         "showlegend": true,
         "type": "scattergeo"
        },
        {
         "geo": "geo",
         "hovertemplate": "<b>%{hovertext}</b><br><br>Country=Peru<br>latitude=%{lat}<br>longitude=%{lon}<extra></extra>",
         "hovertext": [
          "Peru",
          "Peru",
          "Peru",
          "Peru"
         ],
         "lat": [
          -9.189967,
          -9.189967,
          -9.189967,
          -9.189967
         ],
         "legendgroup": "Peru",
         "lon": [
          -75.015152,
          -75.015152,
          -75.015152,
          -75.015152
         ],
         "marker": {
          "color": "#FF97FF",
          "symbol": "circle"
         },
         "mode": "markers",
         "name": "Peru",
         "showlegend": true,
         "type": "scattergeo"
        },
        {
         "geo": "geo",
         "hovertemplate": "<b>%{hovertext}</b><br><br>Country=Guinea<br>latitude=%{lat}<br>longitude=%{lon}<extra></extra>",
         "hovertext": [
          "Guinea",
          "Guinea",
          "Guinea",
          "Guinea",
          "Guinea"
         ],
         "lat": [
          9.9456,
          9.9456,
          9.9456,
          9.9456,
          9.9456
         ],
         "legendgroup": "Guinea",
         "lon": [
          -9.6966,
          -9.6966,
          -9.6966,
          -9.6966,
          -9.6966
         ],
         "marker": {
          "color": "#FECB52",
          "symbol": "circle"
         },
         "mode": "markers",
         "name": "Guinea",
         "showlegend": true,
         "type": "scattergeo"
        },
        {
         "geo": "geo",
         "hovertemplate": "<b>%{hovertext}</b><br><br>Country=Palau<br>latitude=%{lat}<br>longitude=%{lon}<extra></extra>",
         "hovertext": [
          "Palau",
          "Palau",
          "Palau"
         ],
         "lat": [
          7.5149,
          7.5149,
          7.5149
         ],
         "legendgroup": "Palau",
         "lon": [
          134.5825,
          134.5825,
          134.5825
         ],
         "marker": {
          "color": "#636efa",
          "symbol": "circle"
         },
         "mode": "markers",
         "name": "Palau",
         "showlegend": true,
         "type": "scattergeo"
        },
        {
         "geo": "geo",
         "hovertemplate": "<b>%{hovertext}</b><br><br>Country=Gibraltar<br>latitude=%{lat}<br>longitude=%{lon}<extra></extra>",
         "hovertext": [
          "Gibraltar",
          "Gibraltar",
          "Gibraltar",
          "Gibraltar",
          "Gibraltar",
          "Gibraltar"
         ],
         "lat": [
          36.1408,
          36.1408,
          36.1408,
          36.1408,
          36.1408,
          36.1408
         ],
         "legendgroup": "Gibraltar",
         "lon": [
          -5.3536,
          -5.3536,
          -5.3536,
          -5.3536,
          -5.3536,
          -5.3536
         ],
         "marker": {
          "color": "#EF553B",
          "symbol": "circle"
         },
         "mode": "markers",
         "name": "Gibraltar",
         "showlegend": true,
         "type": "scattergeo"
        },
        {
         "geo": "geo",
         "hovertemplate": "<b>%{hovertext}</b><br><br>Country=Seychelles<br>latitude=%{lat}<br>longitude=%{lon}<extra></extra>",
         "hovertext": [
          "Seychelles",
          "Seychelles",
          "Seychelles",
          "Seychelles",
          "Seychelles"
         ],
         "lat": [
          -4.6796,
          -4.6796,
          -4.6796,
          -4.6796,
          -4.6796
         ],
         "legendgroup": "Seychelles",
         "lon": [
          55.492,
          55.492,
          55.492,
          55.492,
          55.492
         ],
         "marker": {
          "color": "#00cc96",
          "symbol": "circle"
         },
         "mode": "markers",
         "name": "Seychelles",
         "showlegend": true,
         "type": "scattergeo"
        },
        {
         "geo": "geo",
         "hovertemplate": "<b>%{hovertext}</b><br><br>Country=Iraq<br>latitude=%{lat}<br>longitude=%{lon}<extra></extra>",
         "hovertext": [
          "Iraq",
          "Iraq",
          "Iraq",
          "Iraq"
         ],
         "lat": [
          33.2232,
          33.2232,
          33.2232,
          33.2232
         ],
         "legendgroup": "Iraq",
         "lon": [
          43.6793,
          43.6793,
          43.6793,
          43.6793
         ],
         "marker": {
          "color": "#ab63fa",
          "symbol": "circle"
         },
         "mode": "markers",
         "name": "Iraq",
         "showlegend": true,
         "type": "scattergeo"
        },
        {
         "geo": "geo",
         "hovertemplate": "<b>%{hovertext}</b><br><br>Country=Kenya<br>latitude=%{lat}<br>longitude=%{lon}<extra></extra>",
         "hovertext": [
          "Kenya",
          "Kenya",
          "Kenya"
         ],
         "lat": [
          -1.2864,
          -1.2864,
          -1.2864
         ],
         "legendgroup": "Kenya",
         "lon": [
          36.8172,
          36.8172,
          36.8172
         ],
         "marker": {
          "color": "#FFA15A",
          "symbol": "circle"
         },
         "mode": "markers",
         "name": "Kenya",
         "showlegend": true,
         "type": "scattergeo"
        },
        {
         "geo": "geo",
         "hovertemplate": "<b>%{hovertext}</b><br><br>Country=Romania<br>latitude=%{lat}<br>longitude=%{lon}<extra></extra>",
         "hovertext": [
          "Romania",
          "Romania"
         ],
         "lat": [
          45.9432,
          45.9432
         ],
         "legendgroup": "Romania",
         "lon": [
          24.9668,
          24.9668
         ],
         "marker": {
          "color": "#19d3f3",
          "symbol": "circle"
         },
         "mode": "markers",
         "name": "Romania",
         "showlegend": true,
         "type": "scattergeo"
        },
        {
         "geo": "geo",
         "hovertemplate": "<b>%{hovertext}</b><br><br>Country=Cyprus<br>latitude=%{lat}<br>longitude=%{lon}<extra></extra>",
         "hovertext": [
          "Cyprus",
          "Cyprus",
          "Cyprus",
          "Cyprus",
          "Cyprus"
         ],
         "lat": [
          35.1264,
          35.1264,
          35.1264,
          35.1264,
          35.1264
         ],
         "legendgroup": "Cyprus",
         "lon": [
          33.4299,
          33.4299,
          33.4299,
          33.4299,
          33.4299
         ],
         "marker": {
          "color": "#FF6692",
          "symbol": "circle"
         },
         "mode": "markers",
         "name": "Cyprus",
         "showlegend": true,
         "type": "scattergeo"
        },
        {
         "geo": "geo",
         "hovertemplate": "<b>%{hovertext}</b><br><br>Country=Mauritania<br>latitude=%{lat}<br>longitude=%{lon}<extra></extra>",
         "hovertext": [
          "Mauritania",
          "Mauritania",
          "Mauritania",
          "Mauritania",
          "Mauritania",
          "Mauritania"
         ],
         "lat": [
          21.0079,
          21.0079,
          21.0079,
          21.0079,
          21.0079,
          21.0079
         ],
         "legendgroup": "Mauritania",
         "lon": [
          -10.9408,
          -10.9408,
          -10.9408,
          -10.9408,
          -10.9408,
          -10.9408
         ],
         "marker": {
          "color": "#B6E880",
          "symbol": "circle"
         },
         "mode": "markers",
         "name": "Mauritania",
         "showlegend": true,
         "type": "scattergeo"
        },
        {
         "geo": "geo",
         "hovertemplate": "<b>%{hovertext}</b><br><br>Country=Netherlands<br>latitude=%{lat}<br>longitude=%{lon}<extra></extra>",
         "hovertext": [
          "Netherlands",
          "Netherlands",
          "Netherlands",
          "Netherlands",
          "Netherlands",
          "Netherlands"
         ],
         "lat": [
          52.1326,
          52.1326,
          52.1326,
          52.1326,
          52.1326,
          52.1326
         ],
         "legendgroup": "Netherlands",
         "lon": [
          5.2913,
          5.2913,
          5.2913,
          5.2913,
          5.2913,
          5.2913
         ],
         "marker": {
          "color": "#FF97FF",
          "symbol": "circle"
         },
         "mode": "markers",
         "name": "Netherlands",
         "showlegend": true,
         "type": "scattergeo"
        },
        {
         "geo": "geo",
         "hovertemplate": "<b>%{hovertext}</b><br><br>Country=France<br>latitude=%{lat}<br>longitude=%{lon}<extra></extra>",
         "hovertext": [
          "France",
          "France",
          "France",
          "France",
          "France",
          "France",
          "France",
          "France",
          "France"
         ],
         "lat": [
          46.603354,
          46.603354,
          46.603354,
          46.603354,
          46.603354,
          46.603354,
          46.603354,
          46.603354,
          46.603354
         ],
         "legendgroup": "France",
         "lon": [
          1.888334,
          1.888334,
          1.888334,
          1.888334,
          1.888334,
          1.888334,
          1.888334,
          1.888334,
          1.888334
         ],
         "marker": {
          "color": "#FECB52",
          "symbol": "circle"
         },
         "mode": "markers",
         "name": "France",
         "showlegend": true,
         "type": "scattergeo"
        },
        {
         "geo": "geo",
         "hovertemplate": "<b>%{hovertext}</b><br><br>Country=Timor-Leste<br>latitude=%{lat}<br>longitude=%{lon}<extra></extra>",
         "hovertext": [
          "Timor-Leste",
          "Timor-Leste",
          "Timor-Leste"
         ],
         "lat": [
          -8.8742,
          -8.8742,
          -8.8742
         ],
         "legendgroup": "Timor-Leste",
         "lon": [
          125.7275,
          125.7275,
          125.7275
         ],
         "marker": {
          "color": "#636efa",
          "symbol": "circle"
         },
         "mode": "markers",
         "name": "Timor-Leste",
         "showlegend": true,
         "type": "scattergeo"
        },
        {
         "geo": "geo",
         "hovertemplate": "<b>%{hovertext}</b><br><br>Country=American Samoa<br>latitude=%{lat}<br>longitude=%{lon}<extra></extra>",
         "hovertext": [
          "American Samoa",
          "American Samoa",
          "American Samoa",
          "American Samoa",
          "American Samoa",
          "American Samoa",
          "American Samoa"
         ],
         "lat": [
          -14.271,
          -14.271,
          -14.271,
          -14.271,
          -14.271,
          -14.271,
          -14.271
         ],
         "legendgroup": "American Samoa",
         "lon": [
          -170.1322,
          -170.1322,
          -170.1322,
          -170.1322,
          -170.1322,
          -170.1322,
          -170.1322
         ],
         "marker": {
          "color": "#EF553B",
          "symbol": "circle"
         },
         "mode": "markers",
         "name": "American Samoa",
         "showlegend": true,
         "type": "scattergeo"
        },
        {
         "geo": "geo",
         "hovertemplate": "<b>%{hovertext}</b><br><br>Country=Chad<br>latitude=%{lat}<br>longitude=%{lon}<extra></extra>",
         "hovertext": [
          "Chad"
         ],
         "lat": [
          15.4542
         ],
         "legendgroup": "Chad",
         "lon": [
          18.7322
         ],
         "marker": {
          "color": "#00cc96",
          "symbol": "circle"
         },
         "mode": "markers",
         "name": "Chad",
         "showlegend": true,
         "type": "scattergeo"
        },
        {
         "geo": "geo",
         "hovertemplate": "<b>%{hovertext}</b><br><br>Country=Ireland<br>latitude=%{lat}<br>longitude=%{lon}<extra></extra>",
         "hovertext": [
          "Ireland",
          "Ireland",
          "Ireland",
          "Ireland"
         ],
         "lat": [
          53.1424,
          53.1424,
          53.1424,
          53.1424
         ],
         "legendgroup": "Ireland",
         "lon": [
          -7.6921,
          -7.6921,
          -7.6921,
          -7.6921
         ],
         "marker": {
          "color": "#ab63fa",
          "symbol": "circle"
         },
         "mode": "markers",
         "name": "Ireland",
         "showlegend": true,
         "type": "scattergeo"
        },
        {
         "geo": "geo",
         "hovertemplate": "<b>%{hovertext}</b><br><br>Country=Ghana<br>latitude=%{lat}<br>longitude=%{lon}<extra></extra>",
         "hovertext": [
          "Ghana",
          "Ghana"
         ],
         "lat": [
          7.9465,
          7.9465
         ],
         "legendgroup": "Ghana",
         "lon": [
          -1.0232,
          -1.0232
         ],
         "marker": {
          "color": "#FFA15A",
          "symbol": "circle"
         },
         "mode": "markers",
         "name": "Ghana",
         "showlegend": true,
         "type": "scattergeo"
        },
        {
         "geo": "geo",
         "hovertemplate": "<b>%{hovertext}</b><br><br>Country=Colombia<br>latitude=%{lat}<br>longitude=%{lon}<extra></extra>",
         "hovertext": [
          "Colombia",
          "Colombia",
          "Colombia",
          "Colombia",
          "Colombia",
          "Colombia",
          "Colombia"
         ],
         "lat": [
          4.5709,
          4.5709,
          4.5709,
          4.5709,
          4.5709,
          4.5709,
          4.5709
         ],
         "legendgroup": "Colombia",
         "lon": [
          -74.2973,
          -74.2973,
          -74.2973,
          -74.2973,
          -74.2973,
          -74.2973,
          -74.2973
         ],
         "marker": {
          "color": "#19d3f3",
          "symbol": "circle"
         },
         "mode": "markers",
         "name": "Colombia",
         "showlegend": true,
         "type": "scattergeo"
        },
        {
         "geo": "geo",
         "hovertemplate": "<b>%{hovertext}</b><br><br>Country=Thailand<br>latitude=%{lat}<br>longitude=%{lon}<extra></extra>",
         "hovertext": [
          "Thailand",
          "Thailand",
          "Thailand",
          "Thailand"
         ],
         "lat": [
          15.87,
          15.87,
          15.87,
          15.87
         ],
         "legendgroup": "Thailand",
         "lon": [
          100.9925,
          100.9925,
          100.9925,
          100.9925
         ],
         "marker": {
          "color": "#FF6692",
          "symbol": "circle"
         },
         "mode": "markers",
         "name": "Thailand",
         "showlegend": true,
         "type": "scattergeo"
        },
        {
         "geo": "geo",
         "hovertemplate": "<b>%{hovertext}</b><br><br>Country=Uzbekistan<br>latitude=%{lat}<br>longitude=%{lon}<extra></extra>",
         "hovertext": [
          "Uzbekistan",
          "Uzbekistan",
          "Uzbekistan",
          "Uzbekistan",
          "Uzbekistan"
         ],
         "lat": [
          41.3775,
          41.3775,
          41.3775,
          41.3775,
          41.3775
         ],
         "legendgroup": "Uzbekistan",
         "lon": [
          64.5853,
          64.5853,
          64.5853,
          64.5853,
          64.5853
         ],
         "marker": {
          "color": "#B6E880",
          "symbol": "circle"
         },
         "mode": "markers",
         "name": "Uzbekistan",
         "showlegend": true,
         "type": "scattergeo"
        },
        {
         "geo": "geo",
         "hovertemplate": "<b>%{hovertext}</b><br><br>Country=Myanmar<br>latitude=%{lat}<br>longitude=%{lon}<extra></extra>",
         "hovertext": [
          "Myanmar",
          "Myanmar",
          "Myanmar"
         ],
         "lat": [
          21.9162,
          21.9162,
          21.9162
         ],
         "legendgroup": "Myanmar",
         "lon": [
          95.956,
          95.956,
          95.956
         ],
         "marker": {
          "color": "#FF97FF",
          "symbol": "circle"
         },
         "mode": "markers",
         "name": "Myanmar",
         "showlegend": true,
         "type": "scattergeo"
        },
        {
         "geo": "geo",
         "hovertemplate": "<b>%{hovertext}</b><br><br>Country=St. Vincent and the Grenadines<br>latitude=%{lat}<br>longitude=%{lon}<extra></extra>",
         "hovertext": [
          "St. Vincent and the Grenadines",
          "St. Vincent and the Grenadines",
          "St. Vincent and the Grenadines"
         ],
         "lat": [
          12.9843,
          12.9843,
          12.9843
         ],
         "legendgroup": "St. Vincent and the Grenadines",
         "lon": [
          -61.2872,
          -61.2872,
          -61.2872
         ],
         "marker": {
          "color": "#FECB52",
          "symbol": "circle"
         },
         "mode": "markers",
         "name": "St. Vincent and the Grenadines",
         "showlegend": true,
         "type": "scattergeo"
        },
        {
         "geo": "geo",
         "hovertemplate": "<b>%{hovertext}</b><br><br>Country=Burkina Faso<br>latitude=%{lat}<br>longitude=%{lon}<extra></extra>",
         "hovertext": [
          "Burkina Faso",
          "Burkina Faso",
          "Burkina Faso"
         ],
         "lat": [
          12.2383,
          12.2383,
          12.2383
         ],
         "legendgroup": "Burkina Faso",
         "lon": [
          -1.5616,
          -1.5616,
          -1.5616
         ],
         "marker": {
          "color": "#636efa",
          "symbol": "circle"
         },
         "mode": "markers",
         "name": "Burkina Faso",
         "showlegend": true,
         "type": "scattergeo"
        },
        {
         "geo": "geo",
         "hovertemplate": "<b>%{hovertext}</b><br><br>Country=Faroe Islands<br>latitude=%{lat}<br>longitude=%{lon}<extra></extra>",
         "hovertext": [
          "Faroe Islands",
          "Faroe Islands",
          "Faroe Islands"
         ],
         "lat": [
          61.8926,
          61.8926,
          61.8926
         ],
         "legendgroup": "Faroe Islands",
         "lon": [
          -6.9118,
          -6.9118,
          -6.9118
         ],
         "marker": {
          "color": "#EF553B",
          "symbol": "circle"
         },
         "mode": "markers",
         "name": "Faroe Islands",
         "showlegend": true,
         "type": "scattergeo"
        },
        {
         "geo": "geo",
         "hovertemplate": "<b>%{hovertext}</b><br><br>Country=Greenland<br>latitude=%{lat}<br>longitude=%{lon}<extra></extra>",
         "hovertext": [
          "Greenland",
          "Greenland",
          "Greenland",
          "Greenland",
          "Greenland",
          "Greenland",
          "Greenland"
         ],
         "lat": [
          71.7069,
          71.7069,
          71.7069,
          71.7069,
          71.7069,
          71.7069,
          71.7069
         ],
         "legendgroup": "Greenland",
         "lon": [
          -42.6043,
          -42.6043,
          -42.6043,
          -42.6043,
          -42.6043,
          -42.6043,
          -42.6043
         ],
         "marker": {
          "color": "#00cc96",
          "symbol": "circle"
         },
         "mode": "markers",
         "name": "Greenland",
         "showlegend": true,
         "type": "scattergeo"
        },
        {
         "geo": "geo",
         "hovertemplate": "<b>%{hovertext}</b><br><br>Country=Bosnia and Herzegovina<br>latitude=%{lat}<br>longitude=%{lon}<extra></extra>",
         "hovertext": [
          "Bosnia and Herzegovina",
          "Bosnia and Herzegovina",
          "Bosnia and Herzegovina",
          "Bosnia and Herzegovina",
          "Bosnia and Herzegovina",
          "Bosnia and Herzegovina"
         ],
         "lat": [
          43.9159,
          43.9159,
          43.9159,
          43.9159,
          43.9159,
          43.9159
         ],
         "legendgroup": "Bosnia and Herzegovina",
         "lon": [
          17.6791,
          17.6791,
          17.6791,
          17.6791,
          17.6791,
          17.6791
         ],
         "marker": {
          "color": "#ab63fa",
          "symbol": "circle"
         },
         "mode": "markers",
         "name": "Bosnia and Herzegovina",
         "showlegend": true,
         "type": "scattergeo"
        },
        {
         "geo": "geo",
         "hovertemplate": "<b>%{hovertext}</b><br><br>Country=Kazakhstan<br>latitude=%{lat}<br>longitude=%{lon}<extra></extra>",
         "hovertext": [
          "Kazakhstan",
          "Kazakhstan",
          "Kazakhstan",
          "Kazakhstan"
         ],
         "lat": [
          48.0196,
          48.0196,
          48.0196,
          48.0196
         ],
         "legendgroup": "Kazakhstan",
         "lon": [
          66.9237,
          66.9237,
          66.9237,
          66.9237
         ],
         "marker": {
          "color": "#FFA15A",
          "symbol": "circle"
         },
         "mode": "markers",
         "name": "Kazakhstan",
         "showlegend": true,
         "type": "scattergeo"
        },
        {
         "geo": "geo",
         "hovertemplate": "<b>%{hovertext}</b><br><br>Country=Nicaragua<br>latitude=%{lat}<br>longitude=%{lon}<extra></extra>",
         "hovertext": [
          "Nicaragua",
          "Nicaragua",
          "Nicaragua",
          "Nicaragua",
          "Nicaragua",
          "Nicaragua"
         ],
         "lat": [
          12.8654,
          12.8654,
          12.8654,
          12.8654,
          12.8654,
          12.8654
         ],
         "legendgroup": "Nicaragua",
         "lon": [
          -85.2072,
          -85.2072,
          -85.2072,
          -85.2072,
          -85.2072,
          -85.2072
         ],
         "marker": {
          "color": "#19d3f3",
          "symbol": "circle"
         },
         "mode": "markers",
         "name": "Nicaragua",
         "showlegend": true,
         "type": "scattergeo"
        },
        {
         "geo": "geo",
         "hovertemplate": "<b>%{hovertext}</b><br><br>Country=China<br>latitude=%{lat}<br>longitude=%{lon}<extra></extra>",
         "hovertext": [
          "China",
          "China",
          "China"
         ],
         "lat": [
          35.8617,
          35.8617,
          35.8617
         ],
         "legendgroup": "China",
         "lon": [
          104.1954,
          104.1954,
          104.1954
         ],
         "marker": {
          "color": "#FF6692",
          "symbol": "circle"
         },
         "mode": "markers",
         "name": "China",
         "showlegend": true,
         "type": "scattergeo"
        },
        {
         "geo": "geo",
         "hovertemplate": "<b>%{hovertext}</b><br><br>Country=Liechtenstein<br>latitude=%{lat}<br>longitude=%{lon}<extra></extra>",
         "hovertext": [
          "Liechtenstein",
          "Liechtenstein",
          "Liechtenstein"
         ],
         "lat": [
          47.166,
          47.166,
          47.166
         ],
         "legendgroup": "Liechtenstein",
         "lon": [
          9.5554,
          9.5554,
          9.5554
         ],
         "marker": {
          "color": "#B6E880",
          "symbol": "circle"
         },
         "mode": "markers",
         "name": "Liechtenstein",
         "showlegend": true,
         "type": "scattergeo"
        },
        {
         "geo": "geo",
         "hovertemplate": "<b>%{hovertext}</b><br><br>Country=Poland<br>latitude=%{lat}<br>longitude=%{lon}<extra></extra>",
         "hovertext": [
          "Poland",
          "Poland",
          "Poland",
          "Poland"
         ],
         "lat": [
          51.9194,
          51.9194,
          51.9194,
          51.9194
         ],
         "legendgroup": "Poland",
         "lon": [
          19.1451,
          19.1451,
          19.1451,
          19.1451
         ],
         "marker": {
          "color": "#FF97FF",
          "symbol": "circle"
         },
         "mode": "markers",
         "name": "Poland",
         "showlegend": true,
         "type": "scattergeo"
        },
        {
         "geo": "geo",
         "hovertemplate": "<b>%{hovertext}</b><br><br>Country=Switzerland<br>latitude=%{lat}<br>longitude=%{lon}<extra></extra>",
         "hovertext": [
          "Switzerland",
          "Switzerland",
          "Switzerland",
          "Switzerland"
         ],
         "lat": [
          46.8182,
          46.8182,
          46.8182,
          46.8182
         ],
         "legendgroup": "Switzerland",
         "lon": [
          8.2275,
          8.2275,
          8.2275,
          8.2275
         ],
         "marker": {
          "color": "#FECB52",
          "symbol": "circle"
         },
         "mode": "markers",
         "name": "Switzerland",
         "showlegend": true,
         "type": "scattergeo"
        },
        {
         "geo": "geo",
         "hovertemplate": "<b>%{hovertext}</b><br><br>Country=Korea, Rep.<br>latitude=%{lat}<br>longitude=%{lon}<extra></extra>",
         "hovertext": [
          "Korea, Rep.",
          "Korea, Rep.",
          "Korea, Rep.",
          "Korea, Rep."
         ],
         "lat": [
          35.9078,
          35.9078,
          35.9078,
          35.9078
         ],
         "legendgroup": "Korea, Rep.",
         "lon": [
          127.7669,
          127.7669,
          127.7669,
          127.7669
         ],
         "marker": {
          "color": "#636efa",
          "symbol": "circle"
         },
         "mode": "markers",
         "name": "Korea, Rep.",
         "showlegend": true,
         "type": "scattergeo"
        },
        {
         "geo": "geo",
         "hovertemplate": "<b>%{hovertext}</b><br><br>Country=Argentina<br>latitude=%{lat}<br>longitude=%{lon}<extra></extra>",
         "hovertext": [
          "Argentina",
          "Argentina",
          "Argentina",
          "Argentina",
          "Argentina",
          "Argentina"
         ],
         "lat": [
          -38.4161,
          -38.4161,
          -38.4161,
          -38.4161,
          -38.4161,
          -38.4161
         ],
         "legendgroup": "Argentina",
         "lon": [
          -63.6167,
          -63.6167,
          -63.6167,
          -63.6167,
          -63.6167,
          -63.6167
         ],
         "marker": {
          "color": "#EF553B",
          "symbol": "circle"
         },
         "mode": "markers",
         "name": "Argentina",
         "showlegend": true,
         "type": "scattergeo"
        },
        {
         "geo": "geo",
         "hovertemplate": "<b>%{hovertext}</b><br><br>Country=Eswatini<br>latitude=%{lat}<br>longitude=%{lon}<extra></extra>",
         "hovertext": [
          "Eswatini",
          "Eswatini",
          "Eswatini",
          "Eswatini",
          "Eswatini",
          "Eswatini",
          "Eswatini"
         ],
         "lat": [
          26.5225,
          26.5225,
          26.5225,
          26.5225,
          26.5225,
          26.5225,
          26.5225
         ],
         "legendgroup": "Eswatini",
         "lon": [
          31.4659,
          31.4659,
          31.4659,
          31.4659,
          31.4659,
          31.4659,
          31.4659
         ],
         "marker": {
          "color": "#00cc96",
          "symbol": "circle"
         },
         "mode": "markers",
         "name": "Eswatini",
         "showlegend": true,
         "type": "scattergeo"
        },
        {
         "geo": "geo",
         "hovertemplate": "<b>%{hovertext}</b><br><br>Country=Tanzania<br>latitude=%{lat}<br>longitude=%{lon}<extra></extra>",
         "hovertext": [
          "Tanzania",
          "Tanzania"
         ],
         "lat": [
          -6.369,
          -6.369
         ],
         "legendgroup": "Tanzania",
         "lon": [
          34.8888,
          34.8888
         ],
         "marker": {
          "color": "#ab63fa",
          "symbol": "circle"
         },
         "mode": "markers",
         "name": "Tanzania",
         "showlegend": true,
         "type": "scattergeo"
        },
        {
         "geo": "geo",
         "hovertemplate": "<b>%{hovertext}</b><br><br>Country=Venezuela, RB<br>latitude=%{lat}<br>longitude=%{lon}<extra></extra>",
         "hovertext": [
          "Venezuela, RB",
          "Venezuela, RB",
          "Venezuela, RB",
          "Venezuela, RB"
         ],
         "lat": [
          6.4238,
          6.4238,
          6.4238,
          6.4238
         ],
         "legendgroup": "Venezuela, RB",
         "lon": [
          -66.5897,
          -66.5897,
          -66.5897,
          -66.5897
         ],
         "marker": {
          "color": "#FFA15A",
          "symbol": "circle"
         },
         "mode": "markers",
         "name": "Venezuela, RB",
         "showlegend": true,
         "type": "scattergeo"
        },
        {
         "geo": "geo",
         "hovertemplate": "<b>%{hovertext}</b><br><br>Country=Israel<br>latitude=%{lat}<br>longitude=%{lon}<extra></extra>",
         "hovertext": [
          "Israel",
          "Israel"
         ],
         "lat": [
          31.0461,
          31.0461
         ],
         "legendgroup": "Israel",
         "lon": [
          34.8516,
          34.8516
         ],
         "marker": {
          "color": "#19d3f3",
          "symbol": "circle"
         },
         "mode": "markers",
         "name": "Israel",
         "showlegend": true,
         "type": "scattergeo"
        },
        {
         "geo": "geo",
         "hovertemplate": "<b>%{hovertext}</b><br><br>Country=Bhutan<br>latitude=%{lat}<br>longitude=%{lon}<extra></extra>",
         "hovertext": [
          "Bhutan",
          "Bhutan",
          "Bhutan",
          "Bhutan",
          "Bhutan"
         ],
         "lat": [
          27.5142,
          27.5142,
          27.5142,
          27.5142,
          27.5142
         ],
         "legendgroup": "Bhutan",
         "lon": [
          90.4336,
          90.4336,
          90.4336,
          90.4336,
          90.4336
         ],
         "marker": {
          "color": "#FF6692",
          "symbol": "circle"
         },
         "mode": "markers",
         "name": "Bhutan",
         "showlegend": true,
         "type": "scattergeo"
        },
        {
         "geo": "geo",
         "hovertemplate": "<b>%{hovertext}</b><br><br>Country=Zimbabwe<br>latitude=%{lat}<br>longitude=%{lon}<extra></extra>",
         "hovertext": [
          "Zimbabwe",
          "Zimbabwe"
         ],
         "lat": [
          -19.0154,
          -19.0154
         ],
         "legendgroup": "Zimbabwe",
         "lon": [
          29.1549,
          29.1549
         ],
         "marker": {
          "color": "#B6E880",
          "symbol": "circle"
         },
         "mode": "markers",
         "name": "Zimbabwe",
         "showlegend": true,
         "type": "scattergeo"
        },
        {
         "geo": "geo",
         "hovertemplate": "<b>%{hovertext}</b><br><br>Country=Andorra<br>latitude=%{lat}<br>longitude=%{lon}<extra></extra>",
         "hovertext": [
          "Andorra",
          "Andorra",
          "Andorra"
         ],
         "lat": [
          42.5063,
          42.5063,
          42.5063
         ],
         "legendgroup": "Andorra",
         "lon": [
          1.5218,
          1.5218,
          1.5218
         ],
         "marker": {
          "color": "#FF97FF",
          "symbol": "circle"
         },
         "mode": "markers",
         "name": "Andorra",
         "showlegend": true,
         "type": "scattergeo"
        },
        {
         "geo": "geo",
         "hovertemplate": "<b>%{hovertext}</b><br><br>Country=Egypt<br>latitude=%{lat}<br>longitude=%{lon}<extra></extra>",
         "hovertext": [
          "Egypt",
          "Egypt",
          "Egypt",
          "Egypt",
          "Egypt"
         ],
         "lat": [
          26.8206,
          26.8206,
          26.8206,
          26.8206,
          26.8206
         ],
         "legendgroup": "Egypt",
         "lon": [
          30.8025,
          30.8025,
          30.8025,
          30.8025,
          30.8025
         ],
         "marker": {
          "color": "#FECB52",
          "symbol": "circle"
         },
         "mode": "markers",
         "name": "Egypt",
         "showlegend": true,
         "type": "scattergeo"
        },
        {
         "geo": "geo",
         "hovertemplate": "<b>%{hovertext}</b><br><br>Country=St. Kitts and Nevis<br>latitude=%{lat}<br>longitude=%{lon}<extra></extra>",
         "hovertext": [
          "St. Kitts and Nevis",
          "St. Kitts and Nevis",
          "St. Kitts and Nevis",
          "St. Kitts and Nevis",
          "St. Kitts and Nevis"
         ],
         "lat": [
          17.3578,
          17.3578,
          17.3578,
          17.3578,
          17.3578
         ],
         "legendgroup": "St. Kitts and Nevis",
         "lon": [
          -62.7829,
          -62.7829,
          -62.7829,
          -62.7829,
          -62.7829
         ],
         "marker": {
          "color": "#636efa",
          "symbol": "circle"
         },
         "mode": "markers",
         "name": "St. Kitts and Nevis",
         "showlegend": true,
         "type": "scattergeo"
        },
        {
         "geo": "geo",
         "hovertemplate": "<b>%{hovertext}</b><br><br>Country=Samoa<br>latitude=%{lat}<br>longitude=%{lon}<extra></extra>",
         "hovertext": [
          "Samoa"
         ],
         "lat": [
          -13.759
         ],
         "legendgroup": "Samoa",
         "lon": [
          -172.1046
         ],
         "marker": {
          "color": "#EF553B",
          "symbol": "circle"
         },
         "mode": "markers",
         "name": "Samoa",
         "showlegend": true,
         "type": "scattergeo"
        },
        {
         "geo": "geo",
         "hovertemplate": "<b>%{hovertext}</b><br><br>Country=Portugal<br>latitude=%{lat}<br>longitude=%{lon}<extra></extra>",
         "hovertext": [
          "Portugal",
          "Portugal",
          "Portugal",
          "Portugal"
         ],
         "lat": [
          39.3999,
          39.3999,
          39.3999,
          39.3999
         ],
         "legendgroup": "Portugal",
         "lon": [
          -8.2245,
          -8.2245,
          -8.2245,
          -8.2245
         ],
         "marker": {
          "color": "#00cc96",
          "symbol": "circle"
         },
         "mode": "markers",
         "name": "Portugal",
         "showlegend": true,
         "type": "scattergeo"
        },
        {
         "geo": "geo",
         "hovertemplate": "<b>%{hovertext}</b><br><br>Country=Sudan<br>latitude=%{lat}<br>longitude=%{lon}<extra></extra>",
         "hovertext": [
          "Sudan",
          "Sudan",
          "Sudan"
         ],
         "lat": [
          12.8628,
          12.8628,
          12.8628
         ],
         "legendgroup": "Sudan",
         "lon": [
          30.2176,
          30.2176,
          30.2176
         ],
         "marker": {
          "color": "#ab63fa",
          "symbol": "circle"
         },
         "mode": "markers",
         "name": "Sudan",
         "showlegend": true,
         "type": "scattergeo"
        },
        {
         "geo": "geo",
         "hovertemplate": "<b>%{hovertext}</b><br><br>Country=Canada<br>latitude=%{lat}<br>longitude=%{lon}<extra></extra>",
         "hovertext": [
          "Canada",
          "Canada"
         ],
         "lat": [
          56.1304,
          56.1304
         ],
         "legendgroup": "Canada",
         "lon": [
          -106.3468,
          -106.3468
         ],
         "marker": {
          "color": "#FFA15A",
          "symbol": "circle"
         },
         "mode": "markers",
         "name": "Canada",
         "showlegend": true,
         "type": "scattergeo"
        },
        {
         "geo": "geo",
         "hovertemplate": "<b>%{hovertext}</b><br><br>Country=New Zealand<br>latitude=%{lat}<br>longitude=%{lon}<extra></extra>",
         "hovertext": [
          "New Zealand",
          "New Zealand",
          "New Zealand",
          "New Zealand"
         ],
         "lat": [
          -40.9006,
          -40.9006,
          -40.9006,
          -40.9006
         ],
         "legendgroup": "New Zealand",
         "lon": [
          174.886,
          174.886,
          174.886,
          174.886
         ],
         "marker": {
          "color": "#19d3f3",
          "symbol": "circle"
         },
         "mode": "markers",
         "name": "New Zealand",
         "showlegend": true,
         "type": "scattergeo"
        },
        {
         "geo": "geo",
         "hovertemplate": "<b>%{hovertext}</b><br><br>Country=Sierra Leone<br>latitude=%{lat}<br>longitude=%{lon}<extra></extra>",
         "hovertext": [
          "Sierra Leone",
          "Sierra Leone",
          "Sierra Leone",
          "Sierra Leone"
         ],
         "lat": [
          8.4606,
          8.4606,
          8.4606,
          8.4606
         ],
         "legendgroup": "Sierra Leone",
         "lon": [
          -11.7799,
          -11.7799,
          -11.7799,
          -11.7799
         ],
         "marker": {
          "color": "#FF6692",
          "symbol": "circle"
         },
         "mode": "markers",
         "name": "Sierra Leone",
         "showlegend": true,
         "type": "scattergeo"
        },
        {
         "geo": "geo",
         "hovertemplate": "<b>%{hovertext}</b><br><br>Country=Guinea-Bissau<br>latitude=%{lat}<br>longitude=%{lon}<extra></extra>",
         "hovertext": [
          "Guinea-Bissau",
          "Guinea-Bissau",
          "Guinea-Bissau",
          "Guinea-Bissau"
         ],
         "lat": [
          11.8037,
          11.8037,
          11.8037,
          11.8037
         ],
         "legendgroup": "Guinea-Bissau",
         "lon": [
          -15.1804,
          -15.1804,
          -15.1804,
          -15.1804
         ],
         "marker": {
          "color": "#B6E880",
          "symbol": "circle"
         },
         "mode": "markers",
         "name": "Guinea-Bissau",
         "showlegend": true,
         "type": "scattergeo"
        },
        {
         "geo": "geo",
         "hovertemplate": "<b>%{hovertext}</b><br><br>Country=UAE<br>latitude=%{lat}<br>longitude=%{lon}<extra></extra>",
         "hovertext": [
          "UAE",
          "UAE",
          "UAE",
          "UAE",
          "UAE"
         ],
         "lat": [
          23.4241,
          23.4241,
          23.4241,
          23.4241,
          23.4241
         ],
         "legendgroup": "UAE",
         "lon": [
          53.8478,
          53.8478,
          53.8478,
          53.8478,
          53.8478
         ],
         "marker": {
          "color": "#FF97FF",
          "symbol": "circle"
         },
         "mode": "markers",
         "name": "UAE",
         "showlegend": true,
         "type": "scattergeo"
        },
        {
         "geo": "geo",
         "hovertemplate": "<b>%{hovertext}</b><br><br>Country=Togo<br>latitude=%{lat}<br>longitude=%{lon}<extra></extra>",
         "hovertext": [
          "Togo",
          "Togo",
          "Togo"
         ],
         "lat": [
          8.6195,
          8.6195,
          8.6195
         ],
         "legendgroup": "Togo",
         "lon": [
          0.8248,
          0.8248,
          0.8248
         ],
         "marker": {
          "color": "#FECB52",
          "symbol": "circle"
         },
         "mode": "markers",
         "name": "Togo",
         "showlegend": true,
         "type": "scattergeo"
        },
        {
         "geo": "geo",
         "hovertemplate": "<b>%{hovertext}</b><br><br>Country=Gabon<br>latitude=%{lat}<br>longitude=%{lon}<extra></extra>",
         "hovertext": [
          "Gabon",
          "Gabon",
          "Gabon",
          "Gabon",
          "Gabon"
         ],
         "lat": [
          -0.8037,
          -0.8037,
          -0.8037,
          -0.8037,
          -0.8037
         ],
         "legendgroup": "Gabon",
         "lon": [
          11.6094,
          11.6094,
          11.6094,
          11.6094,
          11.6094
         ],
         "marker": {
          "color": "#636efa",
          "symbol": "circle"
         },
         "mode": "markers",
         "name": "Gabon",
         "showlegend": true,
         "type": "scattergeo"
        },
        {
         "geo": "geo",
         "hovertemplate": "<b>%{hovertext}</b><br><br>Country=Bulgaria<br>latitude=%{lat}<br>longitude=%{lon}<extra></extra>",
         "hovertext": [
          "Bulgaria",
          "Bulgaria",
          "Bulgaria"
         ],
         "lat": [
          42.7339,
          42.7339,
          42.7339
         ],
         "legendgroup": "Bulgaria",
         "lon": [
          25.4858,
          25.4858,
          25.4858
         ],
         "marker": {
          "color": "#EF553B",
          "symbol": "circle"
         },
         "mode": "markers",
         "name": "Bulgaria",
         "showlegend": true,
         "type": "scattergeo"
        },
        {
         "geo": "geo",
         "hovertemplate": "<b>%{hovertext}</b><br><br>Country=Iceland<br>latitude=%{lat}<br>longitude=%{lon}<extra></extra>",
         "hovertext": [
          "Iceland",
          "Iceland",
          "Iceland",
          "Iceland",
          "Iceland"
         ],
         "lat": [
          64.9631,
          64.9631,
          64.9631,
          64.9631,
          64.9631
         ],
         "legendgroup": "Iceland",
         "lon": [
          -19.0208,
          -19.0208,
          -19.0208,
          -19.0208,
          -19.0208
         ],
         "marker": {
          "color": "#00cc96",
          "symbol": "circle"
         },
         "mode": "markers",
         "name": "Iceland",
         "showlegend": true,
         "type": "scattergeo"
        },
        {
         "geo": "geo",
         "hovertemplate": "<b>%{hovertext}</b><br><br>Country=Curacao<br>latitude=%{lat}<br>longitude=%{lon}<extra></extra>",
         "hovertext": [
          "Curacao",
          "Curacao",
          "Curacao",
          "Curacao",
          "Curacao",
          "Curacao"
         ],
         "lat": [
          12.1696,
          12.1696,
          12.1696,
          12.1696,
          12.1696,
          12.1696
         ],
         "legendgroup": "Curacao",
         "lon": [
          -68.99,
          -68.99,
          -68.99,
          -68.99,
          -68.99,
          -68.99
         ],
         "marker": {
          "color": "#ab63fa",
          "symbol": "circle"
         },
         "mode": "markers",
         "name": "Curacao",
         "showlegend": true,
         "type": "scattergeo"
        },
        {
         "geo": "geo",
         "hovertemplate": "<b>%{hovertext}</b><br><br>Country=Qatar<br>latitude=%{lat}<br>longitude=%{lon}<extra></extra>",
         "hovertext": [
          "Qatar",
          "Qatar",
          "Qatar",
          "Qatar",
          "Qatar"
         ],
         "lat": [
          25.3548,
          25.3548,
          25.3548,
          25.3548,
          25.3548
         ],
         "legendgroup": "Qatar",
         "lon": [
          51.1839,
          51.1839,
          51.1839,
          51.1839,
          51.1839
         ],
         "marker": {
          "color": "#FFA15A",
          "symbol": "circle"
         },
         "mode": "markers",
         "name": "Qatar",
         "showlegend": true,
         "type": "scattergeo"
        },
        {
         "geo": "geo",
         "hovertemplate": "<b>%{hovertext}</b><br><br>Country=Tunisia<br>latitude=%{lat}<br>longitude=%{lon}<extra></extra>",
         "hovertext": [
          "Tunisia"
         ],
         "lat": [
          33.8869
         ],
         "legendgroup": "Tunisia",
         "lon": [
          9.5375
         ],
         "marker": {
          "color": "#19d3f3",
          "symbol": "circle"
         },
         "mode": "markers",
         "name": "Tunisia",
         "showlegend": true,
         "type": "scattergeo"
        },
        {
         "geo": "geo",
         "hovertemplate": "<b>%{hovertext}</b><br><br>Country=Ethiopia<br>latitude=%{lat}<br>longitude=%{lon}<extra></extra>",
         "hovertext": [
          "Ethiopia",
          "Ethiopia"
         ],
         "lat": [
          9.145,
          9.145
         ],
         "legendgroup": "Ethiopia",
         "lon": [
          40.4897,
          40.4897
         ],
         "marker": {
          "color": "#FF6692",
          "symbol": "circle"
         },
         "mode": "markers",
         "name": "Ethiopia",
         "showlegend": true,
         "type": "scattergeo"
        },
        {
         "geo": "geo",
         "hovertemplate": "<b>%{hovertext}</b><br><br>Country=Micronesia, Fed. Sts.<br>latitude=%{lat}<br>longitude=%{lon}<extra></extra>",
         "hovertext": [
          "Micronesia, Fed. Sts.",
          "Micronesia, Fed. Sts.",
          "Micronesia, Fed. Sts."
         ],
         "lat": [
          7.4256,
          7.4256,
          7.4256
         ],
         "legendgroup": "Micronesia, Fed. Sts.",
         "lon": [
          150.5508,
          150.5508,
          150.5508
         ],
         "marker": {
          "color": "#B6E880",
          "symbol": "circle"
         },
         "mode": "markers",
         "name": "Micronesia, Fed. Sts.",
         "showlegend": true,
         "type": "scattergeo"
        },
        {
         "geo": "geo",
         "hovertemplate": "<b>%{hovertext}</b><br><br>Country=Guyana<br>latitude=%{lat}<br>longitude=%{lon}<extra></extra>",
         "hovertext": [
          "Guyana",
          "Guyana"
         ],
         "lat": [
          4.8604,
          4.8604
         ],
         "legendgroup": "Guyana",
         "lon": [
          -58.9302,
          -58.9302
         ],
         "marker": {
          "color": "#FF97FF",
          "symbol": "circle"
         },
         "mode": "markers",
         "name": "Guyana",
         "showlegend": true,
         "type": "scattergeo"
        },
        {
         "geo": "geo",
         "hovertemplate": "<b>%{hovertext}</b><br><br>Country=Sint Maarten (Dutch part)<br>latitude=%{lat}<br>longitude=%{lon}<extra></extra>",
         "hovertext": [
          "Sint Maarten (Dutch part)",
          "Sint Maarten (Dutch part)",
          "Sint Maarten (Dutch part)",
          "Sint Maarten (Dutch part)",
          "Sint Maarten (Dutch part)"
         ],
         "lat": [
          18.0425,
          18.0425,
          18.0425,
          18.0425,
          18.0425
         ],
         "legendgroup": "Sint Maarten (Dutch part)",
         "lon": [
          -63.0548,
          -63.0548,
          -63.0548,
          -63.0548,
          -63.0548
         ],
         "marker": {
          "color": "#FECB52",
          "symbol": "circle"
         },
         "mode": "markers",
         "name": "Sint Maarten (Dutch part)",
         "showlegend": true,
         "type": "scattergeo"
        },
        {
         "geo": "geo",
         "hovertemplate": "<b>%{hovertext}</b><br><br>Country=Tonga<br>latitude=%{lat}<br>longitude=%{lon}<extra></extra>",
         "hovertext": [
          "Tonga",
          "Tonga",
          "Tonga",
          "Tonga"
         ],
         "lat": [
          -21.1789,
          -21.1789,
          -21.1789,
          -21.1789
         ],
         "legendgroup": "Tonga",
         "lon": [
          -175.1982,
          -175.1982,
          -175.1982,
          -175.1982
         ],
         "marker": {
          "color": "#636efa",
          "symbol": "circle"
         },
         "mode": "markers",
         "name": "Tonga",
         "showlegend": true,
         "type": "scattergeo"
        },
        {
         "geo": "geo",
         "hovertemplate": "<b>%{hovertext}</b><br><br>Country=El Salvador<br>latitude=%{lat}<br>longitude=%{lon}<extra></extra>",
         "hovertext": [
          "El Salvador",
          "El Salvador",
          "El Salvador",
          "El Salvador",
          "El Salvador",
          "El Salvador",
          "El Salvador",
          "El Salvador"
         ],
         "lat": [
          13.7942,
          13.7942,
          13.7942,
          13.7942,
          13.7942,
          13.7942,
          13.7942,
          13.7942
         ],
         "legendgroup": "El Salvador",
         "lon": [
          -88.8965,
          -88.8965,
          -88.8965,
          -88.8965,
          -88.8965,
          -88.8965,
          -88.8965,
          -88.8965
         ],
         "marker": {
          "color": "#EF553B",
          "symbol": "circle"
         },
         "mode": "markers",
         "name": "El Salvador",
         "showlegend": true,
         "type": "scattergeo"
        },
        {
         "geo": "geo",
         "hovertemplate": "<b>%{hovertext}</b><br><br>Country=Finland<br>latitude=%{lat}<br>longitude=%{lon}<extra></extra>",
         "hovertext": [
          "Finland",
          "Finland",
          "Finland",
          "Finland",
          "Finland"
         ],
         "lat": [
          61.9241,
          61.9241,
          61.9241,
          61.9241,
          61.9241
         ],
         "legendgroup": "Finland",
         "lon": [
          25.7482,
          25.7482,
          25.7482,
          25.7482,
          25.7482
         ],
         "marker": {
          "color": "#00cc96",
          "symbol": "circle"
         },
         "mode": "markers",
         "name": "Finland",
         "showlegend": true,
         "type": "scattergeo"
        },
        {
         "geo": "geo",
         "hovertemplate": "<b>%{hovertext}</b><br><br>Country=Burundi<br>latitude=%{lat}<br>longitude=%{lon}<extra></extra>",
         "hovertext": [
          "Burundi",
          "Burundi",
          "Burundi"
         ],
         "lat": [
          -3.3731,
          -3.3731,
          -3.3731
         ],
         "legendgroup": "Burundi",
         "lon": [
          29.9189,
          29.9189,
          29.9189
         ],
         "marker": {
          "color": "#ab63fa",
          "symbol": "circle"
         },
         "mode": "markers",
         "name": "Burundi",
         "showlegend": true,
         "type": "scattergeo"
        },
        {
         "geo": "geo",
         "hovertemplate": "<b>%{hovertext}</b><br><br>Country=Italy<br>latitude=%{lat}<br>longitude=%{lon}<extra></extra>",
         "hovertext": [
          "Italy",
          "Italy",
          "Italy"
         ],
         "lat": [
          41.8719,
          41.8719,
          41.8719
         ],
         "legendgroup": "Italy",
         "lon": [
          12.5674,
          12.5674,
          12.5674
         ],
         "marker": {
          "color": "#FFA15A",
          "symbol": "circle"
         },
         "mode": "markers",
         "name": "Italy",
         "showlegend": true,
         "type": "scattergeo"
        },
        {
         "geo": "geo",
         "hovertemplate": "<b>%{hovertext}</b><br><br>Country=Niger<br>latitude=%{lat}<br>longitude=%{lon}<extra></extra>",
         "hovertext": [
          "Niger",
          "Niger",
          "Niger"
         ],
         "lat": [
          17.6078,
          17.6078,
          17.6078
         ],
         "legendgroup": "Niger",
         "lon": [
          8.0817,
          8.0817,
          8.0817
         ],
         "marker": {
          "color": "#19d3f3",
          "symbol": "circle"
         },
         "mode": "markers",
         "name": "Niger",
         "showlegend": true,
         "type": "scattergeo"
        },
        {
         "geo": "geo",
         "hovertemplate": "<b>%{hovertext}</b><br><br>Country=Greece<br>latitude=%{lat}<br>longitude=%{lon}<extra></extra>",
         "hovertext": [
          "Greece",
          "Greece",
          "Greece",
          "Greece",
          "Greece",
          "Greece"
         ],
         "lat": [
          39.0742,
          39.0742,
          39.0742,
          39.0742,
          39.0742,
          39.0742
         ],
         "legendgroup": "Greece",
         "lon": [
          21.8243,
          21.8243,
          21.8243,
          21.8243,
          21.8243,
          21.8243
         ],
         "marker": {
          "color": "#FF6692",
          "symbol": "circle"
         },
         "mode": "markers",
         "name": "Greece",
         "showlegend": true,
         "type": "scattergeo"
        },
        {
         "geo": "geo",
         "hovertemplate": "<b>%{hovertext}</b><br><br>Country=Angola<br>latitude=%{lat}<br>longitude=%{lon}<extra></extra>",
         "hovertext": [
          "Angola",
          "Angola",
          "Angola"
         ],
         "lat": [
          -11.2027,
          -11.2027,
          -11.2027
         ],
         "legendgroup": "Angola",
         "lon": [
          17.8739,
          17.8739,
          17.8739
         ],
         "marker": {
          "color": "#B6E880",
          "symbol": "circle"
         },
         "mode": "markers",
         "name": "Angola",
         "showlegend": true,
         "type": "scattergeo"
        },
        {
         "geo": "geo",
         "hovertemplate": "<b>%{hovertext}</b><br><br>Country=Aruba<br>latitude=%{lat}<br>longitude=%{lon}<extra></extra>",
         "hovertext": [
          "Aruba",
          "Aruba",
          "Aruba",
          "Aruba",
          "Aruba",
          "Aruba"
         ],
         "lat": [
          12.5211,
          12.5211,
          12.5211,
          12.5211,
          12.5211,
          12.5211
         ],
         "legendgroup": "Aruba",
         "lon": [
          -69.9683,
          -69.9683,
          -69.9683,
          -69.9683,
          -69.9683,
          -69.9683
         ],
         "marker": {
          "color": "#FF97FF",
          "symbol": "circle"
         },
         "mode": "markers",
         "name": "Aruba",
         "showlegend": true,
         "type": "scattergeo"
        },
        {
         "geo": "geo",
         "hovertemplate": "<b>%{hovertext}</b><br><br>Country=Estonia<br>latitude=%{lat}<br>longitude=%{lon}<extra></extra>",
         "hovertext": [
          "Estonia",
          "Estonia"
         ],
         "lat": [
          58.5953,
          58.5953
         ],
         "legendgroup": "Estonia",
         "lon": [
          25.0136,
          25.0136
         ],
         "marker": {
          "color": "#FECB52",
          "symbol": "circle"
         },
         "mode": "markers",
         "name": "Estonia",
         "showlegend": true,
         "type": "scattergeo"
        },
        {
         "geo": "geo",
         "hovertemplate": "<b>%{hovertext}</b><br><br>Country=Grenada<br>latitude=%{lat}<br>longitude=%{lon}<extra></extra>",
         "hovertext": [
          "Grenada",
          "Grenada",
          "Grenada"
         ],
         "lat": [
          12.1165,
          12.1165,
          12.1165
         ],
         "legendgroup": "Grenada",
         "lon": [
          -61.679,
          -61.679,
          -61.679
         ],
         "marker": {
          "color": "#636efa",
          "symbol": "circle"
         },
         "mode": "markers",
         "name": "Grenada",
         "showlegend": true,
         "type": "scattergeo"
        },
        {
         "geo": "geo",
         "hovertemplate": "<b>%{hovertext}</b><br><br>Country=Kiribati<br>latitude=%{lat}<br>longitude=%{lon}<extra></extra>",
         "hovertext": [
          "Kiribati",
          "Kiribati"
         ],
         "lat": [
          -3.3704,
          -3.3704
         ],
         "legendgroup": "Kiribati",
         "lon": [
          -168.734,
          -168.734
         ],
         "marker": {
          "color": "#EF553B",
          "symbol": "circle"
         },
         "mode": "markers",
         "name": "Kiribati",
         "showlegend": true,
         "type": "scattergeo"
        },
        {
         "geo": "geo",
         "hovertemplate": "<b>%{hovertext}</b><br><br>Country=Lithuania<br>latitude=%{lat}<br>longitude=%{lon}<extra></extra>",
         "hovertext": [
          "Lithuania",
          "Lithuania"
         ],
         "lat": [
          55.1694,
          55.1694
         ],
         "legendgroup": "Lithuania",
         "lon": [
          23.8813,
          23.8813
         ],
         "marker": {
          "color": "#00cc96",
          "symbol": "circle"
         },
         "mode": "markers",
         "name": "Lithuania",
         "showlegend": true,
         "type": "scattergeo"
        },
        {
         "geo": "geo",
         "hovertemplate": "<b>%{hovertext}</b><br><br>Country=Belarus<br>latitude=%{lat}<br>longitude=%{lon}<extra></extra>",
         "hovertext": [
          "Belarus"
         ],
         "lat": [
          53.7098
         ],
         "legendgroup": "Belarus",
         "lon": [
          27.9534
         ],
         "marker": {
          "color": "#ab63fa",
          "symbol": "circle"
         },
         "mode": "markers",
         "name": "Belarus",
         "showlegend": true,
         "type": "scattergeo"
        },
        {
         "geo": "geo",
         "hovertemplate": "<b>%{hovertext}</b><br><br>Country=Lebanon<br>latitude=%{lat}<br>longitude=%{lon}<extra></extra>",
         "hovertext": [
          "Lebanon",
          "Lebanon",
          "Lebanon",
          "Lebanon",
          "Lebanon"
         ],
         "lat": [
          33.8547,
          33.8547,
          33.8547,
          33.8547,
          33.8547
         ],
         "legendgroup": "Lebanon",
         "lon": [
          35.8623,
          35.8623,
          35.8623,
          35.8623,
          35.8623
         ],
         "marker": {
          "color": "#FFA15A",
          "symbol": "circle"
         },
         "mode": "markers",
         "name": "Lebanon",
         "showlegend": true,
         "type": "scattergeo"
        },
        {
         "geo": "geo",
         "hovertemplate": "<b>%{hovertext}</b><br><br>Country=Croatia<br>latitude=%{lat}<br>longitude=%{lon}<extra></extra>",
         "hovertext": [
          "Croatia",
          "Croatia",
          "Croatia"
         ],
         "lat": [
          45.1,
          45.1,
          45.1
         ],
         "legendgroup": "Croatia",
         "lon": [
          15.2,
          15.2,
          15.2
         ],
         "marker": {
          "color": "#19d3f3",
          "symbol": "circle"
         },
         "mode": "markers",
         "name": "Croatia",
         "showlegend": true,
         "type": "scattergeo"
        },
        {
         "geo": "geo",
         "hovertemplate": "<b>%{hovertext}</b><br><br>Country=Mozambique<br>latitude=%{lat}<br>longitude=%{lon}<extra></extra>",
         "hovertext": [
          "Mozambique",
          "Mozambique"
         ],
         "lat": [
          -18.6657,
          -18.6657
         ],
         "legendgroup": "Mozambique",
         "lon": [
          35.5296,
          35.5296
         ],
         "marker": {
          "color": "#FF6692",
          "symbol": "circle"
         },
         "mode": "markers",
         "name": "Mozambique",
         "showlegend": true,
         "type": "scattergeo"
        },
        {
         "geo": "geo",
         "hovertemplate": "<b>%{hovertext}</b><br><br>Country=Georgia<br>latitude=%{lat}<br>longitude=%{lon}<extra></extra>",
         "hovertext": [
          "Georgia",
          "Georgia",
          "Georgia"
         ],
         "lat": [
          42.3154,
          42.3154,
          42.3154
         ],
         "legendgroup": "Georgia",
         "lon": [
          43.3569,
          43.3569,
          43.3569
         ],
         "marker": {
          "color": "#B6E880",
          "symbol": "circle"
         },
         "mode": "markers",
         "name": "Georgia",
         "showlegend": true,
         "type": "scattergeo"
        },
        {
         "geo": "geo",
         "hovertemplate": "<b>%{hovertext}</b><br><br>Country=Tajikistan<br>latitude=%{lat}<br>longitude=%{lon}<extra></extra>",
         "hovertext": [
          "Tajikistan",
          "Tajikistan",
          "Tajikistan",
          "Tajikistan",
          "Tajikistan"
         ],
         "lat": [
          38.861,
          38.861,
          38.861,
          38.861,
          38.861
         ],
         "legendgroup": "Tajikistan",
         "lon": [
          71.2761,
          71.2761,
          71.2761,
          71.2761,
          71.2761
         ],
         "marker": {
          "color": "#FF97FF",
          "symbol": "circle"
         },
         "mode": "markers",
         "name": "Tajikistan",
         "showlegend": true,
         "type": "scattergeo"
        },
        {
         "geo": "geo",
         "hovertemplate": "<b>%{hovertext}</b><br><br>Country=Serbia<br>latitude=%{lat}<br>longitude=%{lon}<extra></extra>",
         "hovertext": [
          "Serbia",
          "Serbia"
         ],
         "lat": [
          44.0165,
          44.0165
         ],
         "legendgroup": "Serbia",
         "lon": [
          21.0059,
          21.0059
         ],
         "marker": {
          "color": "#FECB52",
          "symbol": "circle"
         },
         "mode": "markers",
         "name": "Serbia",
         "showlegend": true,
         "type": "scattergeo"
        },
        {
         "geo": "geo",
         "hovertemplate": "<b>%{hovertext}</b><br><br>Country=Kosovo<br>latitude=%{lat}<br>longitude=%{lon}<extra></extra>",
         "hovertext": [
          "Kosovo",
          "Kosovo",
          "Kosovo",
          "Kosovo",
          "Kosovo",
          "Kosovo"
         ],
         "lat": [
          42.6026,
          42.6026,
          42.6026,
          42.6026,
          42.6026,
          42.6026
         ],
         "legendgroup": "Kosovo",
         "lon": [
          20.903,
          20.903,
          20.903,
          20.903,
          20.903,
          20.903
         ],
         "marker": {
          "color": "#636efa",
          "symbol": "circle"
         },
         "mode": "markers",
         "name": "Kosovo",
         "showlegend": true,
         "type": "scattergeo"
        },
        {
         "geo": "geo",
         "hovertemplate": "<b>%{hovertext}</b><br><br>Country=Namibia<br>latitude=%{lat}<br>longitude=%{lon}<extra></extra>",
         "hovertext": [
          "Namibia",
          "Namibia"
         ],
         "lat": [
          -22.9576,
          -22.9576
         ],
         "legendgroup": "Namibia",
         "lon": [
          18.4904,
          18.4904
         ],
         "marker": {
          "color": "#EF553B",
          "symbol": "circle"
         },
         "mode": "markers",
         "name": "Namibia",
         "showlegend": true,
         "type": "scattergeo"
        },
        {
         "geo": "geo",
         "hovertemplate": "<b>%{hovertext}</b><br><br>Country=Nauru<br>latitude=%{lat}<br>longitude=%{lon}<extra></extra>",
         "hovertext": [
          "Nauru",
          "Nauru"
         ],
         "lat": [
          -0.5228,
          -0.5228
         ],
         "legendgroup": "Nauru",
         "lon": [
          166.9315,
          166.9315
         ],
         "marker": {
          "color": "#00cc96",
          "symbol": "circle"
         },
         "mode": "markers",
         "name": "Nauru",
         "showlegend": true,
         "type": "scattergeo"
        },
        {
         "geo": "geo",
         "hovertemplate": "<b>%{hovertext}</b><br><br>Country=Malawi<br>latitude=%{lat}<br>longitude=%{lon}<extra></extra>",
         "hovertext": [
          "Malawi"
         ],
         "lat": [
          -13.2543
         ],
         "legendgroup": "Malawi",
         "lon": [
          34.3015
         ],
         "marker": {
          "color": "#ab63fa",
          "symbol": "circle"
         },
         "mode": "markers",
         "name": "Malawi",
         "showlegend": true,
         "type": "scattergeo"
        },
        {
         "geo": "geo",
         "hovertemplate": "<b>%{hovertext}</b><br><br>Country=Montenegro<br>latitude=%{lat}<br>longitude=%{lon}<extra></extra>",
         "hovertext": [
          "Montenegro"
         ],
         "lat": [
          42.7087
         ],
         "legendgroup": "Montenegro",
         "lon": [
          19.3744
         ],
         "marker": {
          "color": "#FFA15A",
          "symbol": "circle"
         },
         "mode": "markers",
         "name": "Montenegro",
         "showlegend": true,
         "type": "scattergeo"
        },
        {
         "geo": "geo",
         "hovertemplate": "<b>%{hovertext}</b><br><br>Country=Algeria<br>latitude=%{lat}<br>longitude=%{lon}<extra></extra>",
         "hovertext": [
          "Algeria"
         ],
         "lat": [
          28.0339
         ],
         "legendgroup": "Algeria",
         "lon": [
          1.6596
         ],
         "marker": {
          "color": "#19d3f3",
          "symbol": "circle"
         },
         "mode": "markers",
         "name": "Algeria",
         "showlegend": true,
         "type": "scattergeo"
        },
        {
         "geo": "geo",
         "hovertemplate": "<b>%{hovertext}</b><br><br>Country=Bahamas, The<br>latitude=%{lat}<br>longitude=%{lon}<extra></extra>",
         "hovertext": [
          "Bahamas, The",
          "Bahamas, The"
         ],
         "lat": [
          25.0343,
          25.0343
         ],
         "legendgroup": "Bahamas, The",
         "lon": [
          -77.3963,
          -77.3963
         ],
         "marker": {
          "color": "#FF6692",
          "symbol": "circle"
         },
         "mode": "markers",
         "name": "Bahamas, The",
         "showlegend": true,
         "type": "scattergeo"
        },
        {
         "geo": "geo",
         "hovertemplate": "<b>%{hovertext}</b><br><br>Country=Sweden<br>latitude=%{lat}<br>longitude=%{lon}<extra></extra>",
         "hovertext": [
          "Sweden"
         ],
         "lat": [
          60.1282
         ],
         "legendgroup": "Sweden",
         "lon": [
          18.6435
         ],
         "marker": {
          "color": "#B6E880",
          "symbol": "circle"
         },
         "mode": "markers",
         "name": "Sweden",
         "showlegend": true,
         "type": "scattergeo"
        },
        {
         "geo": "geo",
         "hovertemplate": "<b>%{hovertext}</b><br><br>Country=Austria<br>latitude=%{lat}<br>longitude=%{lon}<extra></extra>",
         "hovertext": [
          "Austria",
          "Austria"
         ],
         "lat": [
          47.5162,
          47.5162
         ],
         "legendgroup": "Austria",
         "lon": [
          14.5501,
          14.5501
         ],
         "marker": {
          "color": "#FF97FF",
          "symbol": "circle"
         },
         "mode": "markers",
         "name": "Austria",
         "showlegend": true,
         "type": "scattergeo"
        },
        {
         "geo": "geo",
         "hovertemplate": "<b>%{hovertext}</b><br><br>Country=Ukraine<br>latitude=%{lat}<br>longitude=%{lon}<extra></extra>",
         "hovertext": [
          "Ukraine",
          "Ukraine",
          "Ukraine"
         ],
         "lat": [
          48.3794,
          48.3794,
          48.3794
         ],
         "legendgroup": "Ukraine",
         "lon": [
          31.1656,
          31.1656,
          31.1656
         ],
         "marker": {
          "color": "#FECB52",
          "symbol": "circle"
         },
         "mode": "markers",
         "name": "Ukraine",
         "showlegend": true,
         "type": "scattergeo"
        },
        {
         "geo": "geo",
         "hovertemplate": "<b>%{hovertext}</b><br><br>Country=Albania<br>latitude=%{lat}<br>longitude=%{lon}<extra></extra>",
         "hovertext": [
          "Albania",
          "Albania"
         ],
         "lat": [
          41.1533,
          41.1533
         ],
         "legendgroup": "Albania",
         "lon": [
          20.1683,
          20.1683
         ],
         "marker": {
          "color": "#636efa",
          "symbol": "circle"
         },
         "mode": "markers",
         "name": "Albania",
         "showlegend": true,
         "type": "scattergeo"
        },
        {
         "geo": "geo",
         "hovertemplate": "<b>%{hovertext}</b><br><br>Country=Marshall Islands<br>latitude=%{lat}<br>longitude=%{lon}<extra></extra>",
         "hovertext": [
          "Marshall Islands"
         ],
         "lat": [
          7.1315
         ],
         "legendgroup": "Marshall Islands",
         "lon": [
          171.1845
         ],
         "marker": {
          "color": "#EF553B",
          "symbol": "circle"
         },
         "mode": "markers",
         "name": "Marshall Islands",
         "showlegend": true,
         "type": "scattergeo"
        },
        {
         "geo": "geo",
         "hovertemplate": "<b>%{hovertext}</b><br><br>Country=Northern Mariana Islands<br>latitude=%{lat}<br>longitude=%{lon}<extra></extra>",
         "hovertext": [
          "Northern Mariana Islands"
         ],
         "lat": [
          15.0979
         ],
         "legendgroup": "Northern Mariana Islands",
         "lon": [
          145.6739
         ],
         "marker": {
          "color": "#00cc96",
          "symbol": "circle"
         },
         "mode": "markers",
         "name": "Northern Mariana Islands",
         "showlegend": true,
         "type": "scattergeo"
        }
       ],
       "layout": {
        "geo": {
         "center": {},
         "domain": {
          "x": [
           0,
           1
          ],
          "y": [
           0,
           1
          ]
         }
        },
        "legend": {
         "title": {
          "text": "Country"
         },
         "tracegroupgap": 0
        },
        "template": {
         "data": {
          "bar": [
           {
            "error_x": {
             "color": "#2a3f5f"
            },
            "error_y": {
             "color": "#2a3f5f"
            },
            "marker": {
             "line": {
              "color": "#E5ECF6",
              "width": 0.5
             },
             "pattern": {
              "fillmode": "overlay",
              "size": 10,
              "solidity": 0.2
             }
            },
            "type": "bar"
           }
          ],
          "barpolar": [
           {
            "marker": {
             "line": {
              "color": "#E5ECF6",
              "width": 0.5
             },
             "pattern": {
              "fillmode": "overlay",
              "size": 10,
              "solidity": 0.2
             }
            },
            "type": "barpolar"
           }
          ],
          "carpet": [
           {
            "aaxis": {
             "endlinecolor": "#2a3f5f",
             "gridcolor": "white",
             "linecolor": "white",
             "minorgridcolor": "white",
             "startlinecolor": "#2a3f5f"
            },
            "baxis": {
             "endlinecolor": "#2a3f5f",
             "gridcolor": "white",
             "linecolor": "white",
             "minorgridcolor": "white",
             "startlinecolor": "#2a3f5f"
            },
            "type": "carpet"
           }
          ],
          "choropleth": [
           {
            "colorbar": {
             "outlinewidth": 0,
             "ticks": ""
            },
            "type": "choropleth"
           }
          ],
          "contour": [
           {
            "colorbar": {
             "outlinewidth": 0,
             "ticks": ""
            },
            "colorscale": [
             [
              0,
              "#0d0887"
             ],
             [
              0.1111111111111111,
              "#46039f"
             ],
             [
              0.2222222222222222,
              "#7201a8"
             ],
             [
              0.3333333333333333,
              "#9c179e"
             ],
             [
              0.4444444444444444,
              "#bd3786"
             ],
             [
              0.5555555555555556,
              "#d8576b"
             ],
             [
              0.6666666666666666,
              "#ed7953"
             ],
             [
              0.7777777777777778,
              "#fb9f3a"
             ],
             [
              0.8888888888888888,
              "#fdca26"
             ],
             [
              1,
              "#f0f921"
             ]
            ],
            "type": "contour"
           }
          ],
          "contourcarpet": [
           {
            "colorbar": {
             "outlinewidth": 0,
             "ticks": ""
            },
            "type": "contourcarpet"
           }
          ],
          "heatmap": [
           {
            "colorbar": {
             "outlinewidth": 0,
             "ticks": ""
            },
            "colorscale": [
             [
              0,
              "#0d0887"
             ],
             [
              0.1111111111111111,
              "#46039f"
             ],
             [
              0.2222222222222222,
              "#7201a8"
             ],
             [
              0.3333333333333333,
              "#9c179e"
             ],
             [
              0.4444444444444444,
              "#bd3786"
             ],
             [
              0.5555555555555556,
              "#d8576b"
             ],
             [
              0.6666666666666666,
              "#ed7953"
             ],
             [
              0.7777777777777778,
              "#fb9f3a"
             ],
             [
              0.8888888888888888,
              "#fdca26"
             ],
             [
              1,
              "#f0f921"
             ]
            ],
            "type": "heatmap"
           }
          ],
          "heatmapgl": [
           {
            "colorbar": {
             "outlinewidth": 0,
             "ticks": ""
            },
            "colorscale": [
             [
              0,
              "#0d0887"
             ],
             [
              0.1111111111111111,
              "#46039f"
             ],
             [
              0.2222222222222222,
              "#7201a8"
             ],
             [
              0.3333333333333333,
              "#9c179e"
             ],
             [
              0.4444444444444444,
              "#bd3786"
             ],
             [
              0.5555555555555556,
              "#d8576b"
             ],
             [
              0.6666666666666666,
              "#ed7953"
             ],
             [
              0.7777777777777778,
              "#fb9f3a"
             ],
             [
              0.8888888888888888,
              "#fdca26"
             ],
             [
              1,
              "#f0f921"
             ]
            ],
            "type": "heatmapgl"
           }
          ],
          "histogram": [
           {
            "marker": {
             "pattern": {
              "fillmode": "overlay",
              "size": 10,
              "solidity": 0.2
             }
            },
            "type": "histogram"
           }
          ],
          "histogram2d": [
           {
            "colorbar": {
             "outlinewidth": 0,
             "ticks": ""
            },
            "colorscale": [
             [
              0,
              "#0d0887"
             ],
             [
              0.1111111111111111,
              "#46039f"
             ],
             [
              0.2222222222222222,
              "#7201a8"
             ],
             [
              0.3333333333333333,
              "#9c179e"
             ],
             [
              0.4444444444444444,
              "#bd3786"
             ],
             [
              0.5555555555555556,
              "#d8576b"
             ],
             [
              0.6666666666666666,
              "#ed7953"
             ],
             [
              0.7777777777777778,
              "#fb9f3a"
             ],
             [
              0.8888888888888888,
              "#fdca26"
             ],
             [
              1,
              "#f0f921"
             ]
            ],
            "type": "histogram2d"
           }
          ],
          "histogram2dcontour": [
           {
            "colorbar": {
             "outlinewidth": 0,
             "ticks": ""
            },
            "colorscale": [
             [
              0,
              "#0d0887"
             ],
             [
              0.1111111111111111,
              "#46039f"
             ],
             [
              0.2222222222222222,
              "#7201a8"
             ],
             [
              0.3333333333333333,
              "#9c179e"
             ],
             [
              0.4444444444444444,
              "#bd3786"
             ],
             [
              0.5555555555555556,
              "#d8576b"
             ],
             [
              0.6666666666666666,
              "#ed7953"
             ],
             [
              0.7777777777777778,
              "#fb9f3a"
             ],
             [
              0.8888888888888888,
              "#fdca26"
             ],
             [
              1,
              "#f0f921"
             ]
            ],
            "type": "histogram2dcontour"
           }
          ],
          "mesh3d": [
           {
            "colorbar": {
             "outlinewidth": 0,
             "ticks": ""
            },
            "type": "mesh3d"
           }
          ],
          "parcoords": [
           {
            "line": {
             "colorbar": {
              "outlinewidth": 0,
              "ticks": ""
             }
            },
            "type": "parcoords"
           }
          ],
          "pie": [
           {
            "automargin": true,
            "type": "pie"
           }
          ],
          "scatter": [
           {
            "fillpattern": {
             "fillmode": "overlay",
             "size": 10,
             "solidity": 0.2
            },
            "type": "scatter"
           }
          ],
          "scatter3d": [
           {
            "line": {
             "colorbar": {
              "outlinewidth": 0,
              "ticks": ""
             }
            },
            "marker": {
             "colorbar": {
              "outlinewidth": 0,
              "ticks": ""
             }
            },
            "type": "scatter3d"
           }
          ],
          "scattercarpet": [
           {
            "marker": {
             "colorbar": {
              "outlinewidth": 0,
              "ticks": ""
             }
            },
            "type": "scattercarpet"
           }
          ],
          "scattergeo": [
           {
            "marker": {
             "colorbar": {
              "outlinewidth": 0,
              "ticks": ""
             }
            },
            "type": "scattergeo"
           }
          ],
          "scattergl": [
           {
            "marker": {
             "colorbar": {
              "outlinewidth": 0,
              "ticks": ""
             }
            },
            "type": "scattergl"
           }
          ],
          "scattermapbox": [
           {
            "marker": {
             "colorbar": {
              "outlinewidth": 0,
              "ticks": ""
             }
            },
            "type": "scattermapbox"
           }
          ],
          "scatterpolar": [
           {
            "marker": {
             "colorbar": {
              "outlinewidth": 0,
              "ticks": ""
             }
            },
            "type": "scatterpolar"
           }
          ],
          "scatterpolargl": [
           {
            "marker": {
             "colorbar": {
              "outlinewidth": 0,
              "ticks": ""
             }
            },
            "type": "scatterpolargl"
           }
          ],
          "scatterternary": [
           {
            "marker": {
             "colorbar": {
              "outlinewidth": 0,
              "ticks": ""
             }
            },
            "type": "scatterternary"
           }
          ],
          "surface": [
           {
            "colorbar": {
             "outlinewidth": 0,
             "ticks": ""
            },
            "colorscale": [
             [
              0,
              "#0d0887"
             ],
             [
              0.1111111111111111,
              "#46039f"
             ],
             [
              0.2222222222222222,
              "#7201a8"
             ],
             [
              0.3333333333333333,
              "#9c179e"
             ],
             [
              0.4444444444444444,
              "#bd3786"
             ],
             [
              0.5555555555555556,
              "#d8576b"
             ],
             [
              0.6666666666666666,
              "#ed7953"
             ],
             [
              0.7777777777777778,
              "#fb9f3a"
             ],
             [
              0.8888888888888888,
              "#fdca26"
             ],
             [
              1,
              "#f0f921"
             ]
            ],
            "type": "surface"
           }
          ],
          "table": [
           {
            "cells": {
             "fill": {
              "color": "#EBF0F8"
             },
             "line": {
              "color": "white"
             }
            },
            "header": {
             "fill": {
              "color": "#C8D4E3"
             },
             "line": {
              "color": "white"
             }
            },
            "type": "table"
           }
          ]
         },
         "layout": {
          "annotationdefaults": {
           "arrowcolor": "#2a3f5f",
           "arrowhead": 0,
           "arrowwidth": 1
          },
          "autotypenumbers": "strict",
          "coloraxis": {
           "colorbar": {
            "outlinewidth": 0,
            "ticks": ""
           }
          },
          "colorscale": {
           "diverging": [
            [
             0,
             "#8e0152"
            ],
            [
             0.1,
             "#c51b7d"
            ],
            [
             0.2,
             "#de77ae"
            ],
            [
             0.3,
             "#f1b6da"
            ],
            [
             0.4,
             "#fde0ef"
            ],
            [
             0.5,
             "#f7f7f7"
            ],
            [
             0.6,
             "#e6f5d0"
            ],
            [
             0.7,
             "#b8e186"
            ],
            [
             0.8,
             "#7fbc41"
            ],
            [
             0.9,
             "#4d9221"
            ],
            [
             1,
             "#276419"
            ]
           ],
           "sequential": [
            [
             0,
             "#0d0887"
            ],
            [
             0.1111111111111111,
             "#46039f"
            ],
            [
             0.2222222222222222,
             "#7201a8"
            ],
            [
             0.3333333333333333,
             "#9c179e"
            ],
            [
             0.4444444444444444,
             "#bd3786"
            ],
            [
             0.5555555555555556,
             "#d8576b"
            ],
            [
             0.6666666666666666,
             "#ed7953"
            ],
            [
             0.7777777777777778,
             "#fb9f3a"
            ],
            [
             0.8888888888888888,
             "#fdca26"
            ],
            [
             1,
             "#f0f921"
            ]
           ],
           "sequentialminus": [
            [
             0,
             "#0d0887"
            ],
            [
             0.1111111111111111,
             "#46039f"
            ],
            [
             0.2222222222222222,
             "#7201a8"
            ],
            [
             0.3333333333333333,
             "#9c179e"
            ],
            [
             0.4444444444444444,
             "#bd3786"
            ],
            [
             0.5555555555555556,
             "#d8576b"
            ],
            [
             0.6666666666666666,
             "#ed7953"
            ],
            [
             0.7777777777777778,
             "#fb9f3a"
            ],
            [
             0.8888888888888888,
             "#fdca26"
            ],
            [
             1,
             "#f0f921"
            ]
           ]
          },
          "colorway": [
           "#636efa",
           "#EF553B",
           "#00cc96",
           "#ab63fa",
           "#FFA15A",
           "#19d3f3",
           "#FF6692",
           "#B6E880",
           "#FF97FF",
           "#FECB52"
          ],
          "font": {
           "color": "#2a3f5f"
          },
          "geo": {
           "bgcolor": "white",
           "lakecolor": "white",
           "landcolor": "#E5ECF6",
           "showlakes": true,
           "showland": true,
           "subunitcolor": "white"
          },
          "hoverlabel": {
           "align": "left"
          },
          "hovermode": "closest",
          "mapbox": {
           "style": "light"
          },
          "paper_bgcolor": "white",
          "plot_bgcolor": "#E5ECF6",
          "polar": {
           "angularaxis": {
            "gridcolor": "white",
            "linecolor": "white",
            "ticks": ""
           },
           "bgcolor": "#E5ECF6",
           "radialaxis": {
            "gridcolor": "white",
            "linecolor": "white",
            "ticks": ""
           }
          },
          "scene": {
           "xaxis": {
            "backgroundcolor": "#E5ECF6",
            "gridcolor": "white",
            "gridwidth": 2,
            "linecolor": "white",
            "showbackground": true,
            "ticks": "",
            "zerolinecolor": "white"
           },
           "yaxis": {
            "backgroundcolor": "#E5ECF6",
            "gridcolor": "white",
            "gridwidth": 2,
            "linecolor": "white",
            "showbackground": true,
            "ticks": "",
            "zerolinecolor": "white"
           },
           "zaxis": {
            "backgroundcolor": "#E5ECF6",
            "gridcolor": "white",
            "gridwidth": 2,
            "linecolor": "white",
            "showbackground": true,
            "ticks": "",
            "zerolinecolor": "white"
           }
          },
          "shapedefaults": {
           "line": {
            "color": "#2a3f5f"
           }
          },
          "ternary": {
           "aaxis": {
            "gridcolor": "white",
            "linecolor": "white",
            "ticks": ""
           },
           "baxis": {
            "gridcolor": "white",
            "linecolor": "white",
            "ticks": ""
           },
           "bgcolor": "#E5ECF6",
           "caxis": {
            "gridcolor": "white",
            "linecolor": "white",
            "ticks": ""
           }
          },
          "title": {
           "x": 0.05
          },
          "xaxis": {
           "automargin": true,
           "gridcolor": "white",
           "linecolor": "white",
           "ticks": "",
           "title": {
            "standoff": 15
           },
           "zerolinecolor": "white",
           "zerolinewidth": 2
          },
          "yaxis": {
           "automargin": true,
           "gridcolor": "white",
           "linecolor": "white",
           "ticks": "",
           "title": {
            "standoff": 15
           },
           "zerolinecolor": "white",
           "zerolinewidth": 2
          }
         }
        },
        "title": {
         "text": "Job Posting Locations"
        }
       }
      }
     },
     "metadata": {},
     "output_type": "display_data"
    }
   ],
   "source": [
    "fig = px.scatter_geo(data, \n",
    "                     lat='latitude', \n",
    "                     lon='longitude', \n",
    "                     color='Country',\n",
    "                     hover_name='Country', \n",
    "                     title='Job Posting Locations')\n",
    "fig.show()"
   ]
  },
  {
   "cell_type": "code",
   "execution_count": 13,
   "metadata": {},
   "outputs": [],
   "source": [
    "def group_qualifications(data):\n",
    "    groups = defaultdict(list)\n",
    "\n",
    "    for i in range(1, len(data)):\n",
    "        degree = data[\"Qualifications\"].iloc[i]\n",
    "        if degree[0] == \"B\":\n",
    "            groups['Bachelors'].append(i)\n",
    "        elif degree[0] == \"M\":\n",
    "            groups['Masters'].append(i)\n",
    "        else:\n",
    "            groups[\"Doctoral\"].append(i)\n",
    "    \n",
    "    return groups"
   ]
  },
  {
   "cell_type": "code",
   "execution_count": 14,
   "metadata": {},
   "outputs": [
    {
     "data": {
      "text/plain": [
       "Text(0, 0.5, 'Education Level')"
      ]
     },
     "execution_count": 14,
     "metadata": {},
     "output_type": "execute_result"
    },
    {
     "data": {
      "image/png": "[encoded data removed]",
      "text/plain": [
       "<Figure size 640x480 with 1 Axes>"
      ]
     },
     "metadata": {},
     "output_type": "display_data"
    }
   ],
   "source": [
    "qualification_grouping = group_qualifications(data)\n",
    "qualification_counts = [len(i) for i in qualification_grouping.values()]\n",
    "plt.bar(qualification_grouping.keys(), qualification_counts)\n",
    "plt.title(\"Education Requirements of Job Postings\")\n",
    "plt.xlabel(\"Education Level\")\n",
    "plt.ylabel(\"Frequency\")"
   ]
  }
 ],
 "metadata": {
  "kernelspec": {
   "display_name": "base",
   "language": "python",
   "name": "python3"
  },
  "language_info": {
   "codemirror_mode": {
    "name": "ipython",
    "version": 3
   },
   "file_extension": ".py",
   "mimetype": "text/x-python",
   "name": "python",
   "nbconvert_exporter": "python",
   "pygments_lexer": "ipython3",
   "version": "3.11.4"
  }
 },
 "nbformat": 4,
 "nbformat_minor": 2
}
