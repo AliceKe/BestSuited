{
 "cells": [
  {
   "cell_type": "code",
   "execution_count": 1,
   "id": "75f9fde2",
   "metadata": {},
   "outputs": [],
   "source": [
    "import numpy as np\n",
    "import json\n",
    "import re\n",
    "from settings import settings\n",
    "from collections import defaultdict, Counter\n",
    "from sklearn.feature_extraction.text import TfidfVectorizer\n",
    "import PyPDF2\n",
    "from scipy.sparse.linalg import svds\n",
    "from sklearn.preprocessing import normalize\n",
    "\n",
    "\n",
    "def remove_punctuation(text):\n",
    "    punctuation_pattern = r\"[^\\w\\s]\"\n",
    "    return re.sub(punctuation_pattern, \"\", text)\n",
    "\n",
    "\n",
    "def extract_tokens_from_regular_input(query):\n",
    "    return remove_punctuation(query.lower()).strip().split()\n",
    "\n",
    "\n",
    "def extract_tokens_from_file_input(file):\n",
    "    pdf_read = PyPDF2.PdfReader(file)\n",
    "    resume_text = \"\"\n",
    "    for page in pdf_read.pages:\n",
    "        resume_text += page.extract_text() or \"\"\n",
    "    return extract_tokens_from_regular_input(remove_punctuation(resume_text))\n",
    "\n",
    "\n",
    "def extract_tokens_from_docs(doc):\n",
    "    attrs = [doc[\"company\"], doc[\"role\"], doc[\"country\"], doc[\"city\"], doc[\"skills\"]]\n",
    "    return remove_punctuation(\" \".join(attrs).lower())\n",
    "\n",
    "\n",
    "def tokenize_docs(doc):\n",
    "    return doc.split()\n",
    "\n",
    "\n",
    "def construct_invertex_index(vectorizer, tfidf_matrix, n_components):\n",
    "    feature_names = vectorizer.get_feature_names_out()\n",
    "    print(feature_names)\n",
    "    terms_indices = {\n",
    "        term: idx for idx, term in enumerate(feature_names) if idx < n_components\n",
    "    }\n",
    "    inverted_index = defaultdict(list)\n",
    "    rows, cols = tfidf_matrix.nonzero()\n",
    "    for row, col in zip(rows, cols):\n",
    "        # if col < n_components:  # Only include columns within the reduced dimensions\n",
    "        inverted_index[feature_names[col]].append((row, tfidf_matrix[row, col]))\n",
    "    return terms_indices, inverted_index\n",
    "\n",
    "\n",
    "def construct_term_idf_map(vectorizer):\n",
    "    return dict(zip(vectorizer.get_feature_names_out(), vectorizer.idf_))\n",
    "\n",
    "\n",
    "def construct_query_tfidf(query, idf_map):\n",
    "    tokens = Counter(extract_tokens_from_regular_input(query))\n",
    "    return {\n",
    "        term: freq * idf_map.get(term, 0)\n",
    "        for term, freq in tokens.items()\n",
    "        if term in idf_map\n",
    "    }\n",
    "\n",
    "\n",
    "def compute_cosine_scores(query):\n",
    "    query_tfidf = vectorizer.transform([query]).toarray()\n",
    "    query_vec = normalize(np.dot(query_tfidf, words_compressed)).squeeze()\n",
    "    sims = docs_compressed_normed.dot(query_vec)\n",
    "    asort = np.argsort(-sims)[:200]\n",
    "    return [(i, sims[i]) for i in asort[1:]]\n",
    "\n",
    "\n",
    "\n",
    "def compute_greatest_sim(query):\n",
    "    query_tfidf = vectorizer.transform([query]).toarray()\n",
    "    query_vec = normalize(np.dot(query_tfidf, words_compressed)).squeeze()\n",
    "    sims = docs_compressed_normed.multiply(query_vec)\n",
    "\n",
    "def closest_projects_to_word(word_in, k=5):\n",
    "    if word_in not in word_to_index:\n",
    "        return []\n",
    "    sims = docs_compressed_normed.dot(\n",
    "        words_compressed_normed[word_to_index[word_in], :]\n",
    "    )\n",
    "    asort = np.argsort(-sims)[: k + 1]\n",
    "    return [(i, documents[i][0], sims[i]) for i in asort[1:]]\n",
    "\n",
    "\n",
    "# Load data and prepare TF-IDF and SVD\n",
    "with open(settings.data_file_path, \"r\") as file:\n",
    "    data = json.load(file)\n",
    "documents = data.get(\"job_postings\")\n",
    "\n",
    "vectorizer = TfidfVectorizer(tokenizer=tokenize_docs, stop_words=\"english\")\n",
    "\n",
    "td_matrix = vectorizer.fit_transform(\n",
    "    [extract_tokens_from_docs(doc) for doc in documents]\n",
    ")\n",
    "\n",
    "docs_compressed, s, words_compressed = svds(td_matrix, k=300)\n",
    "words_compressed = words_compressed.transpose()\n",
    "\n",
    "word_to_index = vectorizer.vocabulary_\n",
    "index_to_word = {i: t for t, i in word_to_index.items()}\n",
    "\n",
    "words_compressed_normed = normalize(words_compressed, axis=1)\n",
    "\n",
    "\n",
    "td_matrix_np = td_matrix.transpose().toarray()\n",
    "td_matrix_np = normalize(td_matrix_np)\n",
    "\n",
    "\n",
    "docs_compressed_normed = normalize(docs_compressed)\n"
   ]
  },
  {
   "cell_type": "code",
   "execution_count": 2,
   "id": "5d09afa1",
   "metadata": {},
   "outputs": [],
   "source": [
    "from index import documents, compute_cosine_scores, extract_tokens_from_file_input\n",
    "\n",
    "\n",
    "def group_postings_by_company(postings):\n",
    "    groups = {}\n",
    "\n",
    "    for p in postings:\n",
    "        company = p[\"company\"]\n",
    "\n",
    "        if company in groups:\n",
    "            groups[company][\"postings\"].append(p)\n",
    "        else:\n",
    "            groups[company] = {\n",
    "                \"name\": company,\n",
    "                \"description\": p[\"description\"],\n",
    "                \"rating\": p[\"rating\"],\n",
    "                \"happiness\": p[\"happiness\"],\n",
    "                \"postings\": [p],\n",
    "            }\n",
    "\n",
    "    return groups\n",
    "\n",
    "\n",
    "def select_similar_k_docs(doc_scores_map, k=25):\n",
    "    res = []\n",
    "\n",
    "    for doc, score in doc_scores_map:\n",
    "        document = documents[doc]\n",
    "        document[\"score\"] = score\n",
    "        res.append(document)\n",
    "\n",
    "        if k == 0:\n",
    "            break\n",
    "\n",
    "    return res\n",
    "\n",
    "\n",
    "def get_postings_regular_input(text, k=25):\n",
    "    cosine_scores = compute_cosine_scores(text)\n",
    "    return select_similar_k_docs(cosine_scores, k)\n",
    "\n",
    "\n",
    "def get_postings_file_input(file, k=25):\n",
    "    file_tokens = extract_tokens_from_file_input(file)\n",
    "    cosine_scores = compute_cosine_scores(\" \".join(file_tokens))\n",
    "    return select_similar_k_docs(cosine_scores, k)\n"
   ]
  },
  {
   "cell_type": "code",
   "execution_count": 247,
   "id": "fbc8807f",
   "metadata": {},
   "outputs": [],
   "source": [
    "query = \"Proficiency in one or more backend programming languages (e.g., Java, Python, Node.js, Ruby) API development Database management (SQL or NoSQL) Server management and deployment Security best practices Knowledge of web frameworks (e.g., Express, Django)\""
   ]
  },
  {
   "cell_type": "code",
   "execution_count": 248,
   "id": "452b8cfe",
   "metadata": {},
   "outputs": [],
   "source": [
    "# query = \"Highly skilled and compassionate Registered Nurse with over 7 years of experience in various healthcare settings. Proficient in providing comprehensive patient care, including assessment, planning, and implementation of nursing interventions. Strong ability to communicate effectively with patients, families, and interdisciplinary teams to ensure optimal patient outcomes. Experienced in managing diverse patient populations, ranging from pediatrics to geriatrics, with a focus on delivering evidence-based care. Proven track record of excellence in clinical skills, including medication administration, wound care, and patient education. Dedicated to continuous professional development and staying abreast of the latest advancements in nursing practice. Seeking to leverage my expertise and passion for patient care in a dynamic healthcare environment.\""
   ]
  },
  {
   "cell_type": "code",
   "execution_count": 249,
   "id": "11971178",
   "metadata": {},
   "outputs": [
    {
     "data": {
      "text/plain": [
       "'Proficiency in one or more backend programming languages (e.g., Java, Python, Node.js, Ruby) API development Database management (SQL or NoSQL) Server management and deployment Security best practices Knowledge of web frameworks (e.g., Express, Django)'"
      ]
     },
     "execution_count": 249,
     "metadata": {},
     "output_type": "execute_result"
    }
   ],
   "source": [
    "#Start with a query\n",
    "query"
   ]
  },
  {
   "cell_type": "code",
   "execution_count": 250,
   "id": "d72173e0",
   "metadata": {},
   "outputs": [],
   "source": [
    "#Function to allow us to compare each individual job with the query by creating large array of repeat queries\n",
    "def repeat_vector(vector, length):\n",
    "    # Reshape the vector to be a row vector\n",
    "    vector = np.array(vector).reshape(1, -1)\n",
    "    \n",
    "    # Use broadcasting to repeat the vector\n",
    "    repeated_array = np.tile(vector, (length, 1))\n",
    "    \n",
    "    return repeated_array"
   ]
  },
  {
   "cell_type": "code",
   "execution_count": 251,
   "id": "127394cc",
   "metadata": {},
   "outputs": [],
   "source": [
    "#Create TFidf\n",
    "query_tfidf = vectorizer.transform([query]).toarray()\n",
    "query_vec = normalize(np.dot(query_tfidf, words_compressed)).squeeze()\n",
    "\n",
    "#Create repeated query vector to analyze how much each index contributes in the dot product (cosine score)\n",
    "length = len(docs_compressed_normed)\n",
    "repeated_query_vec = repeat_vector(query_vec, length)\n",
    "\n",
    "#Multiply by each document\n",
    "sims = docs_compressed_normed *repeated_query_vec\n",
    "\n",
    "#Extract out the indices that contribute the most to the cosine score and their values\n",
    "largest_indices = np.argsort(-sims, axis=1)[:, 0:100]\n",
    "largest_values = np.sort(-sims, axis=1)[:, 0:100]\n"
   ]
  },
  {
   "cell_type": "code",
   "execution_count": 252,
   "id": "3d970f0b",
   "metadata": {},
   "outputs": [],
   "source": [
    "#Now, extract the relation between the SVD terms and our query\n",
    "#Extract all the words in the tokenizer\n",
    "words = vectorizer.get_feature_names_out()\n",
    "#Find out which value in our query is most related to each SVD index\n",
    "max_indices = np.argmax(np.expand_dims(query_tfidf.squeeze(), axis=-1) * words_compressed_normed, axis=0)\n",
    "#This creates our dictionary to display our statistics\n",
    "word_representations = []\n",
    "for i in max_indices:\n",
    "    word_representations.append(words[i])"
   ]
  },
  {
   "cell_type": "code",
   "execution_count": 253,
   "id": "d85074ff",
   "metadata": {},
   "outputs": [],
   "source": [
    "#Now calculuate the words that link the query to each job posting, the most similar words between them\n",
    "most_sim_words = []\n",
    "sim_scores = []\n",
    "k = 5 #top k keys\n",
    "\n",
    "n,m = largest_indices.shape\n",
    "for i in range(n):\n",
    "    #Track contribution of each word in their similarity score\n",
    "    contribution_per_index = {word: 0 for word in word_representations}\n",
    "    for j in range(m):\n",
    "         contribution_per_index[word_representations[largest_indices[i,j]]] -= largest_values[i,j]   \n",
    "    \n",
    "    #Find top k related words\n",
    "    top_k_words = sorted(contribution_per_index, key=contribution_per_index.get, reverse=True)[:k]\n",
    "    \n",
    "    #Track all the scores, this will show the percentage the top k related words contribute to the cosine score\n",
    "    sorted_values = sorted(contribution_per_index.values(), reverse=True)\n",
    "    \n",
    "    #Track\n",
    "    most_sim_words.append(top_k_words)\n",
    "    sim_scores.append(sorted_values)"
   ]
  },
  {
   "cell_type": "code",
   "execution_count": 254,
   "id": "23002469",
   "metadata": {},
   "outputs": [],
   "source": [
    "#Calculuate similarity scores\n",
    "sims = docs_compressed_normed.dot(query_vec)\n",
    "p = 10\n",
    "#Find the top p postings\n",
    "asort = np.argsort(-sims)[:p]\n",
    "#Get their most similar words\n",
    "result = [most_sim_words[i] for i in asort]\n",
    "#Get the contribution of each word\n",
    "result_scores = [sim_scores[i] for i in asort]"
   ]
  },
  {
   "cell_type": "code",
   "execution_count": 255,
   "id": "01401bea",
   "metadata": {},
   "outputs": [
    {
     "data": {
      "text/plain": [
       "[['backend', 'server', 'database', 'deployment', 'security'],\n",
       " ['backend', 'server', 'database', 'security', 'deployment'],\n",
       " ['backend', 'server', 'database', 'security', 'deployment'],\n",
       " ['backend', 'server', 'database', 'security', 'deployment'],\n",
       " ['backend', 'server', 'database', 'security', 'deployment'],\n",
       " ['backend', 'server', 'database', 'deployment', 'security'],\n",
       " ['backend', 'server', 'database', 'security', 'deployment'],\n",
       " ['backend', 'server', 'database', 'security', 'deployment'],\n",
       " ['backend', 'server', 'database', 'deployment', 'security'],\n",
       " ['backend', 'server', 'database', 'security', 'deployment']]"
      ]
     },
     "execution_count": 255,
     "metadata": {},
     "output_type": "execute_result"
    }
   ],
   "source": [
    "result"
   ]
  },
  {
   "cell_type": "code",
   "execution_count": 256,
   "id": "217e453f",
   "metadata": {},
   "outputs": [
    {
     "data": {
      "text/plain": [
       "[[0.1601060370059522,\n",
       "  0.11908065757896903,\n",
       "  0.10177369710211472,\n",
       "  0.07142938948687641,\n",
       "  0.07119935517186723,\n",
       "  0.05913440597595163,\n",
       "  0.04737266197566474,\n",
       "  0.033022502045955054,\n",
       "  0.025541165033169968,\n",
       "  0.022127696984439976,\n",
       "  0.019341526841560486,\n",
       "  0.01916573554683185,\n",
       "  0.018409253369231104,\n",
       "  0.01426039080132016,\n",
       "  0.011508946898624977,\n",
       "  0.008986392198826524,\n",
       "  0.005280428417966424],\n",
       " [0.15750656213589675,\n",
       "  0.11616620530248593,\n",
       "  0.0980847552235513,\n",
       "  0.06998319699119955,\n",
       "  0.06951988776282732,\n",
       "  0.059311936744875365,\n",
       "  0.04522978538051666,\n",
       "  0.031009700396964986,\n",
       "  0.026241019999903005,\n",
       "  0.02090882894045512,\n",
       "  0.02018316472395842,\n",
       "  0.018881900080560406,\n",
       "  0.018120147698438716,\n",
       "  0.01540304714512067,\n",
       "  0.012436810127287508,\n",
       "  0.00873939661704882,\n",
       "  0.004892574592321777],\n",
       " [0.1583130881609707,\n",
       "  0.12094163727918449,\n",
       "  0.09821505333332779,\n",
       "  0.06521616969234668,\n",
       "  0.06464304942730945,\n",
       "  0.05573087451667834,\n",
       "  0.041657393045830264,\n",
       "  0.03080156092930858,\n",
       "  0.023079520963240716,\n",
       "  0.020510500260496552,\n",
       "  0.020287657770917688,\n",
       "  0.017232081161831333,\n",
       "  0.016397009772039357,\n",
       "  0.014525608275001524,\n",
       "  0.011617196064436619,\n",
       "  0.01047099162387295,\n",
       "  0.005772843057939651],\n",
       " [0.15181834168464514,\n",
       "  0.11057302783020426,\n",
       "  0.0949695541222387,\n",
       "  0.06778065156056459,\n",
       "  0.06556849015996964,\n",
       "  0.05427928551413205,\n",
       "  0.041091497897080116,\n",
       "  0.02444356447667089,\n",
       "  0.023770755694891628,\n",
       "  0.022225857644045784,\n",
       "  0.019731816515518422,\n",
       "  0.01871950479034324,\n",
       "  0.017679522171957555,\n",
       "  0.012355851195674856,\n",
       "  0.010779335866160724,\n",
       "  0.007569047014090119,\n",
       "  0.004786976670787214],\n",
       " [0.14981460770055058,\n",
       "  0.10975757198495761,\n",
       "  0.0912239538081812,\n",
       "  0.06513454483505089,\n",
       "  0.06487893353197724,\n",
       "  0.050539585614948236,\n",
       "  0.041238749995640894,\n",
       "  0.027556549753849115,\n",
       "  0.022431263137166015,\n",
       "  0.021955343592635613,\n",
       "  0.02072274578733712,\n",
       "  0.01965779176698775,\n",
       "  0.017963860496547367,\n",
       "  0.01583279510676238,\n",
       "  0.010396930094984269,\n",
       "  0.008994524651842363,\n",
       "  0.005933502977700254],\n",
       " [0.14983737147683768,\n",
       "  0.1081627573264664,\n",
       "  0.09281737659129458,\n",
       "  0.06849927288450622,\n",
       "  0.06355407214711946,\n",
       "  0.057250447542287815,\n",
       "  0.04146666007756967,\n",
       "  0.02627642620230974,\n",
       "  0.024691091113860638,\n",
       "  0.019043573495853297,\n",
       "  0.01765788355132113,\n",
       "  0.015284331411664763,\n",
       "  0.013222316448695938,\n",
       "  0.01278968801004111,\n",
       "  0.010284284817782312,\n",
       "  0.008178208941793347,\n",
       "  0.006400955295473978],\n",
       " [0.15207806886961664,\n",
       "  0.10836207290494725,\n",
       "  0.09548987323062391,\n",
       "  0.0660888317221539,\n",
       "  0.0646038906674897,\n",
       "  0.05346249655443202,\n",
       "  0.0424410837937963,\n",
       "  0.02453378457305241,\n",
       "  0.022910097430710492,\n",
       "  0.020641003487827544,\n",
       "  0.018321637833124217,\n",
       "  0.017529004638232502,\n",
       "  0.016172311662292264,\n",
       "  0.013587923357436932,\n",
       "  0.011344305482476034,\n",
       "  0.007266718815399131,\n",
       "  0.004926968404178304],\n",
       " [0.15124806109337247,\n",
       "  0.10828712394425777,\n",
       "  0.09627819734427588,\n",
       "  0.06657383630513942,\n",
       "  0.06616570676179986,\n",
       "  0.0512743129856698,\n",
       "  0.04259252241323162,\n",
       "  0.024647108196266053,\n",
       "  0.021247343789515413,\n",
       "  0.019708536954059663,\n",
       "  0.018249434820080398,\n",
       "  0.016387087055724742,\n",
       "  0.015783435132336612,\n",
       "  0.014522411879194595,\n",
       "  0.010442776840061995,\n",
       "  0.006267887178847301,\n",
       "  0.004652736485220205],\n",
       " [0.13836894112956546,\n",
       "  0.09445933008338392,\n",
       "  0.07596555966543467,\n",
       "  0.06405415745513264,\n",
       "  0.05476283541401088,\n",
       "  0.049069706029434335,\n",
       "  0.03793579635299262,\n",
       "  0.02620839443548104,\n",
       "  0.02010138265960957,\n",
       "  0.01861001867882424,\n",
       "  0.017476209768266113,\n",
       "  0.01577114019494585,\n",
       "  0.014762060587905704,\n",
       "  0.012555112553556248,\n",
       "  0.009935084820809067,\n",
       "  0.007393770767689958,\n",
       "  0.0052417107961206895],\n",
       " [0.11958676835934215,\n",
       "  0.09685589961693772,\n",
       "  0.0856143120586821,\n",
       "  0.0544513191911664,\n",
       "  0.053862497577932926,\n",
       "  0.04690798639298116,\n",
       "  0.038823383024810386,\n",
       "  0.028079859430947613,\n",
       "  0.019771388470243557,\n",
       "  0.01963441086859459,\n",
       "  0.019505362599432446,\n",
       "  0.017632327132419377,\n",
       "  0.01601546441811168,\n",
       "  0.014488620122432981,\n",
       "  0.010006440256656689,\n",
       "  0.009623912918748125,\n",
       "  0.00363695334436875]]"
      ]
     },
     "execution_count": 256,
     "metadata": {},
     "output_type": "execute_result"
    }
   ],
   "source": [
    "result_scores"
   ]
  },
  {
   "cell_type": "code",
   "execution_count": 257,
   "id": "1281a8fd",
   "metadata": {},
   "outputs": [],
   "source": [
    "# Find the sum of total contributions for each word\n",
    "sums = np.sum(np.abs(result_scores), axis=1)\n",
    "\n",
    "# Calculate the percentage contribution of each word\n",
    "percentages = (result_scores / sums[:, np.newaxis]) * 100\n"
   ]
  },
  {
   "cell_type": "code",
   "execution_count": 258,
   "id": "c10034f4",
   "metadata": {},
   "outputs": [
    {
     "data": {
      "text/plain": [
       "array([[19.82147584, 14.74244458, 12.5998052 ,  8.84311388,  8.81463513],\n",
       "       [19.87166319, 14.65599702, 12.37476835,  8.82936241,  8.77090945],\n",
       "       [20.4166353 , 15.59707621, 12.66617276,  8.41051595,  8.33660426],\n",
       "       [20.29268807, 14.77966323, 12.69403628,  9.05985142,  8.76416448],\n",
       "       [20.135472  , 14.75170246, 12.26073609,  8.75425183,  8.71989701],\n",
       "       [20.37448537, 14.7076827 , 12.62105884,  9.31434808,  8.6419129 ],\n",
       "       [20.55775573, 14.6482727 , 12.90822209,  8.93381977,  8.73308698],\n",
       "       [20.59678429, 14.74641405, 13.11105246,  9.06594727,  9.01036866],\n",
       "       [20.88048172, 14.25432831, 11.46353702,  9.66605405,  8.26395269],\n",
       "       [18.27155595, 14.79852674, 13.08093458,  8.31956862,  8.22960309]])"
      ]
     },
     "execution_count": 258,
     "metadata": {},
     "output_type": "execute_result"
    }
   ],
   "source": [
    "#Display top k\n",
    "percentages = percentages[:,:k]\n",
    "percentages"
   ]
  },
  {
   "cell_type": "code",
   "execution_count": 259,
   "id": "75d642ca",
   "metadata": {},
   "outputs": [
    {
     "data": {
      "text/plain": [
       "[['backend', 'server', 'database', 'deployment', 'security'],\n",
       " ['backend', 'server', 'database', 'security', 'deployment'],\n",
       " ['backend', 'server', 'database', 'security', 'deployment'],\n",
       " ['backend', 'server', 'database', 'security', 'deployment'],\n",
       " ['backend', 'server', 'database', 'security', 'deployment'],\n",
       " ['backend', 'server', 'database', 'deployment', 'security'],\n",
       " ['backend', 'server', 'database', 'security', 'deployment'],\n",
       " ['backend', 'server', 'database', 'security', 'deployment'],\n",
       " ['backend', 'server', 'database', 'deployment', 'security'],\n",
       " ['backend', 'server', 'database', 'security', 'deployment']]"
      ]
     },
     "execution_count": 259,
     "metadata": {},
     "output_type": "execute_result"
    }
   ],
   "source": [
    "result"
   ]
  },
  {
   "cell_type": "code",
   "execution_count": 260,
   "id": "eb459db9",
   "metadata": {},
   "outputs": [],
   "source": [
    "#Now graph using a spider plot\n",
    "import pandas as pd\n",
    "import plotly.graph_objects as go\n",
    "import plotly.express as px"
   ]
  },
  {
   "cell_type": "code",
   "execution_count": 261,
   "id": "0b35ec87",
   "metadata": {},
   "outputs": [],
   "source": [
    "data = {\n",
    "    'word': result[0],\n",
    "    'percent': percentages[0,0:5]\n",
    "}\n",
    "df = pd.DataFrame(data)"
   ]
  },
  {
   "cell_type": "code",
   "execution_count": 262,
   "id": "88a01b4e",
   "metadata": {},
   "outputs": [
    {
     "data": {
      "application/vnd.plotly.v1+json": {
       "config": {
        "plotlyServerURL": "https://plot.ly"
       },
       "data": [
        {
         "fill": "toself",
         "fillcolor": "lightgreen",
         "name": "Contribution Percentages",
         "r": [
          19.821475840207658,
          14.742444578462871,
          12.59980520411721,
          8.843113879224102,
          8.814635130373405
         ],
         "theta": [
          "backend",
          "server",
          "database",
          "deployment",
          "security"
         ],
         "type": "scatterpolar"
        }
       ],
       "layout": {
        "template": {
         "data": {
          "bar": [
           {
            "error_x": {
             "color": "#2a3f5f"
            },
            "error_y": {
             "color": "#2a3f5f"
            },
            "marker": {
             "line": {
              "color": "#E5ECF6",
              "width": 0.5
             },
             "pattern": {
              "fillmode": "overlay",
              "size": 10,
              "solidity": 0.2
             }
            },
            "type": "bar"
           }
          ],
          "barpolar": [
           {
            "marker": {
             "line": {
              "color": "#E5ECF6",
              "width": 0.5
             },
             "pattern": {
              "fillmode": "overlay",
              "size": 10,
              "solidity": 0.2
             }
            },
            "type": "barpolar"
           }
          ],
          "carpet": [
           {
            "aaxis": {
             "endlinecolor": "#2a3f5f",
             "gridcolor": "white",
             "linecolor": "white",
             "minorgridcolor": "white",
             "startlinecolor": "#2a3f5f"
            },
            "baxis": {
             "endlinecolor": "#2a3f5f",
             "gridcolor": "white",
             "linecolor": "white",
             "minorgridcolor": "white",
             "startlinecolor": "#2a3f5f"
            },
            "type": "carpet"
           }
          ],
          "choropleth": [
           {
            "colorbar": {
             "outlinewidth": 0,
             "ticks": ""
            },
            "type": "choropleth"
           }
          ],
          "contour": [
           {
            "colorbar": {
             "outlinewidth": 0,
             "ticks": ""
            },
            "colorscale": [
             [
              0,
              "#0d0887"
             ],
             [
              0.1111111111111111,
              "#46039f"
             ],
             [
              0.2222222222222222,
              "#7201a8"
             ],
             [
              0.3333333333333333,
              "#9c179e"
             ],
             [
              0.4444444444444444,
              "#bd3786"
             ],
             [
              0.5555555555555556,
              "#d8576b"
             ],
             [
              0.6666666666666666,
              "#ed7953"
             ],
             [
              0.7777777777777778,
              "#fb9f3a"
             ],
             [
              0.8888888888888888,
              "#fdca26"
             ],
             [
              1,
              "#f0f921"
             ]
            ],
            "type": "contour"
           }
          ],
          "contourcarpet": [
           {
            "colorbar": {
             "outlinewidth": 0,
             "ticks": ""
            },
            "type": "contourcarpet"
           }
          ],
          "heatmap": [
           {
            "colorbar": {
             "outlinewidth": 0,
             "ticks": ""
            },
            "colorscale": [
             [
              0,
              "#0d0887"
             ],
             [
              0.1111111111111111,
              "#46039f"
             ],
             [
              0.2222222222222222,
              "#7201a8"
             ],
             [
              0.3333333333333333,
              "#9c179e"
             ],
             [
              0.4444444444444444,
              "#bd3786"
             ],
             [
              0.5555555555555556,
              "#d8576b"
             ],
             [
              0.6666666666666666,
              "#ed7953"
             ],
             [
              0.7777777777777778,
              "#fb9f3a"
             ],
             [
              0.8888888888888888,
              "#fdca26"
             ],
             [
              1,
              "#f0f921"
             ]
            ],
            "type": "heatmap"
           }
          ],
          "heatmapgl": [
           {
            "colorbar": {
             "outlinewidth": 0,
             "ticks": ""
            },
            "colorscale": [
             [
              0,
              "#0d0887"
             ],
             [
              0.1111111111111111,
              "#46039f"
             ],
             [
              0.2222222222222222,
              "#7201a8"
             ],
             [
              0.3333333333333333,
              "#9c179e"
             ],
             [
              0.4444444444444444,
              "#bd3786"
             ],
             [
              0.5555555555555556,
              "#d8576b"
             ],
             [
              0.6666666666666666,
              "#ed7953"
             ],
             [
              0.7777777777777778,
              "#fb9f3a"
             ],
             [
              0.8888888888888888,
              "#fdca26"
             ],
             [
              1,
              "#f0f921"
             ]
            ],
            "type": "heatmapgl"
           }
          ],
          "histogram": [
           {
            "marker": {
             "pattern": {
              "fillmode": "overlay",
              "size": 10,
              "solidity": 0.2
             }
            },
            "type": "histogram"
           }
          ],
          "histogram2d": [
           {
            "colorbar": {
             "outlinewidth": 0,
             "ticks": ""
            },
            "colorscale": [
             [
              0,
              "#0d0887"
             ],
             [
              0.1111111111111111,
              "#46039f"
             ],
             [
              0.2222222222222222,
              "#7201a8"
             ],
             [
              0.3333333333333333,
              "#9c179e"
             ],
             [
              0.4444444444444444,
              "#bd3786"
             ],
             [
              0.5555555555555556,
              "#d8576b"
             ],
             [
              0.6666666666666666,
              "#ed7953"
             ],
             [
              0.7777777777777778,
              "#fb9f3a"
             ],
             [
              0.8888888888888888,
              "#fdca26"
             ],
             [
              1,
              "#f0f921"
             ]
            ],
            "type": "histogram2d"
           }
          ],
          "histogram2dcontour": [
           {
            "colorbar": {
             "outlinewidth": 0,
             "ticks": ""
            },
            "colorscale": [
             [
              0,
              "#0d0887"
             ],
             [
              0.1111111111111111,
              "#46039f"
             ],
             [
              0.2222222222222222,
              "#7201a8"
             ],
             [
              0.3333333333333333,
              "#9c179e"
             ],
             [
              0.4444444444444444,
              "#bd3786"
             ],
             [
              0.5555555555555556,
              "#d8576b"
             ],
             [
              0.6666666666666666,
              "#ed7953"
             ],
             [
              0.7777777777777778,
              "#fb9f3a"
             ],
             [
              0.8888888888888888,
              "#fdca26"
             ],
             [
              1,
              "#f0f921"
             ]
            ],
            "type": "histogram2dcontour"
           }
          ],
          "mesh3d": [
           {
            "colorbar": {
             "outlinewidth": 0,
             "ticks": ""
            },
            "type": "mesh3d"
           }
          ],
          "parcoords": [
           {
            "line": {
             "colorbar": {
              "outlinewidth": 0,
              "ticks": ""
             }
            },
            "type": "parcoords"
           }
          ],
          "pie": [
           {
            "automargin": true,
            "type": "pie"
           }
          ],
          "scatter": [
           {
            "fillpattern": {
             "fillmode": "overlay",
             "size": 10,
             "solidity": 0.2
            },
            "type": "scatter"
           }
          ],
          "scatter3d": [
           {
            "line": {
             "colorbar": {
              "outlinewidth": 0,
              "ticks": ""
             }
            },
            "marker": {
             "colorbar": {
              "outlinewidth": 0,
              "ticks": ""
             }
            },
            "type": "scatter3d"
           }
          ],
          "scattercarpet": [
           {
            "marker": {
             "colorbar": {
              "outlinewidth": 0,
              "ticks": ""
             }
            },
            "type": "scattercarpet"
           }
          ],
          "scattergeo": [
           {
            "marker": {
             "colorbar": {
              "outlinewidth": 0,
              "ticks": ""
             }
            },
            "type": "scattergeo"
           }
          ],
          "scattergl": [
           {
            "marker": {
             "colorbar": {
              "outlinewidth": 0,
              "ticks": ""
             }
            },
            "type": "scattergl"
           }
          ],
          "scattermapbox": [
           {
            "marker": {
             "colorbar": {
              "outlinewidth": 0,
              "ticks": ""
             }
            },
            "type": "scattermapbox"
           }
          ],
          "scatterpolar": [
           {
            "marker": {
             "colorbar": {
              "outlinewidth": 0,
              "ticks": ""
             }
            },
            "type": "scatterpolar"
           }
          ],
          "scatterpolargl": [
           {
            "marker": {
             "colorbar": {
              "outlinewidth": 0,
              "ticks": ""
             }
            },
            "type": "scatterpolargl"
           }
          ],
          "scatterternary": [
           {
            "marker": {
             "colorbar": {
              "outlinewidth": 0,
              "ticks": ""
             }
            },
            "type": "scatterternary"
           }
          ],
          "surface": [
           {
            "colorbar": {
             "outlinewidth": 0,
             "ticks": ""
            },
            "colorscale": [
             [
              0,
              "#0d0887"
             ],
             [
              0.1111111111111111,
              "#46039f"
             ],
             [
              0.2222222222222222,
              "#7201a8"
             ],
             [
              0.3333333333333333,
              "#9c179e"
             ],
             [
              0.4444444444444444,
              "#bd3786"
             ],
             [
              0.5555555555555556,
              "#d8576b"
             ],
             [
              0.6666666666666666,
              "#ed7953"
             ],
             [
              0.7777777777777778,
              "#fb9f3a"
             ],
             [
              0.8888888888888888,
              "#fdca26"
             ],
             [
              1,
              "#f0f921"
             ]
            ],
            "type": "surface"
           }
          ],
          "table": [
           {
            "cells": {
             "fill": {
              "color": "#EBF0F8"
             },
             "line": {
              "color": "white"
             }
            },
            "header": {
             "fill": {
              "color": "#C8D4E3"
             },
             "line": {
              "color": "white"
             }
            },
            "type": "table"
           }
          ]
         },
         "layout": {
          "annotationdefaults": {
           "arrowcolor": "#2a3f5f",
           "arrowhead": 0,
           "arrowwidth": 1
          },
          "autotypenumbers": "strict",
          "coloraxis": {
           "colorbar": {
            "outlinewidth": 0,
            "ticks": ""
           }
          },
          "colorscale": {
           "diverging": [
            [
             0,
             "#8e0152"
            ],
            [
             0.1,
             "#c51b7d"
            ],
            [
             0.2,
             "#de77ae"
            ],
            [
             0.3,
             "#f1b6da"
            ],
            [
             0.4,
             "#fde0ef"
            ],
            [
             0.5,
             "#f7f7f7"
            ],
            [
             0.6,
             "#e6f5d0"
            ],
            [
             0.7,
             "#b8e186"
            ],
            [
             0.8,
             "#7fbc41"
            ],
            [
             0.9,
             "#4d9221"
            ],
            [
             1,
             "#276419"
            ]
           ],
           "sequential": [
            [
             0,
             "#0d0887"
            ],
            [
             0.1111111111111111,
             "#46039f"
            ],
            [
             0.2222222222222222,
             "#7201a8"
            ],
            [
             0.3333333333333333,
             "#9c179e"
            ],
            [
             0.4444444444444444,
             "#bd3786"
            ],
            [
             0.5555555555555556,
             "#d8576b"
            ],
            [
             0.6666666666666666,
             "#ed7953"
            ],
            [
             0.7777777777777778,
             "#fb9f3a"
            ],
            [
             0.8888888888888888,
             "#fdca26"
            ],
            [
             1,
             "#f0f921"
            ]
           ],
           "sequentialminus": [
            [
             0,
             "#0d0887"
            ],
            [
             0.1111111111111111,
             "#46039f"
            ],
            [
             0.2222222222222222,
             "#7201a8"
            ],
            [
             0.3333333333333333,
             "#9c179e"
            ],
            [
             0.4444444444444444,
             "#bd3786"
            ],
            [
             0.5555555555555556,
             "#d8576b"
            ],
            [
             0.6666666666666666,
             "#ed7953"
            ],
            [
             0.7777777777777778,
             "#fb9f3a"
            ],
            [
             0.8888888888888888,
             "#fdca26"
            ],
            [
             1,
             "#f0f921"
            ]
           ]
          },
          "colorway": [
           "#636efa",
           "#EF553B",
           "#00cc96",
           "#ab63fa",
           "#FFA15A",
           "#19d3f3",
           "#FF6692",
           "#B6E880",
           "#FF97FF",
           "#FECB52"
          ],
          "font": {
           "color": "#2a3f5f"
          },
          "geo": {
           "bgcolor": "white",
           "lakecolor": "white",
           "landcolor": "#E5ECF6",
           "showlakes": true,
           "showland": true,
           "subunitcolor": "white"
          },
          "hoverlabel": {
           "align": "left"
          },
          "hovermode": "closest",
          "mapbox": {
           "style": "light"
          },
          "paper_bgcolor": "white",
          "plot_bgcolor": "#E5ECF6",
          "polar": {
           "angularaxis": {
            "gridcolor": "white",
            "linecolor": "white",
            "ticks": ""
           },
           "bgcolor": "#E5ECF6",
           "radialaxis": {
            "gridcolor": "white",
            "linecolor": "white",
            "ticks": ""
           }
          },
          "scene": {
           "xaxis": {
            "backgroundcolor": "#E5ECF6",
            "gridcolor": "white",
            "gridwidth": 2,
            "linecolor": "white",
            "showbackground": true,
            "ticks": "",
            "zerolinecolor": "white"
           },
           "yaxis": {
            "backgroundcolor": "#E5ECF6",
            "gridcolor": "white",
            "gridwidth": 2,
            "linecolor": "white",
            "showbackground": true,
            "ticks": "",
            "zerolinecolor": "white"
           },
           "zaxis": {
            "backgroundcolor": "#E5ECF6",
            "gridcolor": "white",
            "gridwidth": 2,
            "linecolor": "white",
            "showbackground": true,
            "ticks": "",
            "zerolinecolor": "white"
           }
          },
          "shapedefaults": {
           "line": {
            "color": "#2a3f5f"
           }
          },
          "ternary": {
           "aaxis": {
            "gridcolor": "white",
            "linecolor": "white",
            "ticks": ""
           },
           "baxis": {
            "gridcolor": "white",
            "linecolor": "white",
            "ticks": ""
           },
           "bgcolor": "#E5ECF6",
           "caxis": {
            "gridcolor": "white",
            "linecolor": "white",
            "ticks": ""
           }
          },
          "title": {
           "x": 0.05
          },
          "xaxis": {
           "automargin": true,
           "gridcolor": "white",
           "linecolor": "white",
           "ticks": "",
           "title": {
            "standoff": 15
           },
           "zerolinecolor": "white",
           "zerolinewidth": 2
          },
          "yaxis": {
           "automargin": true,
           "gridcolor": "white",
           "linecolor": "white",
           "ticks": "",
           "title": {
            "standoff": 15
           },
           "zerolinecolor": "white",
           "zerolinewidth": 2
          }
         }
        },
        "title": {
         "text": "Contribution Percentages of Top 5 Words in Your Resume"
        }
       }
      },
      "text/html": [
       "<div>                            <div id=\"e7956c5c-ab2b-4c0d-96f5-0a12c25faa64\" class=\"plotly-graph-div\" style=\"height:525px; width:100%;\"></div>            <script type=\"text/javascript\">                require([\"plotly\"], function(Plotly) {                    window.PLOTLYENV=window.PLOTLYENV || {};                                    if (document.getElementById(\"e7956c5c-ab2b-4c0d-96f5-0a12c25faa64\")) {                    Plotly.newPlot(                        \"e7956c5c-ab2b-4c0d-96f5-0a12c25faa64\",                        [{\"fill\":\"toself\",\"fillcolor\":\"lightgreen\",\"name\":\"Contribution Percentages\",\"r\":[19.821475840207658,14.742444578462871,12.59980520411721,8.843113879224102,8.814635130373405],\"theta\":[\"backend\",\"server\",\"database\",\"deployment\",\"security\"],\"type\":\"scatterpolar\"}],                        {\"title\":{\"text\":\"Contribution Percentages of Top 5 Words in Your Resume\"},\"template\":{\"data\":{\"histogram2dcontour\":[{\"type\":\"histogram2dcontour\",\"colorbar\":{\"outlinewidth\":0,\"ticks\":\"\"},\"colorscale\":[[0.0,\"#0d0887\"],[0.1111111111111111,\"#46039f\"],[0.2222222222222222,\"#7201a8\"],[0.3333333333333333,\"#9c179e\"],[0.4444444444444444,\"#bd3786\"],[0.5555555555555556,\"#d8576b\"],[0.6666666666666666,\"#ed7953\"],[0.7777777777777778,\"#fb9f3a\"],[0.8888888888888888,\"#fdca26\"],[1.0,\"#f0f921\"]]}],\"choropleth\":[{\"type\":\"choropleth\",\"colorbar\":{\"outlinewidth\":0,\"ticks\":\"\"}}],\"histogram2d\":[{\"type\":\"histogram2d\",\"colorbar\":{\"outlinewidth\":0,\"ticks\":\"\"},\"colorscale\":[[0.0,\"#0d0887\"],[0.1111111111111111,\"#46039f\"],[0.2222222222222222,\"#7201a8\"],[0.3333333333333333,\"#9c179e\"],[0.4444444444444444,\"#bd3786\"],[0.5555555555555556,\"#d8576b\"],[0.6666666666666666,\"#ed7953\"],[0.7777777777777778,\"#fb9f3a\"],[0.8888888888888888,\"#fdca26\"],[1.0,\"#f0f921\"]]}],\"heatmap\":[{\"type\":\"heatmap\",\"colorbar\":{\"outlinewidth\":0,\"ticks\":\"\"},\"colorscale\":[[0.0,\"#0d0887\"],[0.1111111111111111,\"#46039f\"],[0.2222222222222222,\"#7201a8\"],[0.3333333333333333,\"#9c179e\"],[0.4444444444444444,\"#bd3786\"],[0.5555555555555556,\"#d8576b\"],[0.6666666666666666,\"#ed7953\"],[0.7777777777777778,\"#fb9f3a\"],[0.8888888888888888,\"#fdca26\"],[1.0,\"#f0f921\"]]}],\"heatmapgl\":[{\"type\":\"heatmapgl\",\"colorbar\":{\"outlinewidth\":0,\"ticks\":\"\"},\"colorscale\":[[0.0,\"#0d0887\"],[0.1111111111111111,\"#46039f\"],[0.2222222222222222,\"#7201a8\"],[0.3333333333333333,\"#9c179e\"],[0.4444444444444444,\"#bd3786\"],[0.5555555555555556,\"#d8576b\"],[0.6666666666666666,\"#ed7953\"],[0.7777777777777778,\"#fb9f3a\"],[0.8888888888888888,\"#fdca26\"],[1.0,\"#f0f921\"]]}],\"contourcarpet\":[{\"type\":\"contourcarpet\",\"colorbar\":{\"outlinewidth\":0,\"ticks\":\"\"}}],\"contour\":[{\"type\":\"contour\",\"colorbar\":{\"outlinewidth\":0,\"ticks\":\"\"},\"colorscale\":[[0.0,\"#0d0887\"],[0.1111111111111111,\"#46039f\"],[0.2222222222222222,\"#7201a8\"],[0.3333333333333333,\"#9c179e\"],[0.4444444444444444,\"#bd3786\"],[0.5555555555555556,\"#d8576b\"],[0.6666666666666666,\"#ed7953\"],[0.7777777777777778,\"#fb9f3a\"],[0.8888888888888888,\"#fdca26\"],[1.0,\"#f0f921\"]]}],\"surface\":[{\"type\":\"surface\",\"colorbar\":{\"outlinewidth\":0,\"ticks\":\"\"},\"colorscale\":[[0.0,\"#0d0887\"],[0.1111111111111111,\"#46039f\"],[0.2222222222222222,\"#7201a8\"],[0.3333333333333333,\"#9c179e\"],[0.4444444444444444,\"#bd3786\"],[0.5555555555555556,\"#d8576b\"],[0.6666666666666666,\"#ed7953\"],[0.7777777777777778,\"#fb9f3a\"],[0.8888888888888888,\"#fdca26\"],[1.0,\"#f0f921\"]]}],\"mesh3d\":[{\"type\":\"mesh3d\",\"colorbar\":{\"outlinewidth\":0,\"ticks\":\"\"}}],\"scatter\":[{\"fillpattern\":{\"fillmode\":\"overlay\",\"size\":10,\"solidity\":0.2},\"type\":\"scatter\"}],\"parcoords\":[{\"type\":\"parcoords\",\"line\":{\"colorbar\":{\"outlinewidth\":0,\"ticks\":\"\"}}}],\"scatterpolargl\":[{\"type\":\"scatterpolargl\",\"marker\":{\"colorbar\":{\"outlinewidth\":0,\"ticks\":\"\"}}}],\"bar\":[{\"error_x\":{\"color\":\"#2a3f5f\"},\"error_y\":{\"color\":\"#2a3f5f\"},\"marker\":{\"line\":{\"color\":\"#E5ECF6\",\"width\":0.5},\"pattern\":{\"fillmode\":\"overlay\",\"size\":10,\"solidity\":0.2}},\"type\":\"bar\"}],\"scattergeo\":[{\"type\":\"scattergeo\",\"marker\":{\"colorbar\":{\"outlinewidth\":0,\"ticks\":\"\"}}}],\"scatterpolar\":[{\"type\":\"scatterpolar\",\"marker\":{\"colorbar\":{\"outlinewidth\":0,\"ticks\":\"\"}}}],\"histogram\":[{\"marker\":{\"pattern\":{\"fillmode\":\"overlay\",\"size\":10,\"solidity\":0.2}},\"type\":\"histogram\"}],\"scattergl\":[{\"type\":\"scattergl\",\"marker\":{\"colorbar\":{\"outlinewidth\":0,\"ticks\":\"\"}}}],\"scatter3d\":[{\"type\":\"scatter3d\",\"line\":{\"colorbar\":{\"outlinewidth\":0,\"ticks\":\"\"}},\"marker\":{\"colorbar\":{\"outlinewidth\":0,\"ticks\":\"\"}}}],\"scattermapbox\":[{\"type\":\"scattermapbox\",\"marker\":{\"colorbar\":{\"outlinewidth\":0,\"ticks\":\"\"}}}],\"scatterternary\":[{\"type\":\"scatterternary\",\"marker\":{\"colorbar\":{\"outlinewidth\":0,\"ticks\":\"\"}}}],\"scattercarpet\":[{\"type\":\"scattercarpet\",\"marker\":{\"colorbar\":{\"outlinewidth\":0,\"ticks\":\"\"}}}],\"carpet\":[{\"aaxis\":{\"endlinecolor\":\"#2a3f5f\",\"gridcolor\":\"white\",\"linecolor\":\"white\",\"minorgridcolor\":\"white\",\"startlinecolor\":\"#2a3f5f\"},\"baxis\":{\"endlinecolor\":\"#2a3f5f\",\"gridcolor\":\"white\",\"linecolor\":\"white\",\"minorgridcolor\":\"white\",\"startlinecolor\":\"#2a3f5f\"},\"type\":\"carpet\"}],\"table\":[{\"cells\":{\"fill\":{\"color\":\"#EBF0F8\"},\"line\":{\"color\":\"white\"}},\"header\":{\"fill\":{\"color\":\"#C8D4E3\"},\"line\":{\"color\":\"white\"}},\"type\":\"table\"}],\"barpolar\":[{\"marker\":{\"line\":{\"color\":\"#E5ECF6\",\"width\":0.5},\"pattern\":{\"fillmode\":\"overlay\",\"size\":10,\"solidity\":0.2}},\"type\":\"barpolar\"}],\"pie\":[{\"automargin\":true,\"type\":\"pie\"}]},\"layout\":{\"autotypenumbers\":\"strict\",\"colorway\":[\"#636efa\",\"#EF553B\",\"#00cc96\",\"#ab63fa\",\"#FFA15A\",\"#19d3f3\",\"#FF6692\",\"#B6E880\",\"#FF97FF\",\"#FECB52\"],\"font\":{\"color\":\"#2a3f5f\"},\"hovermode\":\"closest\",\"hoverlabel\":{\"align\":\"left\"},\"paper_bgcolor\":\"white\",\"plot_bgcolor\":\"#E5ECF6\",\"polar\":{\"bgcolor\":\"#E5ECF6\",\"angularaxis\":{\"gridcolor\":\"white\",\"linecolor\":\"white\",\"ticks\":\"\"},\"radialaxis\":{\"gridcolor\":\"white\",\"linecolor\":\"white\",\"ticks\":\"\"}},\"ternary\":{\"bgcolor\":\"#E5ECF6\",\"aaxis\":{\"gridcolor\":\"white\",\"linecolor\":\"white\",\"ticks\":\"\"},\"baxis\":{\"gridcolor\":\"white\",\"linecolor\":\"white\",\"ticks\":\"\"},\"caxis\":{\"gridcolor\":\"white\",\"linecolor\":\"white\",\"ticks\":\"\"}},\"coloraxis\":{\"colorbar\":{\"outlinewidth\":0,\"ticks\":\"\"}},\"colorscale\":{\"sequential\":[[0.0,\"#0d0887\"],[0.1111111111111111,\"#46039f\"],[0.2222222222222222,\"#7201a8\"],[0.3333333333333333,\"#9c179e\"],[0.4444444444444444,\"#bd3786\"],[0.5555555555555556,\"#d8576b\"],[0.6666666666666666,\"#ed7953\"],[0.7777777777777778,\"#fb9f3a\"],[0.8888888888888888,\"#fdca26\"],[1.0,\"#f0f921\"]],\"sequentialminus\":[[0.0,\"#0d0887\"],[0.1111111111111111,\"#46039f\"],[0.2222222222222222,\"#7201a8\"],[0.3333333333333333,\"#9c179e\"],[0.4444444444444444,\"#bd3786\"],[0.5555555555555556,\"#d8576b\"],[0.6666666666666666,\"#ed7953\"],[0.7777777777777778,\"#fb9f3a\"],[0.8888888888888888,\"#fdca26\"],[1.0,\"#f0f921\"]],\"diverging\":[[0,\"#8e0152\"],[0.1,\"#c51b7d\"],[0.2,\"#de77ae\"],[0.3,\"#f1b6da\"],[0.4,\"#fde0ef\"],[0.5,\"#f7f7f7\"],[0.6,\"#e6f5d0\"],[0.7,\"#b8e186\"],[0.8,\"#7fbc41\"],[0.9,\"#4d9221\"],[1,\"#276419\"]]},\"xaxis\":{\"gridcolor\":\"white\",\"linecolor\":\"white\",\"ticks\":\"\",\"title\":{\"standoff\":15},\"zerolinecolor\":\"white\",\"automargin\":true,\"zerolinewidth\":2},\"yaxis\":{\"gridcolor\":\"white\",\"linecolor\":\"white\",\"ticks\":\"\",\"title\":{\"standoff\":15},\"zerolinecolor\":\"white\",\"automargin\":true,\"zerolinewidth\":2},\"scene\":{\"xaxis\":{\"backgroundcolor\":\"#E5ECF6\",\"gridcolor\":\"white\",\"linecolor\":\"white\",\"showbackground\":true,\"ticks\":\"\",\"zerolinecolor\":\"white\",\"gridwidth\":2},\"yaxis\":{\"backgroundcolor\":\"#E5ECF6\",\"gridcolor\":\"white\",\"linecolor\":\"white\",\"showbackground\":true,\"ticks\":\"\",\"zerolinecolor\":\"white\",\"gridwidth\":2},\"zaxis\":{\"backgroundcolor\":\"#E5ECF6\",\"gridcolor\":\"white\",\"linecolor\":\"white\",\"showbackground\":true,\"ticks\":\"\",\"zerolinecolor\":\"white\",\"gridwidth\":2}},\"shapedefaults\":{\"line\":{\"color\":\"#2a3f5f\"}},\"annotationdefaults\":{\"arrowcolor\":\"#2a3f5f\",\"arrowhead\":0,\"arrowwidth\":1},\"geo\":{\"bgcolor\":\"white\",\"landcolor\":\"#E5ECF6\",\"subunitcolor\":\"white\",\"showland\":true,\"showlakes\":true,\"lakecolor\":\"white\"},\"title\":{\"x\":0.05},\"mapbox\":{\"style\":\"light\"}}}},                        {\"responsive\": true}                    ).then(function(){\n",
       "                            \n",
       "var gd = document.getElementById('e7956c5c-ab2b-4c0d-96f5-0a12c25faa64');\n",
       "var x = new MutationObserver(function (mutations, observer) {{\n",
       "        var display = window.getComputedStyle(gd).display;\n",
       "        if (!display || display === 'none') {{\n",
       "            console.log([gd, 'removed!']);\n",
       "            Plotly.purge(gd);\n",
       "            observer.disconnect();\n",
       "        }}\n",
       "}});\n",
       "\n",
       "// Listen for the removal of the full notebook cells\n",
       "var notebookContainer = gd.closest('#notebook-container');\n",
       "if (notebookContainer) {{\n",
       "    x.observe(notebookContainer, {childList: true});\n",
       "}}\n",
       "\n",
       "// Listen for the clearing of the current output cell\n",
       "var outputEl = gd.closest('.output');\n",
       "if (outputEl) {{\n",
       "    x.observe(outputEl, {childList: true});\n",
       "}}\n",
       "\n",
       "                        })                };                });            </script>        </div>"
      ]
     },
     "metadata": {},
     "output_type": "display_data"
    }
   ],
   "source": [
    "layout = go.Layout(title='Contribution Percentages of Top 5 Words in Your Resume')\n",
    "# Example data\n",
    "categories = ['A', 'B', 'C', 'D', 'E']\n",
    "values = [4, 3, 2, 5, 4]\n",
    "\n",
    "fig = go.Figure(layout=layout)\n",
    "fig.add_trace(\n",
    "    go.Scatterpolar(\n",
    "        r=df['percent'],\n",
    "        theta=df['word'],\n",
    "        fill='toself',\n",
    "        fillcolor='lightgreen',\n",
    "        name='Contribution Percentages'\n",
    "    )\n",
    ")\n",
    "\n",
    "\n",
    "fig.show()"
   ]
  },
  {
   "cell_type": "code",
   "execution_count": null,
   "id": "6e69845e",
   "metadata": {},
   "outputs": [],
   "source": []
  },
  {
   "cell_type": "code",
   "execution_count": null,
   "id": "7c91f9dc",
   "metadata": {},
   "outputs": [],
   "source": []
  }
 ],
 "metadata": {
  "kernelspec": {
   "display_name": "Python 3 (ipykernel)",
   "language": "python",
   "name": "python3"
  },
  "language_info": {
   "codemirror_mode": {
    "name": "ipython",
    "version": 3
   },
   "file_extension": ".py",
   "mimetype": "text/x-python",
   "name": "python",
   "nbconvert_exporter": "python",
   "pygments_lexer": "ipython3",
   "version": "3.9.13"
  }
 },
 "nbformat": 4,
 "nbformat_minor": 5
}
