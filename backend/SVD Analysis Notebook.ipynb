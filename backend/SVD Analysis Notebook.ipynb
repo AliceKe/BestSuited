{
 "cells": [
  {
   "cell_type": "code",
   "execution_count": 1,
   "id": "ba0a6463",
   "metadata": {},
   "outputs": [],
   "source": [
    "import numpy as np\n",
    "import json\n",
    "import re\n",
    "from settings import settings\n",
    "from collections import defaultdict, Counter\n",
    "from sklearn.feature_extraction.text import TfidfVectorizer\n",
    "import PyPDF2\n",
    "from scipy.sparse.linalg import svds\n",
    "from sklearn.preprocessing import normalize\n",
    "\n",
    "\n",
    "def remove_punctuation(text):\n",
    "    punctuation_pattern = r\"[^\\w\\s]\"\n",
    "    return re.sub(punctuation_pattern, \"\", text)\n",
    "\n",
    "\n",
    "def extract_tokens_from_regular_input(query):\n",
    "    return remove_punctuation(query.lower()).strip().split()\n",
    "\n",
    "\n",
    "def extract_tokens_from_file_input(file):\n",
    "    pdf_read = PyPDF2.PdfReader(file)\n",
    "    resume_text = \"\"\n",
    "    for page in pdf_read.pages:\n",
    "        resume_text += page.extract_text() or \"\"\n",
    "    return extract_tokens_from_regular_input(remove_punctuation(resume_text))\n",
    "\n",
    "\n",
    "def extract_tokens_from_docs(doc):\n",
    "    attrs = [doc[\"company\"], doc[\"role\"], doc[\"country\"], doc[\"city\"], doc[\"skills\"]]\n",
    "    return remove_punctuation(\" \".join(attrs).lower())\n",
    "\n",
    "\n",
    "def tokenize_docs(doc):\n",
    "    return doc.split()\n",
    "\n",
    "\n",
    "def construct_invertex_index(vectorizer, tfidf_matrix, n_components):\n",
    "    feature_names = vectorizer.get_feature_names_out()\n",
    "    print(feature_names)\n",
    "    terms_indices = {\n",
    "        term: idx for idx, term in enumerate(feature_names) if idx < n_components\n",
    "    }\n",
    "    inverted_index = defaultdict(list)\n",
    "    rows, cols = tfidf_matrix.nonzero()\n",
    "    for row, col in zip(rows, cols):\n",
    "        # if col < n_components:  # Only include columns within the reduced dimensions\n",
    "        inverted_index[feature_names[col]].append((row, tfidf_matrix[row, col]))\n",
    "    return terms_indices, inverted_index\n",
    "\n",
    "\n",
    "def construct_term_idf_map(vectorizer):\n",
    "    return dict(zip(vectorizer.get_feature_names_out(), vectorizer.idf_))\n",
    "\n",
    "\n",
    "def construct_query_tfidf(query, idf_map):\n",
    "    tokens = Counter(extract_tokens_from_regular_input(query))\n",
    "    return {\n",
    "        term: freq * idf_map.get(term, 0)\n",
    "        for term, freq in tokens.items()\n",
    "        if term in idf_map\n",
    "    }\n",
    "\n",
    "\n",
    "def compute_cosine_scores(query):\n",
    "    query_tfidf = vectorizer.transform([query]).toarray()\n",
    "    query_vec = normalize(np.dot(query_tfidf, words_compressed)).squeeze()\n",
    "    sims = docs_compressed_normed.dot(query_vec)\n",
    "    asort = np.argsort(-sims)[:200]\n",
    "    return [(i, sims[i]) for i in asort[1:]]\n",
    "\n",
    "\n",
    "\n",
    "def compute_greatest_sim(query):\n",
    "    query_tfidf = vectorizer.transform([query]).toarray()\n",
    "    query_vec = normalize(np.dot(query_tfidf, words_compressed)).squeeze()\n",
    "    sims = docs_compressed_normed.multiply(query_vec)\n",
    "\n",
    "def closest_projects_to_word(word_in, k=5):\n",
    "    if word_in not in word_to_index:\n",
    "        return []\n",
    "    sims = docs_compressed_normed.dot(\n",
    "        words_compressed_normed[word_to_index[word_in], :]\n",
    "    )\n",
    "    asort = np.argsort(-sims)[: k + 1]\n",
    "    return [(i, documents[i][0], sims[i]) for i in asort[1:]]\n",
    "\n",
    "\n",
    "# Load data and prepare TF-IDF and SVD\n",
    "with open(settings.data_file_path, \"r\") as file:\n",
    "    data = json.load(file)\n",
    "documents = data.get(\"job_postings\")\n",
    "\n",
    "vectorizer = TfidfVectorizer(tokenizer=tokenize_docs, stop_words=\"english\")\n",
    "\n",
    "td_matrix = vectorizer.fit_transform(\n",
    "    [extract_tokens_from_docs(doc) for doc in documents]\n",
    ")\n",
    "\n",
    "docs_compressed, s, words_compressed = svds(td_matrix, k=300)\n",
    "words_compressed = words_compressed.transpose()\n",
    "\n",
    "word_to_index = vectorizer.vocabulary_\n",
    "index_to_word = {i: t for t, i in word_to_index.items()}\n",
    "\n",
    "words_compressed_normed = normalize(words_compressed, axis=1)\n",
    "\n",
    "\n",
    "td_matrix_np = td_matrix.transpose().toarray()\n",
    "td_matrix_np = normalize(td_matrix_np)\n",
    "\n",
    "\n",
    "docs_compressed_normed = normalize(docs_compressed)\n"
   ]
  },
  {
   "cell_type": "code",
   "execution_count": 2,
   "id": "546a5e41",
   "metadata": {},
   "outputs": [],
   "source": [
    "from index import documents, compute_cosine_scores, extract_tokens_from_file_input\n",
    "\n",
    "\n",
    "def group_postings_by_company(postings):\n",
    "    groups = {}\n",
    "\n",
    "    for p in postings:\n",
    "        company = p[\"company\"]\n",
    "\n",
    "        if company in groups:\n",
    "            groups[company][\"postings\"].append(p)\n",
    "        else:\n",
    "            groups[company] = {\n",
    "                \"name\": company,\n",
    "                \"description\": p[\"description\"],\n",
    "                \"rating\": p[\"rating\"],\n",
    "                \"happiness\": p[\"happiness\"],\n",
    "                \"postings\": [p],\n",
    "            }\n",
    "\n",
    "    return groups\n",
    "\n",
    "\n",
    "def select_similar_k_docs(doc_scores_map, k=25):\n",
    "    res = []\n",
    "\n",
    "    for doc, score in doc_scores_map:\n",
    "        document = documents[doc]\n",
    "        document[\"score\"] = score\n",
    "        res.append(document)\n",
    "\n",
    "        if k == 0:\n",
    "            break\n",
    "\n",
    "    return res\n",
    "\n",
    "\n",
    "def get_postings_regular_input(text, k=25):\n",
    "    cosine_scores = compute_cosine_scores(text)\n",
    "    return select_similar_k_docs(cosine_scores, k)\n",
    "\n",
    "\n",
    "def get_postings_file_input(file, k=25):\n",
    "    file_tokens = extract_tokens_from_file_input(file)\n",
    "    cosine_scores = compute_cosine_scores(\" \".join(file_tokens))\n",
    "    return select_similar_k_docs(cosine_scores, k)\n"
   ]
  },
  {
   "cell_type": "code",
   "execution_count": 247,
   "id": "10e920a6",
   "metadata": {},
   "outputs": [],
   "source": [
    "query = \"Proficiency in one or more backend programming languages (e.g., Java, Python, Node.js, Ruby) API development Database management (SQL or NoSQL) Server management and deployment Security best practices Knowledge of web frameworks (e.g., Express, Django)\""
   ]
  },
  {
   "cell_type": "code",
   "execution_count": 248,
   "id": "50dc2051",
   "metadata": {},
   "outputs": [],
   "source": [
    "# query = \"Highly skilled and compassionate Registered Nurse with over 7 years of experience in various healthcare settings. Proficient in providing comprehensive patient care, including assessment, planning, and implementation of nursing interventions. Strong ability to communicate effectively with patients, families, and interdisciplinary teams to ensure optimal patient outcomes. Experienced in managing diverse patient populations, ranging from pediatrics to geriatrics, with a focus on delivering evidence-based care. Proven track record of excellence in clinical skills, including medication administration, wound care, and patient education. Dedicated to continuous professional development and staying abreast of the latest advancements in nursing practice. Seeking to leverage my expertise and passion for patient care in a dynamic healthcare environment.\""
   ]
  },
  {
   "cell_type": "code",
   "execution_count": 249,
   "id": "f0862f84",
   "metadata": {},
   "outputs": [
    {
     "data": {
      "text/plain": [
       "'Proficiency in one or more backend programming languages (e.g., Java, Python, Node.js, Ruby) API development Database management (SQL or NoSQL) Server management and deployment Security best practices Knowledge of web frameworks (e.g., Express, Django)'"
      ]
     },
     "execution_count": 249,
     "metadata": {},
     "output_type": "execute_result"
    }
   ],
   "source": [
    "#Start with a query\n",
    "query"
   ]
  },
  {
   "cell_type": "code",
   "execution_count": 250,
   "id": "2d3aab42",
   "metadata": {},
   "outputs": [],
   "source": [
    "#Function to allow us to compare each individual job with the query by creating large array of repeat queries\n",
    "def repeat_vector(vector, length):\n",
    "    # Reshape the vector to be a row vector\n",
    "    vector = np.array(vector).reshape(1, -1)\n",
    "    \n",
    "    # Use broadcasting to repeat the vector\n",
    "    repeated_array = np.tile(vector, (length, 1))\n",
    "    \n",
    "    return repeated_array"
   ]
  },
  {
   "cell_type": "code",
   "execution_count": 263,
   "id": "0ff04ed9",
   "metadata": {},
   "outputs": [],
   "source": [
    "#Create TFidf\n",
    "query_tfidf = vectorizer.transform([query]).toarray()\n",
    "query_vec = normalize(np.dot(query_tfidf, words_compressed)).squeeze()\n",
    "\n",
    "#Create repeated query vector to analyze how much each index contributes in the dot product (cosine score)\n",
    "length = len(docs_compressed_normed)\n",
    "repeated_query_vec = repeat_vector(query_vec, length)\n",
    "\n",
    "#Multiply by each document\n",
    "sims = docs_compressed_normed *repeated_query_vec\n",
    "\n",
    "#Extract out the indices that contribute the most to the cosine score and their values\n",
    "largest_indices = np.argsort(-sims, axis=1)\n",
    "largest_values = np.sort(-sims, axis=1)\n"
   ]
  },
  {
   "cell_type": "code",
   "execution_count": 264,
   "id": "c5b6f2f5",
   "metadata": {},
   "outputs": [],
   "source": [
    "#Now, extract the relation between the SVD terms and our query\n",
    "#Extract all the words in the tokenizer\n",
    "words = vectorizer.get_feature_names_out()\n",
    "#Find out which value in our query is most related to each SVD index\n",
    "max_indices = np.argmax(np.expand_dims(query_tfidf.squeeze(), axis=-1) * words_compressed_normed, axis=0)\n",
    "#This creates our dictionary to display our statistics\n",
    "word_representations = []\n",
    "for i in max_indices:\n",
    "    word_representations.append(words[i])"
   ]
  },
  {
   "cell_type": "code",
   "execution_count": 265,
   "id": "0e1ca322",
   "metadata": {},
   "outputs": [],
   "source": [
    "#Now calculuate the words that link the query to each job posting, the most similar words between them\n",
    "most_sim_words = []\n",
    "sim_scores = []\n",
    "k = 5 #top k keys\n",
    "\n",
    "n,m = largest_indices.shape\n",
    "for i in range(n):\n",
    "    #Track contribution of each word in their similarity score\n",
    "    contribution_per_index = {word: 0 for word in word_representations}\n",
    "    for j in range(m):\n",
    "         contribution_per_index[word_representations[largest_indices[i,j]]] -= largest_values[i,j]   \n",
    "    \n",
    "    #Find top k related words\n",
    "    top_k_words = sorted(contribution_per_index, key=contribution_per_index.get, reverse=True)[:k]\n",
    "    \n",
    "    #Track all the scores, this will show the percentage the top k related words contribute to the cosine score\n",
    "    sorted_values = sorted(contribution_per_index.values(), reverse=True)\n",
    "    \n",
    "    #Track\n",
    "    most_sim_words.append(top_k_words)\n",
    "    sim_scores.append(sorted_values)"
   ]
  },
  {
   "cell_type": "code",
   "execution_count": 266,
   "id": "cfbbd063",
   "metadata": {},
   "outputs": [],
   "source": [
    "#Calculuate similarity scores\n",
    "sims = docs_compressed_normed.dot(query_vec)\n",
    "p = 10\n",
    "#Find the top p postings\n",
    "asort = np.argsort(-sims)[:p]\n",
    "#Get their most similar words\n",
    "result = [most_sim_words[i] for i in asort]\n",
    "#Get the contribution of each word\n",
    "result_scores = [sim_scores[i] for i in asort]"
   ]
  },
  {
   "cell_type": "code",
   "execution_count": 267,
   "id": "58409fb8",
   "metadata": {},
   "outputs": [
    {
     "data": {
      "text/plain": [
       "[['backend', 'server', 'database', 'deployment', 'security'],\n",
       " ['backend', 'server', 'database', 'deployment', 'security'],\n",
       " ['backend', 'server', 'database', 'security', 'deployment'],\n",
       " ['backend', 'server', 'database', 'security', 'deployment'],\n",
       " ['backend', 'server', 'database', 'deployment', 'security'],\n",
       " ['backend', 'server', 'database', 'deployment', 'security'],\n",
       " ['backend', 'server', 'database', 'security', 'deployment'],\n",
       " ['backend', 'server', 'database', 'security', 'deployment'],\n",
       " ['backend', 'server', 'database', 'deployment', 'security'],\n",
       " ['backend', 'server', 'database', 'security', 'deployment']]"
      ]
     },
     "execution_count": 267,
     "metadata": {},
     "output_type": "execute_result"
    }
   ],
   "source": [
    "result"
   ]
  },
  {
   "cell_type": "code",
   "execution_count": 268,
   "id": "f70a83c4",
   "metadata": {},
   "outputs": [
    {
     "data": {
      "text/plain": [
       "[[0.1605850955224374,\n",
       "  0.11954389323647326,\n",
       "  0.10192842753713593,\n",
       "  0.07137560046262677,\n",
       "  0.07110194204759285,\n",
       "  0.06013507384752758,\n",
       "  0.04759127105422896,\n",
       "  0.032375995633727096,\n",
       "  0.027065218529239366,\n",
       "  0.020538341848338477,\n",
       "  0.019913855902829732,\n",
       "  0.0194931158610988,\n",
       "  0.019341526841560486,\n",
       "  0.013199478364588403,\n",
       "  0.01169251825094491,\n",
       "  0.008753881015702044,\n",
       "  0.006643672943305448],\n",
       " [0.1550773402847185,\n",
       "  0.11611565935015258,\n",
       "  0.09824833683573762,\n",
       "  0.07029061521806557,\n",
       "  0.06960791296102585,\n",
       "  0.05941875012460573,\n",
       "  0.04573359802746103,\n",
       "  0.03225438791353622,\n",
       "  0.027210103964448337,\n",
       "  0.020726111409190534,\n",
       "  0.02056799688652496,\n",
       "  0.018881900080560406,\n",
       "  0.018251402629760185,\n",
       "  0.013729011713760219,\n",
       "  0.012593978506605945,\n",
       "  0.009639245081933066,\n",
       "  0.006336817050718124],\n",
       " [0.15805159123216317,\n",
       "  0.1205486188960036,\n",
       "  0.09841297041159162,\n",
       "  0.06470091913947988,\n",
       "  0.06408199836115279,\n",
       "  0.0557894552574084,\n",
       "  0.04204533628898515,\n",
       "  0.028598285554890038,\n",
       "  0.02457096299253956,\n",
       "  0.020287657770917688,\n",
       "  0.020118466813423306,\n",
       "  0.017112439646900665,\n",
       "  0.016027926817396548,\n",
       "  0.012324344674090895,\n",
       "  0.011904318791217195,\n",
       "  0.011758116297209588,\n",
       "  0.006880580050344859],\n",
       " [0.15110943760627868,\n",
       "  0.11106146722750952,\n",
       "  0.09512550959383202,\n",
       "  0.06781370065397836,\n",
       "  0.06299884475939878,\n",
       "  0.05499117529947362,\n",
       "  0.04119450577969975,\n",
       "  0.02514739659346404,\n",
       "  0.021452256067676992,\n",
       "  0.019773239776969525,\n",
       "  0.019043476008569003,\n",
       "  0.01871950479034324,\n",
       "  0.017949898083046496,\n",
       "  0.011120175160751046,\n",
       "  0.01081735757202837,\n",
       "  0.00855026599556528,\n",
       "  0.005823434059864962],\n",
       " [0.1457343728499701,\n",
       "  0.10951355593713398,\n",
       "  0.0913724846932354,\n",
       "  0.06551611160582516,\n",
       "  0.06472396928444192,\n",
       "  0.04956247912293299,\n",
       "  0.042058533043524624,\n",
       "  0.02401835857739516,\n",
       "  0.02344244244043847,\n",
       "  0.020201118109619838,\n",
       "  0.01877118221616097,\n",
       "  0.017963860496547367,\n",
       "  0.01631798901484166,\n",
       "  0.014486331315885791,\n",
       "  0.010451778646371824,\n",
       "  0.00992102854447016,\n",
       "  0.006256525328673421],\n",
       " [0.14682361281621956,\n",
       "  0.10811777054178406,\n",
       "  0.09295020367096232,\n",
       "  0.0673803044793971,\n",
       "  0.06341845718320262,\n",
       "  0.05571069165645518,\n",
       "  0.041319280886652515,\n",
       "  0.026345475928073875,\n",
       "  0.025317278094971158,\n",
       "  0.01765788355132113,\n",
       "  0.01764964228151088,\n",
       "  0.01297023173802577,\n",
       "  0.012044703201423635,\n",
       "  0.011803450915335202,\n",
       "  0.010229585813798998,\n",
       "  0.009087645453773814,\n",
       "  0.006823396375517798],\n",
       " [0.14916590289621315,\n",
       "  0.10900796695278313,\n",
       "  0.0956403521492772,\n",
       "  0.0661472462196956,\n",
       "  0.06450210399810902,\n",
       "  0.05039124824110723,\n",
       "  0.042256380570901336,\n",
       "  0.02510536253420553,\n",
       "  0.021843517246583437,\n",
       "  0.018321637833124217,\n",
       "  0.01564730895797502,\n",
       "  0.015555560979363071,\n",
       "  0.013797954434470586,\n",
       "  0.01158857314972011,\n",
       "  0.01147240116793686,\n",
       "  0.008067745016902736,\n",
       "  0.0060386221674273485],\n",
       " [0.14680540024249347,\n",
       "  0.1089325520569045,\n",
       "  0.09642196037380316,\n",
       "  0.06652410339576775,\n",
       "  0.06441385527736729,\n",
       "  0.04823656034559571,\n",
       "  0.042519700028147,\n",
       "  0.025682138548654428,\n",
       "  0.02024427431515922,\n",
       "  0.018249434820080398,\n",
       "  0.015395853284795388,\n",
       "  0.014835006233139353,\n",
       "  0.012495613874885325,\n",
       "  0.011240258325674981,\n",
       "  0.010598682854157965,\n",
       "  0.007250368430325532,\n",
       "  0.005667832896047981],\n",
       " [0.12951981052080258,\n",
       "  0.0938444644335011,\n",
       "  0.07610068936212758,\n",
       "  0.06153443879098667,\n",
       "  0.05428159462773642,\n",
       "  0.05055206177512363,\n",
       "  0.038117111552358744,\n",
       "  0.022784788457367616,\n",
       "  0.017874732668700974,\n",
       "  0.01763603467800149,\n",
       "  0.01577114019494585,\n",
       "  0.014478576073779892,\n",
       "  0.010045993350436067,\n",
       "  0.008216979904730378,\n",
       "  0.007447794930564685,\n",
       "  0.00603306494064043,\n",
       "  0.005368521682776119],\n",
       " [0.11243729375481236,\n",
       "  0.09546474803703552,\n",
       "  0.08634283777040362,\n",
       "  0.05419385900919676,\n",
       "  0.05182781125494558,\n",
       "  0.04469589090931634,\n",
       "  0.038519950763783554,\n",
       "  0.022969459498514932,\n",
       "  0.01918369841581253,\n",
       "  0.017653149496131913,\n",
       "  0.01624263533029678,\n",
       "  0.01601546441811168,\n",
       "  0.013984853009877438,\n",
       "  0.013705276867210726,\n",
       "  0.010528362558643499,\n",
       "  0.0097328026475327,\n",
       "  0.004541697004072737]]"
      ]
     },
     "execution_count": 268,
     "metadata": {},
     "output_type": "execute_result"
    }
   ],
   "source": [
    "result_scores"
   ]
  },
  {
   "cell_type": "code",
   "execution_count": 269,
   "id": "4d083967",
   "metadata": {},
   "outputs": [],
   "source": [
    "# Find the sum of total contributions for each word\n",
    "sums = np.sum(np.abs(result_scores), axis=1)\n",
    "\n",
    "# Calculate the percentage contribution of each word\n",
    "percentages = (result_scores / sums[:, np.newaxis]) * 100\n"
   ]
  },
  {
   "cell_type": "code",
   "execution_count": 270,
   "id": "8b6e657a",
   "metadata": {},
   "outputs": [
    {
     "data": {
      "text/plain": [
       "array([[19.79406758, 14.73523987, 12.56391932,  8.7979115 ,  8.76417977],\n",
       "       [19.51436076, 14.61156647, 12.36320848,  8.84511187,  8.75920313],\n",
       "       [20.44086029, 15.59058949, 12.72777935,  8.36778952,  8.28774431],\n",
       "       [20.3461879 , 14.95391364, 12.80821054,  9.13080161,  8.4825035 ],\n",
       "       [19.95508066, 14.99544548, 12.5114293 ,  8.97097415,  8.86250788],\n",
       "       [20.23340327, 14.89944573, 12.80924041,  9.28551509,  8.7395426 ],\n",
       "       [20.58738895, 15.04492227, 13.1999679 ,  9.12942609,  8.90236896],\n",
       "       [20.51748579, 15.22438606, 13.47590891,  9.29739195,  9.0024642 ],\n",
       "       [20.57150673, 14.90522588, 12.08699918,  9.77345563,  8.62149338],\n",
       "       [17.90289332, 15.20042988, 13.74798843,  8.62904864,  8.25231331]])"
      ]
     },
     "execution_count": 270,
     "metadata": {},
     "output_type": "execute_result"
    }
   ],
   "source": [
    "#Display top k\n",
    "percentages = percentages[:,:k]\n",
    "percentages"
   ]
  },
  {
   "cell_type": "code",
   "execution_count": 271,
   "id": "793ec1ac",
   "metadata": {},
   "outputs": [
    {
     "data": {
      "text/plain": [
       "[['backend', 'server', 'database', 'deployment', 'security'],\n",
       " ['backend', 'server', 'database', 'deployment', 'security'],\n",
       " ['backend', 'server', 'database', 'security', 'deployment'],\n",
       " ['backend', 'server', 'database', 'security', 'deployment'],\n",
       " ['backend', 'server', 'database', 'deployment', 'security'],\n",
       " ['backend', 'server', 'database', 'deployment', 'security'],\n",
       " ['backend', 'server', 'database', 'security', 'deployment'],\n",
       " ['backend', 'server', 'database', 'security', 'deployment'],\n",
       " ['backend', 'server', 'database', 'deployment', 'security'],\n",
       " ['backend', 'server', 'database', 'security', 'deployment']]"
      ]
     },
     "execution_count": 271,
     "metadata": {},
     "output_type": "execute_result"
    }
   ],
   "source": [
    "result"
   ]
  },
  {
   "cell_type": "code",
   "execution_count": 272,
   "id": "0e620254",
   "metadata": {},
   "outputs": [],
   "source": [
    "#Now graph using a spider plot\n",
    "import pandas as pd\n",
    "import plotly.graph_objects as go\n",
    "import plotly.express as px"
   ]
  },
  {
   "cell_type": "code",
   "execution_count": 273,
   "id": "e80b0769",
   "metadata": {},
   "outputs": [],
   "source": [
    "data = {\n",
    "    'word': result[0],\n",
    "    'percent': percentages[0,0:5]\n",
    "}\n",
    "df = pd.DataFrame(data)"
   ]
  },
  {
   "cell_type": "code",
   "execution_count": 274,
   "id": "fca12766",
   "metadata": {},
   "outputs": [
    {
     "data": {
      "application/vnd.plotly.v1+json": {
       "config": {
        "plotlyServerURL": "https://plot.ly"
       },
       "data": [
        {
         "fill": "toself",
         "fillcolor": "lightgreen",
         "name": "Contribution Percentages",
         "r": [
          19.79406758401982,
          14.735239869437203,
          12.563919315420117,
          8.797911504868322,
          8.764179774383035
         ],
         "theta": [
          "backend",
          "server",
          "database",
          "deployment",
          "security"
         ],
         "type": "scatterpolar"
        }
       ],
       "layout": {
        "template": {
         "data": {
          "bar": [
           {
            "error_x": {
             "color": "#2a3f5f"
            },
            "error_y": {
             "color": "#2a3f5f"
            },
            "marker": {
             "line": {
              "color": "#E5ECF6",
              "width": 0.5
             },
             "pattern": {
              "fillmode": "overlay",
              "size": 10,
              "solidity": 0.2
             }
            },
            "type": "bar"
           }
          ],
          "barpolar": [
           {
            "marker": {
             "line": {
              "color": "#E5ECF6",
              "width": 0.5
             },
             "pattern": {
              "fillmode": "overlay",
              "size": 10,
              "solidity": 0.2
             }
            },
            "type": "barpolar"
           }
          ],
          "carpet": [
           {
            "aaxis": {
             "endlinecolor": "#2a3f5f",
             "gridcolor": "white",
             "linecolor": "white",
             "minorgridcolor": "white",
             "startlinecolor": "#2a3f5f"
            },
            "baxis": {
             "endlinecolor": "#2a3f5f",
             "gridcolor": "white",
             "linecolor": "white",
             "minorgridcolor": "white",
             "startlinecolor": "#2a3f5f"
            },
            "type": "carpet"
           }
          ],
          "choropleth": [
           {
            "colorbar": {
             "outlinewidth": 0,
             "ticks": ""
            },
            "type": "choropleth"
           }
          ],
          "contour": [
           {
            "colorbar": {
             "outlinewidth": 0,
             "ticks": ""
            },
            "colorscale": [
             [
              0,
              "#0d0887"
             ],
             [
              0.1111111111111111,
              "#46039f"
             ],
             [
              0.2222222222222222,
              "#7201a8"
             ],
             [
              0.3333333333333333,
              "#9c179e"
             ],
             [
              0.4444444444444444,
              "#bd3786"
             ],
             [
              0.5555555555555556,
              "#d8576b"
             ],
             [
              0.6666666666666666,
              "#ed7953"
             ],
             [
              0.7777777777777778,
              "#fb9f3a"
             ],
             [
              0.8888888888888888,
              "#fdca26"
             ],
             [
              1,
              "#f0f921"
             ]
            ],
            "type": "contour"
           }
          ],
          "contourcarpet": [
           {
            "colorbar": {
             "outlinewidth": 0,
             "ticks": ""
            },
            "type": "contourcarpet"
           }
          ],
          "heatmap": [
           {
            "colorbar": {
             "outlinewidth": 0,
             "ticks": ""
            },
            "colorscale": [
             [
              0,
              "#0d0887"
             ],
             [
              0.1111111111111111,
              "#46039f"
             ],
             [
              0.2222222222222222,
              "#7201a8"
             ],
             [
              0.3333333333333333,
              "#9c179e"
             ],
             [
              0.4444444444444444,
              "#bd3786"
             ],
             [
              0.5555555555555556,
              "#d8576b"
             ],
             [
              0.6666666666666666,
              "#ed7953"
             ],
             [
              0.7777777777777778,
              "#fb9f3a"
             ],
             [
              0.8888888888888888,
              "#fdca26"
             ],
             [
              1,
              "#f0f921"
             ]
            ],
            "type": "heatmap"
           }
          ],
          "heatmapgl": [
           {
            "colorbar": {
             "outlinewidth": 0,
             "ticks": ""
            },
            "colorscale": [
             [
              0,
              "#0d0887"
             ],
             [
              0.1111111111111111,
              "#46039f"
             ],
             [
              0.2222222222222222,
              "#7201a8"
             ],
             [
              0.3333333333333333,
              "#9c179e"
             ],
             [
              0.4444444444444444,
              "#bd3786"
             ],
             [
              0.5555555555555556,
              "#d8576b"
             ],
             [
              0.6666666666666666,
              "#ed7953"
             ],
             [
              0.7777777777777778,
              "#fb9f3a"
             ],
             [
              0.8888888888888888,
              "#fdca26"
             ],
             [
              1,
              "#f0f921"
             ]
            ],
            "type": "heatmapgl"
           }
          ],
          "histogram": [
           {
            "marker": {
             "pattern": {
              "fillmode": "overlay",
              "size": 10,
              "solidity": 0.2
             }
            },
            "type": "histogram"
           }
          ],
          "histogram2d": [
           {
            "colorbar": {
             "outlinewidth": 0,
             "ticks": ""
            },
            "colorscale": [
             [
              0,
              "#0d0887"
             ],
             [
              0.1111111111111111,
              "#46039f"
             ],
             [
              0.2222222222222222,
              "#7201a8"
             ],
             [
              0.3333333333333333,
              "#9c179e"
             ],
             [
              0.4444444444444444,
              "#bd3786"
             ],
             [
              0.5555555555555556,
              "#d8576b"
             ],
             [
              0.6666666666666666,
              "#ed7953"
             ],
             [
              0.7777777777777778,
              "#fb9f3a"
             ],
             [
              0.8888888888888888,
              "#fdca26"
             ],
             [
              1,
              "#f0f921"
             ]
            ],
            "type": "histogram2d"
           }
          ],
          "histogram2dcontour": [
           {
            "colorbar": {
             "outlinewidth": 0,
             "ticks": ""
            },
            "colorscale": [
             [
              0,
              "#0d0887"
             ],
             [
              0.1111111111111111,
              "#46039f"
             ],
             [
              0.2222222222222222,
              "#7201a8"
             ],
             [
              0.3333333333333333,
              "#9c179e"
             ],
             [
              0.4444444444444444,
              "#bd3786"
             ],
             [
              0.5555555555555556,
              "#d8576b"
             ],
             [
              0.6666666666666666,
              "#ed7953"
             ],
             [
              0.7777777777777778,
              "#fb9f3a"
             ],
             [
              0.8888888888888888,
              "#fdca26"
             ],
             [
              1,
              "#f0f921"
             ]
            ],
            "type": "histogram2dcontour"
           }
          ],
          "mesh3d": [
           {
            "colorbar": {
             "outlinewidth": 0,
             "ticks": ""
            },
            "type": "mesh3d"
           }
          ],
          "parcoords": [
           {
            "line": {
             "colorbar": {
              "outlinewidth": 0,
              "ticks": ""
             }
            },
            "type": "parcoords"
           }
          ],
          "pie": [
           {
            "automargin": true,
            "type": "pie"
           }
          ],
          "scatter": [
           {
            "fillpattern": {
             "fillmode": "overlay",
             "size": 10,
             "solidity": 0.2
            },
            "type": "scatter"
           }
          ],
          "scatter3d": [
           {
            "line": {
             "colorbar": {
              "outlinewidth": 0,
              "ticks": ""
             }
            },
            "marker": {
             "colorbar": {
              "outlinewidth": 0,
              "ticks": ""
             }
            },
            "type": "scatter3d"
           }
          ],
          "scattercarpet": [
           {
            "marker": {
             "colorbar": {
              "outlinewidth": 0,
              "ticks": ""
             }
            },
            "type": "scattercarpet"
           }
          ],
          "scattergeo": [
           {
            "marker": {
             "colorbar": {
              "outlinewidth": 0,
              "ticks": ""
             }
            },
            "type": "scattergeo"
           }
          ],
          "scattergl": [
           {
            "marker": {
             "colorbar": {
              "outlinewidth": 0,
              "ticks": ""
             }
            },
            "type": "scattergl"
           }
          ],
          "scattermapbox": [
           {
            "marker": {
             "colorbar": {
              "outlinewidth": 0,
              "ticks": ""
             }
            },
            "type": "scattermapbox"
           }
          ],
          "scatterpolar": [
           {
            "marker": {
             "colorbar": {
              "outlinewidth": 0,
              "ticks": ""
             }
            },
            "type": "scatterpolar"
           }
          ],
          "scatterpolargl": [
           {
            "marker": {
             "colorbar": {
              "outlinewidth": 0,
              "ticks": ""
             }
            },
            "type": "scatterpolargl"
           }
          ],
          "scatterternary": [
           {
            "marker": {
             "colorbar": {
              "outlinewidth": 0,
              "ticks": ""
             }
            },
            "type": "scatterternary"
           }
          ],
          "surface": [
           {
            "colorbar": {
             "outlinewidth": 0,
             "ticks": ""
            },
            "colorscale": [
             [
              0,
              "#0d0887"
             ],
             [
              0.1111111111111111,
              "#46039f"
             ],
             [
              0.2222222222222222,
              "#7201a8"
             ],
             [
              0.3333333333333333,
              "#9c179e"
             ],
             [
              0.4444444444444444,
              "#bd3786"
             ],
             [
              0.5555555555555556,
              "#d8576b"
             ],
             [
              0.6666666666666666,
              "#ed7953"
             ],
             [
              0.7777777777777778,
              "#fb9f3a"
             ],
             [
              0.8888888888888888,
              "#fdca26"
             ],
             [
              1,
              "#f0f921"
             ]
            ],
            "type": "surface"
           }
          ],
          "table": [
           {
            "cells": {
             "fill": {
              "color": "#EBF0F8"
             },
             "line": {
              "color": "white"
             }
            },
            "header": {
             "fill": {
              "color": "#C8D4E3"
             },
             "line": {
              "color": "white"
             }
            },
            "type": "table"
           }
          ]
         },
         "layout": {
          "annotationdefaults": {
           "arrowcolor": "#2a3f5f",
           "arrowhead": 0,
           "arrowwidth": 1
          },
          "autotypenumbers": "strict",
          "coloraxis": {
           "colorbar": {
            "outlinewidth": 0,
            "ticks": ""
           }
          },
          "colorscale": {
           "diverging": [
            [
             0,
             "#8e0152"
            ],
            [
             0.1,
             "#c51b7d"
            ],
            [
             0.2,
             "#de77ae"
            ],
            [
             0.3,
             "#f1b6da"
            ],
            [
             0.4,
             "#fde0ef"
            ],
            [
             0.5,
             "#f7f7f7"
            ],
            [
             0.6,
             "#e6f5d0"
            ],
            [
             0.7,
             "#b8e186"
            ],
            [
             0.8,
             "#7fbc41"
            ],
            [
             0.9,
             "#4d9221"
            ],
            [
             1,
             "#276419"
            ]
           ],
           "sequential": [
            [
             0,
             "#0d0887"
            ],
            [
             0.1111111111111111,
             "#46039f"
            ],
            [
             0.2222222222222222,
             "#7201a8"
            ],
            [
             0.3333333333333333,
             "#9c179e"
            ],
            [
             0.4444444444444444,
             "#bd3786"
            ],
            [
             0.5555555555555556,
             "#d8576b"
            ],
            [
             0.6666666666666666,
             "#ed7953"
            ],
            [
             0.7777777777777778,
             "#fb9f3a"
            ],
            [
             0.8888888888888888,
             "#fdca26"
            ],
            [
             1,
             "#f0f921"
            ]
           ],
           "sequentialminus": [
            [
             0,
             "#0d0887"
            ],
            [
             0.1111111111111111,
             "#46039f"
            ],
            [
             0.2222222222222222,
             "#7201a8"
            ],
            [
             0.3333333333333333,
             "#9c179e"
            ],
            [
             0.4444444444444444,
             "#bd3786"
            ],
            [
             0.5555555555555556,
             "#d8576b"
            ],
            [
             0.6666666666666666,
             "#ed7953"
            ],
            [
             0.7777777777777778,
             "#fb9f3a"
            ],
            [
             0.8888888888888888,
             "#fdca26"
            ],
            [
             1,
             "#f0f921"
            ]
           ]
          },
          "colorway": [
           "#636efa",
           "#EF553B",
           "#00cc96",
           "#ab63fa",
           "#FFA15A",
           "#19d3f3",
           "#FF6692",
           "#B6E880",
           "#FF97FF",
           "#FECB52"
          ],
          "font": {
           "color": "#2a3f5f"
          },
          "geo": {
           "bgcolor": "white",
           "lakecolor": "white",
           "landcolor": "#E5ECF6",
           "showlakes": true,
           "showland": true,
           "subunitcolor": "white"
          },
          "hoverlabel": {
           "align": "left"
          },
          "hovermode": "closest",
          "mapbox": {
           "style": "light"
          },
          "paper_bgcolor": "white",
          "plot_bgcolor": "#E5ECF6",
          "polar": {
           "angularaxis": {
            "gridcolor": "white",
            "linecolor": "white",
            "ticks": ""
           },
           "bgcolor": "#E5ECF6",
           "radialaxis": {
            "gridcolor": "white",
            "linecolor": "white",
            "ticks": ""
           }
          },
          "scene": {
           "xaxis": {
            "backgroundcolor": "#E5ECF6",
            "gridcolor": "white",
            "gridwidth": 2,
            "linecolor": "white",
            "showbackground": true,
            "ticks": "",
            "zerolinecolor": "white"
           },
           "yaxis": {
            "backgroundcolor": "#E5ECF6",
            "gridcolor": "white",
            "gridwidth": 2,
            "linecolor": "white",
            "showbackground": true,
            "ticks": "",
            "zerolinecolor": "white"
           },
           "zaxis": {
            "backgroundcolor": "#E5ECF6",
            "gridcolor": "white",
            "gridwidth": 2,
            "linecolor": "white",
            "showbackground": true,
            "ticks": "",
            "zerolinecolor": "white"
           }
          },
          "shapedefaults": {
           "line": {
            "color": "#2a3f5f"
           }
          },
          "ternary": {
           "aaxis": {
            "gridcolor": "white",
            "linecolor": "white",
            "ticks": ""
           },
           "baxis": {
            "gridcolor": "white",
            "linecolor": "white",
            "ticks": ""
           },
           "bgcolor": "#E5ECF6",
           "caxis": {
            "gridcolor": "white",
            "linecolor": "white",
            "ticks": ""
           }
          },
          "title": {
           "x": 0.05
          },
          "xaxis": {
           "automargin": true,
           "gridcolor": "white",
           "linecolor": "white",
           "ticks": "",
           "title": {
            "standoff": 15
           },
           "zerolinecolor": "white",
           "zerolinewidth": 2
          },
          "yaxis": {
           "automargin": true,
           "gridcolor": "white",
           "linecolor": "white",
           "ticks": "",
           "title": {
            "standoff": 15
           },
           "zerolinecolor": "white",
           "zerolinewidth": 2
          }
         }
        },
        "title": {
         "text": "Contribution Percentages of Top 5 Words in Your Resume"
        }
       }
      },
      "text/html": [
       "<div>                            <div id=\"a83743d4-bd05-4800-b544-d2e50400c967\" class=\"plotly-graph-div\" style=\"height:525px; width:100%;\"></div>            <script type=\"text/javascript\">                require([\"plotly\"], function(Plotly) {                    window.PLOTLYENV=window.PLOTLYENV || {};                                    if (document.getElementById(\"a83743d4-bd05-4800-b544-d2e50400c967\")) {                    Plotly.newPlot(                        \"a83743d4-bd05-4800-b544-d2e50400c967\",                        [{\"fill\":\"toself\",\"fillcolor\":\"lightgreen\",\"name\":\"Contribution Percentages\",\"r\":[19.79406758401982,14.735239869437203,12.563919315420117,8.797911504868322,8.764179774383035],\"theta\":[\"backend\",\"server\",\"database\",\"deployment\",\"security\"],\"type\":\"scatterpolar\"}],                        {\"title\":{\"text\":\"Contribution Percentages of Top 5 Words in Your Resume\"},\"template\":{\"data\":{\"histogram2dcontour\":[{\"type\":\"histogram2dcontour\",\"colorbar\":{\"outlinewidth\":0,\"ticks\":\"\"},\"colorscale\":[[0.0,\"#0d0887\"],[0.1111111111111111,\"#46039f\"],[0.2222222222222222,\"#7201a8\"],[0.3333333333333333,\"#9c179e\"],[0.4444444444444444,\"#bd3786\"],[0.5555555555555556,\"#d8576b\"],[0.6666666666666666,\"#ed7953\"],[0.7777777777777778,\"#fb9f3a\"],[0.8888888888888888,\"#fdca26\"],[1.0,\"#f0f921\"]]}],\"choropleth\":[{\"type\":\"choropleth\",\"colorbar\":{\"outlinewidth\":0,\"ticks\":\"\"}}],\"histogram2d\":[{\"type\":\"histogram2d\",\"colorbar\":{\"outlinewidth\":0,\"ticks\":\"\"},\"colorscale\":[[0.0,\"#0d0887\"],[0.1111111111111111,\"#46039f\"],[0.2222222222222222,\"#7201a8\"],[0.3333333333333333,\"#9c179e\"],[0.4444444444444444,\"#bd3786\"],[0.5555555555555556,\"#d8576b\"],[0.6666666666666666,\"#ed7953\"],[0.7777777777777778,\"#fb9f3a\"],[0.8888888888888888,\"#fdca26\"],[1.0,\"#f0f921\"]]}],\"heatmap\":[{\"type\":\"heatmap\",\"colorbar\":{\"outlinewidth\":0,\"ticks\":\"\"},\"colorscale\":[[0.0,\"#0d0887\"],[0.1111111111111111,\"#46039f\"],[0.2222222222222222,\"#7201a8\"],[0.3333333333333333,\"#9c179e\"],[0.4444444444444444,\"#bd3786\"],[0.5555555555555556,\"#d8576b\"],[0.6666666666666666,\"#ed7953\"],[0.7777777777777778,\"#fb9f3a\"],[0.8888888888888888,\"#fdca26\"],[1.0,\"#f0f921\"]]}],\"heatmapgl\":[{\"type\":\"heatmapgl\",\"colorbar\":{\"outlinewidth\":0,\"ticks\":\"\"},\"colorscale\":[[0.0,\"#0d0887\"],[0.1111111111111111,\"#46039f\"],[0.2222222222222222,\"#7201a8\"],[0.3333333333333333,\"#9c179e\"],[0.4444444444444444,\"#bd3786\"],[0.5555555555555556,\"#d8576b\"],[0.6666666666666666,\"#ed7953\"],[0.7777777777777778,\"#fb9f3a\"],[0.8888888888888888,\"#fdca26\"],[1.0,\"#f0f921\"]]}],\"contourcarpet\":[{\"type\":\"contourcarpet\",\"colorbar\":{\"outlinewidth\":0,\"ticks\":\"\"}}],\"contour\":[{\"type\":\"contour\",\"colorbar\":{\"outlinewidth\":0,\"ticks\":\"\"},\"colorscale\":[[0.0,\"#0d0887\"],[0.1111111111111111,\"#46039f\"],[0.2222222222222222,\"#7201a8\"],[0.3333333333333333,\"#9c179e\"],[0.4444444444444444,\"#bd3786\"],[0.5555555555555556,\"#d8576b\"],[0.6666666666666666,\"#ed7953\"],[0.7777777777777778,\"#fb9f3a\"],[0.8888888888888888,\"#fdca26\"],[1.0,\"#f0f921\"]]}],\"surface\":[{\"type\":\"surface\",\"colorbar\":{\"outlinewidth\":0,\"ticks\":\"\"},\"colorscale\":[[0.0,\"#0d0887\"],[0.1111111111111111,\"#46039f\"],[0.2222222222222222,\"#7201a8\"],[0.3333333333333333,\"#9c179e\"],[0.4444444444444444,\"#bd3786\"],[0.5555555555555556,\"#d8576b\"],[0.6666666666666666,\"#ed7953\"],[0.7777777777777778,\"#fb9f3a\"],[0.8888888888888888,\"#fdca26\"],[1.0,\"#f0f921\"]]}],\"mesh3d\":[{\"type\":\"mesh3d\",\"colorbar\":{\"outlinewidth\":0,\"ticks\":\"\"}}],\"scatter\":[{\"fillpattern\":{\"fillmode\":\"overlay\",\"size\":10,\"solidity\":0.2},\"type\":\"scatter\"}],\"parcoords\":[{\"type\":\"parcoords\",\"line\":{\"colorbar\":{\"outlinewidth\":0,\"ticks\":\"\"}}}],\"scatterpolargl\":[{\"type\":\"scatterpolargl\",\"marker\":{\"colorbar\":{\"outlinewidth\":0,\"ticks\":\"\"}}}],\"bar\":[{\"error_x\":{\"color\":\"#2a3f5f\"},\"error_y\":{\"color\":\"#2a3f5f\"},\"marker\":{\"line\":{\"color\":\"#E5ECF6\",\"width\":0.5},\"pattern\":{\"fillmode\":\"overlay\",\"size\":10,\"solidity\":0.2}},\"type\":\"bar\"}],\"scattergeo\":[{\"type\":\"scattergeo\",\"marker\":{\"colorbar\":{\"outlinewidth\":0,\"ticks\":\"\"}}}],\"scatterpolar\":[{\"type\":\"scatterpolar\",\"marker\":{\"colorbar\":{\"outlinewidth\":0,\"ticks\":\"\"}}}],\"histogram\":[{\"marker\":{\"pattern\":{\"fillmode\":\"overlay\",\"size\":10,\"solidity\":0.2}},\"type\":\"histogram\"}],\"scattergl\":[{\"type\":\"scattergl\",\"marker\":{\"colorbar\":{\"outlinewidth\":0,\"ticks\":\"\"}}}],\"scatter3d\":[{\"type\":\"scatter3d\",\"line\":{\"colorbar\":{\"outlinewidth\":0,\"ticks\":\"\"}},\"marker\":{\"colorbar\":{\"outlinewidth\":0,\"ticks\":\"\"}}}],\"scattermapbox\":[{\"type\":\"scattermapbox\",\"marker\":{\"colorbar\":{\"outlinewidth\":0,\"ticks\":\"\"}}}],\"scatterternary\":[{\"type\":\"scatterternary\",\"marker\":{\"colorbar\":{\"outlinewidth\":0,\"ticks\":\"\"}}}],\"scattercarpet\":[{\"type\":\"scattercarpet\",\"marker\":{\"colorbar\":{\"outlinewidth\":0,\"ticks\":\"\"}}}],\"carpet\":[{\"aaxis\":{\"endlinecolor\":\"#2a3f5f\",\"gridcolor\":\"white\",\"linecolor\":\"white\",\"minorgridcolor\":\"white\",\"startlinecolor\":\"#2a3f5f\"},\"baxis\":{\"endlinecolor\":\"#2a3f5f\",\"gridcolor\":\"white\",\"linecolor\":\"white\",\"minorgridcolor\":\"white\",\"startlinecolor\":\"#2a3f5f\"},\"type\":\"carpet\"}],\"table\":[{\"cells\":{\"fill\":{\"color\":\"#EBF0F8\"},\"line\":{\"color\":\"white\"}},\"header\":{\"fill\":{\"color\":\"#C8D4E3\"},\"line\":{\"color\":\"white\"}},\"type\":\"table\"}],\"barpolar\":[{\"marker\":{\"line\":{\"color\":\"#E5ECF6\",\"width\":0.5},\"pattern\":{\"fillmode\":\"overlay\",\"size\":10,\"solidity\":0.2}},\"type\":\"barpolar\"}],\"pie\":[{\"automargin\":true,\"type\":\"pie\"}]},\"layout\":{\"autotypenumbers\":\"strict\",\"colorway\":[\"#636efa\",\"#EF553B\",\"#00cc96\",\"#ab63fa\",\"#FFA15A\",\"#19d3f3\",\"#FF6692\",\"#B6E880\",\"#FF97FF\",\"#FECB52\"],\"font\":{\"color\":\"#2a3f5f\"},\"hovermode\":\"closest\",\"hoverlabel\":{\"align\":\"left\"},\"paper_bgcolor\":\"white\",\"plot_bgcolor\":\"#E5ECF6\",\"polar\":{\"bgcolor\":\"#E5ECF6\",\"angularaxis\":{\"gridcolor\":\"white\",\"linecolor\":\"white\",\"ticks\":\"\"},\"radialaxis\":{\"gridcolor\":\"white\",\"linecolor\":\"white\",\"ticks\":\"\"}},\"ternary\":{\"bgcolor\":\"#E5ECF6\",\"aaxis\":{\"gridcolor\":\"white\",\"linecolor\":\"white\",\"ticks\":\"\"},\"baxis\":{\"gridcolor\":\"white\",\"linecolor\":\"white\",\"ticks\":\"\"},\"caxis\":{\"gridcolor\":\"white\",\"linecolor\":\"white\",\"ticks\":\"\"}},\"coloraxis\":{\"colorbar\":{\"outlinewidth\":0,\"ticks\":\"\"}},\"colorscale\":{\"sequential\":[[0.0,\"#0d0887\"],[0.1111111111111111,\"#46039f\"],[0.2222222222222222,\"#7201a8\"],[0.3333333333333333,\"#9c179e\"],[0.4444444444444444,\"#bd3786\"],[0.5555555555555556,\"#d8576b\"],[0.6666666666666666,\"#ed7953\"],[0.7777777777777778,\"#fb9f3a\"],[0.8888888888888888,\"#fdca26\"],[1.0,\"#f0f921\"]],\"sequentialminus\":[[0.0,\"#0d0887\"],[0.1111111111111111,\"#46039f\"],[0.2222222222222222,\"#7201a8\"],[0.3333333333333333,\"#9c179e\"],[0.4444444444444444,\"#bd3786\"],[0.5555555555555556,\"#d8576b\"],[0.6666666666666666,\"#ed7953\"],[0.7777777777777778,\"#fb9f3a\"],[0.8888888888888888,\"#fdca26\"],[1.0,\"#f0f921\"]],\"diverging\":[[0,\"#8e0152\"],[0.1,\"#c51b7d\"],[0.2,\"#de77ae\"],[0.3,\"#f1b6da\"],[0.4,\"#fde0ef\"],[0.5,\"#f7f7f7\"],[0.6,\"#e6f5d0\"],[0.7,\"#b8e186\"],[0.8,\"#7fbc41\"],[0.9,\"#4d9221\"],[1,\"#276419\"]]},\"xaxis\":{\"gridcolor\":\"white\",\"linecolor\":\"white\",\"ticks\":\"\",\"title\":{\"standoff\":15},\"zerolinecolor\":\"white\",\"automargin\":true,\"zerolinewidth\":2},\"yaxis\":{\"gridcolor\":\"white\",\"linecolor\":\"white\",\"ticks\":\"\",\"title\":{\"standoff\":15},\"zerolinecolor\":\"white\",\"automargin\":true,\"zerolinewidth\":2},\"scene\":{\"xaxis\":{\"backgroundcolor\":\"#E5ECF6\",\"gridcolor\":\"white\",\"linecolor\":\"white\",\"showbackground\":true,\"ticks\":\"\",\"zerolinecolor\":\"white\",\"gridwidth\":2},\"yaxis\":{\"backgroundcolor\":\"#E5ECF6\",\"gridcolor\":\"white\",\"linecolor\":\"white\",\"showbackground\":true,\"ticks\":\"\",\"zerolinecolor\":\"white\",\"gridwidth\":2},\"zaxis\":{\"backgroundcolor\":\"#E5ECF6\",\"gridcolor\":\"white\",\"linecolor\":\"white\",\"showbackground\":true,\"ticks\":\"\",\"zerolinecolor\":\"white\",\"gridwidth\":2}},\"shapedefaults\":{\"line\":{\"color\":\"#2a3f5f\"}},\"annotationdefaults\":{\"arrowcolor\":\"#2a3f5f\",\"arrowhead\":0,\"arrowwidth\":1},\"geo\":{\"bgcolor\":\"white\",\"landcolor\":\"#E5ECF6\",\"subunitcolor\":\"white\",\"showland\":true,\"showlakes\":true,\"lakecolor\":\"white\"},\"title\":{\"x\":0.05},\"mapbox\":{\"style\":\"light\"}}}},                        {\"responsive\": true}                    ).then(function(){\n",
       "                            \n",
       "var gd = document.getElementById('a83743d4-bd05-4800-b544-d2e50400c967');\n",
       "var x = new MutationObserver(function (mutations, observer) {{\n",
       "        var display = window.getComputedStyle(gd).display;\n",
       "        if (!display || display === 'none') {{\n",
       "            console.log([gd, 'removed!']);\n",
       "            Plotly.purge(gd);\n",
       "            observer.disconnect();\n",
       "        }}\n",
       "}});\n",
       "\n",
       "// Listen for the removal of the full notebook cells\n",
       "var notebookContainer = gd.closest('#notebook-container');\n",
       "if (notebookContainer) {{\n",
       "    x.observe(notebookContainer, {childList: true});\n",
       "}}\n",
       "\n",
       "// Listen for the clearing of the current output cell\n",
       "var outputEl = gd.closest('.output');\n",
       "if (outputEl) {{\n",
       "    x.observe(outputEl, {childList: true});\n",
       "}}\n",
       "\n",
       "                        })                };                });            </script>        </div>"
      ]
     },
     "metadata": {},
     "output_type": "display_data"
    }
   ],
   "source": [
    "layout = go.Layout(title='Contribution Percentages of Top 5 Words in Your Resume')\n",
    "# Example data\n",
    "categories = ['A', 'B', 'C', 'D', 'E']\n",
    "values = [4, 3, 2, 5, 4]\n",
    "\n",
    "fig = go.Figure(layout=layout)\n",
    "fig.add_trace(\n",
    "    go.Scatterpolar(\n",
    "        r=df['percent'],\n",
    "        theta=df['word'],\n",
    "        fill='toself',\n",
    "        fillcolor='lightgreen',\n",
    "        name='Contribution Percentages'\n",
    "    )\n",
    ")\n",
    "\n",
    "\n",
    "fig.show()"
   ]
  },
  {
   "cell_type": "code",
   "execution_count": null,
   "id": "45907efd",
   "metadata": {},
   "outputs": [],
   "source": []
  },
  {
   "cell_type": "code",
   "execution_count": null,
   "id": "5f6b026c",
   "metadata": {},
   "outputs": [],
   "source": []
  }
 ],
 "metadata": {
  "kernelspec": {
   "display_name": "Python 3 (ipykernel)",
   "language": "python",
   "name": "python3"
  },
  "language_info": {
   "codemirror_mode": {
    "name": "ipython",
    "version": 3
   },
   "file_extension": ".py",
   "mimetype": "text/x-python",
   "name": "python",
   "nbconvert_exporter": "python",
   "pygments_lexer": "ipython3",
   "version": "3.9.13"
  }
 },
 "nbformat": 4,
 "nbformat_minor": 5
}
