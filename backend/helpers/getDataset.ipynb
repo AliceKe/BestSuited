{
 "cells": [
  {
   "cell_type": "code",
   "execution_count": 19,
   "metadata": {},
   "outputs": [],
   "source": [
    "import numpy as np\n",
    "import pandas as pd\n",
    "import csv\n",
    "import json"
   ]
  },
  {
   "cell_type": "code",
   "execution_count": 24,
   "metadata": {},
   "outputs": [],
   "source": [
    "def convert_to_csv(input_json, output_csv):\n",
    "    with open(input_json, \"r\", encoding=\"utf-8\") as jsonf:\n",
    "        data = json.load(jsonf)\n",
    "\n",
    "    header = list(data.keys())[0]\n",
    "\n",
    "    with open(output_csv, \"w\", newline=\"\", encoding=\"utf-8\") as csvf:\n",
    "        csv_writer = csv.writer(csvf)\n",
    "        \n",
    "        csv_writer.writerow(data[header][0].keys())\n",
    "        \n",
    "        for item in data[header]:\n",
    "            csv_writer.writerow(item.values())"
   ]
  },
  {
   "cell_type": "code",
   "execution_count": 25,
   "metadata": {},
   "outputs": [],
   "source": [
    "convert_to_csv(\"../data/data.json\", \"../data/final_data.csv\")"
   ]
  }
 ],
 "metadata": {
  "kernelspec": {
   "display_name": "base",
   "language": "python",
   "name": "python3"
  },
  "language_info": {
   "codemirror_mode": {
    "name": "ipython",
    "version": 3
   },
   "file_extension": ".py",
   "mimetype": "text/x-python",
   "name": "python",
   "nbconvert_exporter": "python",
   "pygments_lexer": "ipython3",
   "version": "3.11.4"
  }
 },
 "nbformat": 4,
 "nbformat_minor": 2
}
