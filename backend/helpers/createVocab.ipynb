{
 "cells": [
  {
   "cell_type": "code",
   "execution_count": 5,
   "metadata": {},
   "outputs": [],
   "source": [
    "import pandas as pd\n",
    "import numpy as np"
   ]
  },
  {
   "cell_type": "code",
   "execution_count": 6,
   "metadata": {},
   "outputs": [
    {
     "data": {
      "text/html": [
       "<div>\n",
       "<style scoped>\n",
       "    .dataframe tbody tr th:only-of-type {\n",
       "        vertical-align: middle;\n",
       "    }\n",
       "\n",
       "    .dataframe tbody tr th {\n",
       "        vertical-align: top;\n",
       "    }\n",
       "\n",
       "    .dataframe thead th {\n",
       "        text-align: right;\n",
       "    }\n",
       "</style>\n",
       "<table border=\"1\" class=\"dataframe\">\n",
       "  <thead>\n",
       "    <tr style=\"text-align: right;\">\n",
       "      <th></th>\n",
       "      <th>company</th>\n",
       "      <th>happiness</th>\n",
       "      <th>rating</th>\n",
       "      <th>description</th>\n",
       "      <th>role</th>\n",
       "      <th>salary range</th>\n",
       "      <th>skills</th>\n",
       "      <th>location</th>\n",
       "      <th>id</th>\n",
       "    </tr>\n",
       "  </thead>\n",
       "  <tbody>\n",
       "    <tr>\n",
       "      <th>0</th>\n",
       "      <td>DTE Energy</td>\n",
       "      <td>{'Work Happiness Score': '74', 'Learning': '80...</td>\n",
       "      <td>3.9</td>\n",
       "      <td>DTE Energy (NYSE: DTE) is a Detroit-based dive...</td>\n",
       "      <td>User Experience Designer</td>\n",
       "      <td>$64K-$119K</td>\n",
       "      <td>User-centered design principles UX/UI design t...</td>\n",
       "      <td>Belgrade</td>\n",
       "      <td>285544</td>\n",
       "    </tr>\n",
       "    <tr>\n",
       "      <th>1</th>\n",
       "      <td>AT&amp;T</td>\n",
       "      <td>{'Work Happiness Score': '65', 'Compensation':...</td>\n",
       "      <td>3.8</td>\n",
       "      <td>As the first truly modern media company, our p...</td>\n",
       "      <td>Client Relationship Manager</td>\n",
       "      <td>$61K-$91K</td>\n",
       "      <td>Client relationship management Customer servic...</td>\n",
       "      <td>Luxembourg</td>\n",
       "      <td>131639</td>\n",
       "    </tr>\n",
       "    <tr>\n",
       "      <th>2</th>\n",
       "      <td>Dell Technologies</td>\n",
       "      <td>{'Work Happiness Score': '75', 'Flexibility': ...</td>\n",
       "      <td>4.0</td>\n",
       "      <td>You want a meaningful career. You want to driv...</td>\n",
       "      <td>Crisis Communication Manager</td>\n",
       "      <td>$59K-$88K</td>\n",
       "      <td>Crisis communication planning Crisis response ...</td>\n",
       "      <td>Budapest</td>\n",
       "      <td>245203</td>\n",
       "    </tr>\n",
       "    <tr>\n",
       "      <th>3</th>\n",
       "      <td>Lowe's</td>\n",
       "      <td>{'Work Happiness Score': '59', 'Achievement': ...</td>\n",
       "      <td>3.6</td>\n",
       "      <td>Lowe's Companies, Inc. (NYSE: LOW) is a FORTUN...</td>\n",
       "      <td>Account Manager</td>\n",
       "      <td>$65K-$129K</td>\n",
       "      <td>Account management Customer relationship manag...</td>\n",
       "      <td>Yaounde</td>\n",
       "      <td>158053</td>\n",
       "    </tr>\n",
       "    <tr>\n",
       "      <th>4</th>\n",
       "      <td>Mosaic</td>\n",
       "      <td>{'Work Happiness Score': '62', 'Achievement': ...</td>\n",
       "      <td>3.7</td>\n",
       "      <td>Mosaic is among the fastest growing agencies i...</td>\n",
       "      <td>Event Planner</td>\n",
       "      <td>$62K-$96K</td>\n",
       "      <td>Event planning and coordination Budget managem...</td>\n",
       "      <td>Riyadh</td>\n",
       "      <td>52397</td>\n",
       "    </tr>\n",
       "  </tbody>\n",
       "</table>\n",
       "</div>"
      ],
      "text/plain": [
       "             company                                          happiness  \\\n",
       "0         DTE Energy  {'Work Happiness Score': '74', 'Learning': '80...   \n",
       "1               AT&T  {'Work Happiness Score': '65', 'Compensation':...   \n",
       "2  Dell Technologies  {'Work Happiness Score': '75', 'Flexibility': ...   \n",
       "3             Lowe's  {'Work Happiness Score': '59', 'Achievement': ...   \n",
       "4             Mosaic  {'Work Happiness Score': '62', 'Achievement': ...   \n",
       "\n",
       "   rating                                        description  \\\n",
       "0     3.9  DTE Energy (NYSE: DTE) is a Detroit-based dive...   \n",
       "1     3.8  As the first truly modern media company, our p...   \n",
       "2     4.0  You want a meaningful career. You want to driv...   \n",
       "3     3.6  Lowe's Companies, Inc. (NYSE: LOW) is a FORTUN...   \n",
       "4     3.7  Mosaic is among the fastest growing agencies i...   \n",
       "\n",
       "                           role salary range  \\\n",
       "0      User Experience Designer   $64K-$119K   \n",
       "1   Client Relationship Manager    $61K-$91K   \n",
       "2  Crisis Communication Manager    $59K-$88K   \n",
       "3               Account Manager   $65K-$129K   \n",
       "4                 Event Planner    $62K-$96K   \n",
       "\n",
       "                                              skills    location      id  \n",
       "0  User-centered design principles UX/UI design t...    Belgrade  285544  \n",
       "1  Client relationship management Customer servic...  Luxembourg  131639  \n",
       "2  Crisis communication planning Crisis response ...    Budapest  245203  \n",
       "3  Account management Customer relationship manag...     Yaounde  158053  \n",
       "4  Event planning and coordination Budget managem...      Riyadh   52397  "
      ]
     },
     "execution_count": 6,
     "metadata": {},
     "output_type": "execute_result"
    }
   ],
   "source": [
    "dataset = pd.read_csv(\"../data/final_data.csv\")\n",
    "dataset.head()"
   ]
  },
  {
   "cell_type": "code",
   "execution_count": 8,
   "metadata": {},
   "outputs": [],
   "source": [
    "skills = dataset['skills'].str.split(\" \").explode()\n",
    "skills = set(skills)\n",
    "titles = dataset['role'].explode()\n",
    "titles = set(titles)\n",
    "vocab = skills.union(titles)\n",
    "vocab = set(vocab)"
   ]
  },
  {
   "cell_type": "code",
   "execution_count": 9,
   "metadata": {},
   "outputs": [],
   "source": [
    "def remove_non_letters_from_set(input_set):\n",
    "    res = set()\n",
    "    for item in input_set:\n",
    "        while item and not item[0].isalpha():\n",
    "            item = item[1:]\n",
    "\n",
    "        while item and not item[-1].isalpha():\n",
    "            item = item[:-1]\n",
    "            \n",
    "        res.add(item)\n",
    "    return res"
   ]
  },
  {
   "cell_type": "code",
   "execution_count": 10,
   "metadata": {},
   "outputs": [],
   "source": [
    "vocab = remove_non_letters_from_set(vocab)"
   ]
  },
  {
   "cell_type": "code",
   "execution_count": 11,
   "metadata": {},
   "outputs": [],
   "source": [
    "file_path = '../data/vocab.txt'\n",
    "\n",
    "with open(file_path, 'w') as f:\n",
    "    for word in vocab:\n",
    "        word = word.lower()\n",
    "        f.write(word + '\\n')"
   ]
  }
 ],
 "metadata": {
  "kernelspec": {
   "display_name": "base",
   "language": "python",
   "name": "python3"
  },
  "language_info": {
   "codemirror_mode": {
    "name": "ipython",
    "version": 3
   },
   "file_extension": ".py",
   "mimetype": "text/x-python",
   "name": "python",
   "nbconvert_exporter": "python",
   "pygments_lexer": "ipython3",
   "version": "3.11.4"
  }
 },
 "nbformat": 4,
 "nbformat_minor": 2
}
