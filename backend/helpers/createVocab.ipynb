{
 "cells": [
  {
   "cell_type": "code",
   "execution_count": 29,
   "metadata": {},
   "outputs": [],
   "source": [
    "import pandas as pd\n",
    "import numpy as np"
   ]
  },
  {
   "cell_type": "code",
   "execution_count": 32,
   "metadata": {},
   "outputs": [
    {
     "data": {
      "text/html": [
       "<div>\n",
       "<style scoped>\n",
       "    .dataframe tbody tr th:only-of-type {\n",
       "        vertical-align: middle;\n",
       "    }\n",
       "\n",
       "    .dataframe tbody tr th {\n",
       "        vertical-align: top;\n",
       "    }\n",
       "\n",
       "    .dataframe thead th {\n",
       "        text-align: right;\n",
       "    }\n",
       "</style>\n",
       "<table border=\"1\" class=\"dataframe\">\n",
       "  <thead>\n",
       "    <tr style=\"text-align: right;\">\n",
       "      <th></th>\n",
       "      <th>Company</th>\n",
       "      <th>happiness</th>\n",
       "      <th>rating</th>\n",
       "      <th>description</th>\n",
       "      <th>Role</th>\n",
       "      <th>Salary Range</th>\n",
       "      <th>skills</th>\n",
       "      <th>location</th>\n",
       "    </tr>\n",
       "  </thead>\n",
       "  <tbody>\n",
       "    <tr>\n",
       "      <th>0</th>\n",
       "      <td>American Tower</td>\n",
       "      <td>{'Work Happiness Score': '65', 'Flexibility': ...</td>\n",
       "      <td>3.8</td>\n",
       "      <td>With the rollout of new wireless technologies ...</td>\n",
       "      <td>Small Animal Veterinarian</td>\n",
       "      <td>$65K-$107K</td>\n",
       "      <td>Veterinary medicine Small animal care and surg...</td>\n",
       "      <td>Douglas</td>\n",
       "    </tr>\n",
       "    <tr>\n",
       "      <th>1</th>\n",
       "      <td>American Tower</td>\n",
       "      <td>{'Work Happiness Score': '65', 'Flexibility': ...</td>\n",
       "      <td>3.8</td>\n",
       "      <td>With the rollout of new wireless technologies ...</td>\n",
       "      <td>Data Business Analyst</td>\n",
       "      <td>$58K-$122K</td>\n",
       "      <td>Data analysis Data modeling Data visualization...</td>\n",
       "      <td>Bamako</td>\n",
       "    </tr>\n",
       "    <tr>\n",
       "      <th>2</th>\n",
       "      <td>AmerisourceBergen</td>\n",
       "      <td>{'Work Happiness Score': '59', 'Compensation':...</td>\n",
       "      <td>3.4</td>\n",
       "      <td>AmerisourceBergen provides pharmaceutical prod...</td>\n",
       "      <td>Water Resources Engineer</td>\n",
       "      <td>$58K-$117K</td>\n",
       "      <td>Water resources engineering Hydrology and hydr...</td>\n",
       "      <td>Mbabane</td>\n",
       "    </tr>\n",
       "    <tr>\n",
       "      <th>3</th>\n",
       "      <td>AmerisourceBergen</td>\n",
       "      <td>{'Work Happiness Score': '59', 'Compensation':...</td>\n",
       "      <td>3.4</td>\n",
       "      <td>AmerisourceBergen provides pharmaceutical prod...</td>\n",
       "      <td>Personal Secretary</td>\n",
       "      <td>$59K-$124K</td>\n",
       "      <td>Administrative support Calendar management Com...</td>\n",
       "      <td>Caracas</td>\n",
       "    </tr>\n",
       "    <tr>\n",
       "      <th>4</th>\n",
       "      <td>MetLife</td>\n",
       "      <td>{'Work Happiness Score': '67', 'Flexibility': ...</td>\n",
       "      <td>3.8</td>\n",
       "      <td>MetLife offers solutions and guidance to help ...</td>\n",
       "      <td>Nursing Director</td>\n",
       "      <td>$60K-$125K</td>\n",
       "      <td>Nursing management Patient care coordination S...</td>\n",
       "      <td>Macao</td>\n",
       "    </tr>\n",
       "  </tbody>\n",
       "</table>\n",
       "</div>"
      ],
      "text/plain": [
       "             Company                                          happiness  \\\n",
       "0     American Tower  {'Work Happiness Score': '65', 'Flexibility': ...   \n",
       "1     American Tower  {'Work Happiness Score': '65', 'Flexibility': ...   \n",
       "2  AmerisourceBergen  {'Work Happiness Score': '59', 'Compensation':...   \n",
       "3  AmerisourceBergen  {'Work Happiness Score': '59', 'Compensation':...   \n",
       "4            MetLife  {'Work Happiness Score': '67', 'Flexibility': ...   \n",
       "\n",
       "   rating                                        description  \\\n",
       "0     3.8  With the rollout of new wireless technologies ...   \n",
       "1     3.8  With the rollout of new wireless technologies ...   \n",
       "2     3.4  AmerisourceBergen provides pharmaceutical prod...   \n",
       "3     3.4  AmerisourceBergen provides pharmaceutical prod...   \n",
       "4     3.8  MetLife offers solutions and guidance to help ...   \n",
       "\n",
       "                        Role Salary Range  \\\n",
       "0  Small Animal Veterinarian   $65K-$107K   \n",
       "1      Data Business Analyst   $58K-$122K   \n",
       "2   Water Resources Engineer   $58K-$117K   \n",
       "3         Personal Secretary   $59K-$124K   \n",
       "4           Nursing Director   $60K-$125K   \n",
       "\n",
       "                                              skills location  \n",
       "0  Veterinary medicine Small animal care and surg...  Douglas  \n",
       "1  Data analysis Data modeling Data visualization...   Bamako  \n",
       "2  Water resources engineering Hydrology and hydr...  Mbabane  \n",
       "3  Administrative support Calendar management Com...  Caracas  \n",
       "4  Nursing management Patient care coordination S...    Macao  "
      ]
     },
     "execution_count": 32,
     "metadata": {},
     "output_type": "execute_result"
    }
   ],
   "source": [
    "dataset = pd.read_csv(\"../data/data_old.csv\")\n",
    "dataset.head()"
   ]
  },
  {
   "cell_type": "code",
   "execution_count": 35,
   "metadata": {},
   "outputs": [],
   "source": [
    "skills = dataset['skills'].str.split(\" \").explode()\n",
    "skills = set(skills)\n",
    "titles = dataset['Role'].explode()\n",
    "titles = set(titles)\n",
    "vocab = skills.union(titles)\n",
    "vocab = set(vocab)"
   ]
  },
  {
   "cell_type": "code",
   "execution_count": 36,
   "metadata": {},
   "outputs": [],
   "source": [
    "def remove_non_letters_from_set(input_set):\n",
    "    res = set()\n",
    "    for item in input_set:\n",
    "        while item and not item[0].isalpha():\n",
    "            item = item[1:]\n",
    "\n",
    "        while item and not item[-1].isalpha():\n",
    "            item = item[:-1]\n",
    "            \n",
    "        res.add(item)\n",
    "    return res"
   ]
  },
  {
   "cell_type": "code",
   "execution_count": 37,
   "metadata": {},
   "outputs": [],
   "source": [
    "vocab = remove_non_letters_from_set(vocab)"
   ]
  },
  {
   "cell_type": "code",
   "execution_count": 39,
   "metadata": {},
   "outputs": [],
   "source": [
    "file_path = '../data/vocab.txt'\n",
    "\n",
    "with open(file_path, 'w') as f:\n",
    "    for word in vocab:\n",
    "        f.write(word + '\\n')"
   ]
  },
  {
   "cell_type": "code",
   "execution_count": null,
   "metadata": {},
   "outputs": [],
   "source": []
  }
 ],
 "metadata": {
  "kernelspec": {
   "display_name": "base",
   "language": "python",
   "name": "python3"
  },
  "language_info": {
   "codemirror_mode": {
    "name": "ipython",
    "version": 3
   },
   "file_extension": ".py",
   "mimetype": "text/x-python",
   "name": "python",
   "nbconvert_exporter": "python",
   "pygments_lexer": "ipython3",
   "version": "3.11.4"
  }
 },
 "nbformat": 4,
 "nbformat_minor": 2
}
